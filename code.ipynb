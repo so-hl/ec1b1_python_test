{
 "cells": [
  {
   "cell_type": "code",
   "execution_count": 1,
   "metadata": {},
   "outputs": [],
   "source": [
    "# Imports\n",
    "import pandas as pd\n",
    "import plotly.express as px\n",
    "import numpy as np\n",
    "import statsmodels.formula.api as smf"
   ]
  },
  {
   "cell_type": "code",
   "execution_count": 2,
   "metadata": {},
   "outputs": [
    {
     "name": "stdout",
     "output_type": "stream",
     "text": [
      "['Info', 'Legend', 'rgdpna', 'rnna', 'emp', 'hc', 'pop', 'labsh']\n"
     ]
    }
   ],
   "source": [
    "# List all sheets in Excel file\n",
    "file_path = 'data/PWT_EC1B1_2025.xlsx'\n",
    "sheets = pd.ExcelFile(file_path).sheet_names\n",
    "print(sheets)"
   ]
  },
  {
   "cell_type": "code",
   "execution_count": 3,
   "metadata": {},
   "outputs": [
    {
     "name": "stdout",
     "output_type": "stream",
     "text": [
      "  countrycode country currency_unit  year        rgdpna          rnna  \\\n",
      "0         AGO  Angola        Kwanza  1970  54237.054688  295517.62500   \n",
      "1         AGO  Angola        Kwanza  1971  57491.277344  314195.09375   \n",
      "2         AGO  Angola        Kwanza  1972  57606.261719  332435.84375   \n",
      "3         AGO  Angola        Kwanza  1973  62272.367188  352647.90625   \n",
      "4         AGO  Angola        Kwanza  1974  64202.808594  373267.71875   \n",
      "\n",
      "        emp        hc       pop     labsh  \n",
      "0  3.666207  1.015686  5.890365  0.284385  \n",
      "1  3.742484  1.018196  6.040777  0.284385  \n",
      "2  3.853271  1.020712  6.248552  0.284385  \n",
      "3  3.987807  1.023234  6.496962  0.284385  \n",
      "4  4.130696  1.025762  6.761380  0.284385  \n"
     ]
    }
   ],
   "source": [
    "# Combinde df of selected sheets\n",
    "selected_sheets = sheets[2:]\n",
    "merged_df = None\n",
    "\n",
    "for sheet in selected_sheets:\n",
    "    df = pd.read_excel(file_path, sheet_name=sheet)\n",
    "    \n",
    "    if merged_df is None:\n",
    "        merged_df = df\n",
    "    else:\n",
    "        merged_df = pd.merge(merged_df, df, on=['countrycode', 'country', 'currency_unit', 'year'], how='outer')\n",
    "\n",
    "print(merged_df.head())"
   ]
  },
  {
   "cell_type": "markdown",
   "metadata": {},
   "source": [
    "### **Data Cleaning**"
   ]
  },
  {
   "cell_type": "code",
   "execution_count": 4,
   "metadata": {},
   "outputs": [],
   "source": [
    "# Drop countrycode, pop, labsh\n",
    "df = merged_df.drop(columns=['countrycode','pop', 'labsh'])"
   ]
  },
  {
   "cell_type": "code",
   "execution_count": 5,
   "metadata": {},
   "outputs": [],
   "source": [
    "# Drop empty emp \n",
    "df = df.dropna(subset=['emp'])"
   ]
  },
  {
   "cell_type": "code",
   "execution_count": 6,
   "metadata": {},
   "outputs": [
    {
     "name": "stdout",
     "output_type": "stream",
     "text": [
      "Empty DataFrame\n",
      "Columns: [country, currency_unit, year, rgdpna, rnna, emp, hc]\n",
      "Index: []\n"
     ]
    }
   ],
   "source": [
    "# Check any more na values\n",
    "print(df[df.isna().any(axis=1)])"
   ]
  },
  {
   "cell_type": "code",
   "execution_count": 7,
   "metadata": {},
   "outputs": [],
   "source": [
    "# Rename\n",
    "df = df.rename(columns={'country': 'Country', 'currency_unit': 'Currency Unit', 'year': 'Year', 'rgdpna': 'Real GDP', 'rnna': 'Capital', 'emp': 'Labour', 'hc': 'Human Capital'})"
   ]
  },
  {
   "cell_type": "code",
   "execution_count": 8,
   "metadata": {},
   "outputs": [],
   "source": [
    "# I am looking at Australia\n",
    "aus_df = df[df['Country'] == 'Australia'].reset_index(drop=True).drop(columns=['Country', 'Currency Unit'])"
   ]
  },
  {
   "cell_type": "markdown",
   "metadata": {},
   "source": [
    "### **Data Visualisation**"
   ]
  },
  {
   "cell_type": "code",
   "execution_count": 9,
   "metadata": {},
   "outputs": [
    {
     "data": {
      "application/vnd.plotly.v1+json": {
       "config": {
        "plotlyServerURL": "https://plot.ly"
       },
       "data": [
        {
         "hovertemplate": "Year=%{x}<br>Real GDP=%{y}<extra></extra>",
         "legendgroup": "",
         "marker": {
          "color": "#4682B4",
          "symbol": "circle"
         },
         "mode": "markers",
         "name": "",
         "orientation": "v",
         "showlegend": false,
         "type": "scatter",
         "x": [
          1950,
          1951,
          1952,
          1953,
          1954,
          1955,
          1956,
          1957,
          1958,
          1959,
          1960,
          1961,
          1962,
          1963,
          1964,
          1965,
          1966,
          1967,
          1968,
          1969,
          1970,
          1971,
          1972,
          1973,
          1974,
          1975,
          1976,
          1977,
          1978,
          1979,
          1980,
          1981,
          1982,
          1983,
          1984,
          1985,
          1986,
          1987,
          1988,
          1989,
          1990,
          1991,
          1992,
          1993,
          1994,
          1995,
          1996,
          1997,
          1998,
          1999,
          2000,
          2001,
          2002,
          2003,
          2004,
          2005,
          2006,
          2007,
          2008,
          2009,
          2010,
          2011,
          2012,
          2013,
          2014,
          2015,
          2016,
          2017,
          2018,
          2019
         ],
         "xaxis": "x",
         "y": [
          127476.03125,
          130718.296875,
          125367.6875,
          138968.328125,
          150078.1875,
          155997.84375,
          156355.90625,
          159780.625,
          170618.890625,
          181070.375,
          185281.28125,
          187807.84375,
          199598.484375,
          213073.5,
          226548.46875,
          231601.609375,
          245918.8125,
          258551.625,
          277079.75,
          297292.28125,
          309082.875,
          321175.8125,
          329570.46875,
          343093.96875,
          347725.40625,
          356723.5,
          369556.375,
          372870.84375,
          387947.84375,
          399719.125,
          413060.8125,
          426809.28125,
          417332.125,
          436451.34375,
          459362.125,
          477909,
          490101.28125,
          518249.65625,
          538260.1875,
          557481.5,
          555263.6875,
          557552.375,
          580021.25,
          603128.6875,
          626275.25,
          650565.875,
          676370.8125,
          707326.1875,
          743213.0625,
          772444.6875,
          787359.5,
          818864.9375,
          843315.6875,
          877516,
          905633.9375,
          930942.25,
          966729.75,
          1002092.3125,
          1021502.75,
          1042621.5,
          1068298.625,
          1110156.375,
          1138852.875,
          1167701.25,
          1193304.875,
          1226367.125,
          1254581,
          1291582.25,
          1319492.875,
          1315734.25
         ],
         "yaxis": "y"
        },
        {
         "hovertemplate": "<b>OLS trendline</b><br>Real GDP = 17322.9 * Year + -3.3808e+07<br>R<sup>2</sup>=0.945637<br><br>Year=%{x}<br>Real GDP=%{y} <b>(trend)</b><extra></extra>",
         "legendgroup": "",
         "line": {
          "color": "#D3D3D3"
         },
         "marker": {
          "color": "#4682B4",
          "symbol": "circle"
         },
         "mode": "lines",
         "name": "",
         "showlegend": false,
         "type": "scatter",
         "x": [
          1950,
          1951,
          1952,
          1953,
          1954,
          1955,
          1956,
          1957,
          1958,
          1959,
          1960,
          1961,
          1962,
          1963,
          1964,
          1965,
          1966,
          1967,
          1968,
          1969,
          1970,
          1971,
          1972,
          1973,
          1974,
          1975,
          1976,
          1977,
          1978,
          1979,
          1980,
          1981,
          1982,
          1983,
          1984,
          1985,
          1986,
          1987,
          1988,
          1989,
          1990,
          1991,
          1992,
          1993,
          1994,
          1995,
          1996,
          1997,
          1998,
          1999,
          2000,
          2001,
          2002,
          2003,
          2004,
          2005,
          2006,
          2007,
          2008,
          2009,
          2010,
          2011,
          2012,
          2013,
          2014,
          2015,
          2016,
          2017,
          2018,
          2019
         ],
         "xaxis": "x",
         "y": [
          -28402.91151911146,
          -11080.060518816219,
          6242.790481479024,
          23565.641481774266,
          40888.49248206951,
          58211.343482364755,
          75534.19448266,
          92857.04548295523,
          110179.89648325049,
          127502.74748354573,
          144825.59848384096,
          162148.44948413622,
          179471.30048443144,
          196794.1514847267,
          214117.00248502195,
          231439.85348531717,
          248762.70448561243,
          266085.55548590765,
          283408.4064862029,
          300731.25748649816,
          318054.1084867934,
          335376.9594870886,
          352699.81048738386,
          370022.6614876791,
          387345.51248797437,
          404668.3634882696,
          421991.2144885649,
          439314.06548886007,
          456636.9164891553,
          473959.7674894506,
          491282.61848974583,
          508605.4694900411,
          525928.3204903363,
          543251.1714906315,
          560574.0224909268,
          577896.873491222,
          595219.7244915173,
          612542.5754918125,
          629865.4264921078,
          647188.277492403,
          664511.1284926982,
          681833.9794929934,
          699156.8304932887,
          716479.681493584,
          733802.5324938792,
          751125.3834941745,
          768448.2344944697,
          785771.085494765,
          803093.9364950602,
          820416.7874953555,
          837739.6384956506,
          855062.4894959459,
          872385.3404962411,
          889708.1914965364,
          907031.0424968316,
          924353.8934971269,
          941676.7444974221,
          958999.5954977174,
          976322.4464980126,
          993645.2974983079,
          1010968.1484986031,
          1028290.9994988983,
          1045613.8504991935,
          1062936.701499489,
          1080259.5524997842,
          1097582.4035000794,
          1114905.2545003747,
          1132228.1055006697,
          1149550.956500965,
          1166873.8075012602
         ],
         "yaxis": "y"
        }
       ],
       "layout": {
        "legend": {
         "tracegroupgap": 0
        },
        "plot_bgcolor": "rgba(0,0,0,0)",
        "template": {
         "data": {
          "bar": [
           {
            "error_x": {
             "color": "#2a3f5f"
            },
            "error_y": {
             "color": "#2a3f5f"
            },
            "marker": {
             "line": {
              "color": "#E5ECF6",
              "width": 0.5
             },
             "pattern": {
              "fillmode": "overlay",
              "size": 10,
              "solidity": 0.2
             }
            },
            "type": "bar"
           }
          ],
          "barpolar": [
           {
            "marker": {
             "line": {
              "color": "#E5ECF6",
              "width": 0.5
             },
             "pattern": {
              "fillmode": "overlay",
              "size": 10,
              "solidity": 0.2
             }
            },
            "type": "barpolar"
           }
          ],
          "carpet": [
           {
            "aaxis": {
             "endlinecolor": "#2a3f5f",
             "gridcolor": "white",
             "linecolor": "white",
             "minorgridcolor": "white",
             "startlinecolor": "#2a3f5f"
            },
            "baxis": {
             "endlinecolor": "#2a3f5f",
             "gridcolor": "white",
             "linecolor": "white",
             "minorgridcolor": "white",
             "startlinecolor": "#2a3f5f"
            },
            "type": "carpet"
           }
          ],
          "choropleth": [
           {
            "colorbar": {
             "outlinewidth": 0,
             "ticks": ""
            },
            "type": "choropleth"
           }
          ],
          "contour": [
           {
            "colorbar": {
             "outlinewidth": 0,
             "ticks": ""
            },
            "colorscale": [
             [
              0,
              "#0d0887"
             ],
             [
              0.1111111111111111,
              "#46039f"
             ],
             [
              0.2222222222222222,
              "#7201a8"
             ],
             [
              0.3333333333333333,
              "#9c179e"
             ],
             [
              0.4444444444444444,
              "#bd3786"
             ],
             [
              0.5555555555555556,
              "#d8576b"
             ],
             [
              0.6666666666666666,
              "#ed7953"
             ],
             [
              0.7777777777777778,
              "#fb9f3a"
             ],
             [
              0.8888888888888888,
              "#fdca26"
             ],
             [
              1,
              "#f0f921"
             ]
            ],
            "type": "contour"
           }
          ],
          "contourcarpet": [
           {
            "colorbar": {
             "outlinewidth": 0,
             "ticks": ""
            },
            "type": "contourcarpet"
           }
          ],
          "heatmap": [
           {
            "colorbar": {
             "outlinewidth": 0,
             "ticks": ""
            },
            "colorscale": [
             [
              0,
              "#0d0887"
             ],
             [
              0.1111111111111111,
              "#46039f"
             ],
             [
              0.2222222222222222,
              "#7201a8"
             ],
             [
              0.3333333333333333,
              "#9c179e"
             ],
             [
              0.4444444444444444,
              "#bd3786"
             ],
             [
              0.5555555555555556,
              "#d8576b"
             ],
             [
              0.6666666666666666,
              "#ed7953"
             ],
             [
              0.7777777777777778,
              "#fb9f3a"
             ],
             [
              0.8888888888888888,
              "#fdca26"
             ],
             [
              1,
              "#f0f921"
             ]
            ],
            "type": "heatmap"
           }
          ],
          "heatmapgl": [
           {
            "colorbar": {
             "outlinewidth": 0,
             "ticks": ""
            },
            "colorscale": [
             [
              0,
              "#0d0887"
             ],
             [
              0.1111111111111111,
              "#46039f"
             ],
             [
              0.2222222222222222,
              "#7201a8"
             ],
             [
              0.3333333333333333,
              "#9c179e"
             ],
             [
              0.4444444444444444,
              "#bd3786"
             ],
             [
              0.5555555555555556,
              "#d8576b"
             ],
             [
              0.6666666666666666,
              "#ed7953"
             ],
             [
              0.7777777777777778,
              "#fb9f3a"
             ],
             [
              0.8888888888888888,
              "#fdca26"
             ],
             [
              1,
              "#f0f921"
             ]
            ],
            "type": "heatmapgl"
           }
          ],
          "histogram": [
           {
            "marker": {
             "pattern": {
              "fillmode": "overlay",
              "size": 10,
              "solidity": 0.2
             }
            },
            "type": "histogram"
           }
          ],
          "histogram2d": [
           {
            "colorbar": {
             "outlinewidth": 0,
             "ticks": ""
            },
            "colorscale": [
             [
              0,
              "#0d0887"
             ],
             [
              0.1111111111111111,
              "#46039f"
             ],
             [
              0.2222222222222222,
              "#7201a8"
             ],
             [
              0.3333333333333333,
              "#9c179e"
             ],
             [
              0.4444444444444444,
              "#bd3786"
             ],
             [
              0.5555555555555556,
              "#d8576b"
             ],
             [
              0.6666666666666666,
              "#ed7953"
             ],
             [
              0.7777777777777778,
              "#fb9f3a"
             ],
             [
              0.8888888888888888,
              "#fdca26"
             ],
             [
              1,
              "#f0f921"
             ]
            ],
            "type": "histogram2d"
           }
          ],
          "histogram2dcontour": [
           {
            "colorbar": {
             "outlinewidth": 0,
             "ticks": ""
            },
            "colorscale": [
             [
              0,
              "#0d0887"
             ],
             [
              0.1111111111111111,
              "#46039f"
             ],
             [
              0.2222222222222222,
              "#7201a8"
             ],
             [
              0.3333333333333333,
              "#9c179e"
             ],
             [
              0.4444444444444444,
              "#bd3786"
             ],
             [
              0.5555555555555556,
              "#d8576b"
             ],
             [
              0.6666666666666666,
              "#ed7953"
             ],
             [
              0.7777777777777778,
              "#fb9f3a"
             ],
             [
              0.8888888888888888,
              "#fdca26"
             ],
             [
              1,
              "#f0f921"
             ]
            ],
            "type": "histogram2dcontour"
           }
          ],
          "mesh3d": [
           {
            "colorbar": {
             "outlinewidth": 0,
             "ticks": ""
            },
            "type": "mesh3d"
           }
          ],
          "parcoords": [
           {
            "line": {
             "colorbar": {
              "outlinewidth": 0,
              "ticks": ""
             }
            },
            "type": "parcoords"
           }
          ],
          "pie": [
           {
            "automargin": true,
            "type": "pie"
           }
          ],
          "scatter": [
           {
            "fillpattern": {
             "fillmode": "overlay",
             "size": 10,
             "solidity": 0.2
            },
            "type": "scatter"
           }
          ],
          "scatter3d": [
           {
            "line": {
             "colorbar": {
              "outlinewidth": 0,
              "ticks": ""
             }
            },
            "marker": {
             "colorbar": {
              "outlinewidth": 0,
              "ticks": ""
             }
            },
            "type": "scatter3d"
           }
          ],
          "scattercarpet": [
           {
            "marker": {
             "colorbar": {
              "outlinewidth": 0,
              "ticks": ""
             }
            },
            "type": "scattercarpet"
           }
          ],
          "scattergeo": [
           {
            "marker": {
             "colorbar": {
              "outlinewidth": 0,
              "ticks": ""
             }
            },
            "type": "scattergeo"
           }
          ],
          "scattergl": [
           {
            "marker": {
             "colorbar": {
              "outlinewidth": 0,
              "ticks": ""
             }
            },
            "type": "scattergl"
           }
          ],
          "scattermapbox": [
           {
            "marker": {
             "colorbar": {
              "outlinewidth": 0,
              "ticks": ""
             }
            },
            "type": "scattermapbox"
           }
          ],
          "scatterpolar": [
           {
            "marker": {
             "colorbar": {
              "outlinewidth": 0,
              "ticks": ""
             }
            },
            "type": "scatterpolar"
           }
          ],
          "scatterpolargl": [
           {
            "marker": {
             "colorbar": {
              "outlinewidth": 0,
              "ticks": ""
             }
            },
            "type": "scatterpolargl"
           }
          ],
          "scatterternary": [
           {
            "marker": {
             "colorbar": {
              "outlinewidth": 0,
              "ticks": ""
             }
            },
            "type": "scatterternary"
           }
          ],
          "surface": [
           {
            "colorbar": {
             "outlinewidth": 0,
             "ticks": ""
            },
            "colorscale": [
             [
              0,
              "#0d0887"
             ],
             [
              0.1111111111111111,
              "#46039f"
             ],
             [
              0.2222222222222222,
              "#7201a8"
             ],
             [
              0.3333333333333333,
              "#9c179e"
             ],
             [
              0.4444444444444444,
              "#bd3786"
             ],
             [
              0.5555555555555556,
              "#d8576b"
             ],
             [
              0.6666666666666666,
              "#ed7953"
             ],
             [
              0.7777777777777778,
              "#fb9f3a"
             ],
             [
              0.8888888888888888,
              "#fdca26"
             ],
             [
              1,
              "#f0f921"
             ]
            ],
            "type": "surface"
           }
          ],
          "table": [
           {
            "cells": {
             "fill": {
              "color": "#EBF0F8"
             },
             "line": {
              "color": "white"
             }
            },
            "header": {
             "fill": {
              "color": "#C8D4E3"
             },
             "line": {
              "color": "white"
             }
            },
            "type": "table"
           }
          ]
         },
         "layout": {
          "annotationdefaults": {
           "arrowcolor": "#2a3f5f",
           "arrowhead": 0,
           "arrowwidth": 1
          },
          "autotypenumbers": "strict",
          "coloraxis": {
           "colorbar": {
            "outlinewidth": 0,
            "ticks": ""
           }
          },
          "colorscale": {
           "diverging": [
            [
             0,
             "#8e0152"
            ],
            [
             0.1,
             "#c51b7d"
            ],
            [
             0.2,
             "#de77ae"
            ],
            [
             0.3,
             "#f1b6da"
            ],
            [
             0.4,
             "#fde0ef"
            ],
            [
             0.5,
             "#f7f7f7"
            ],
            [
             0.6,
             "#e6f5d0"
            ],
            [
             0.7,
             "#b8e186"
            ],
            [
             0.8,
             "#7fbc41"
            ],
            [
             0.9,
             "#4d9221"
            ],
            [
             1,
             "#276419"
            ]
           ],
           "sequential": [
            [
             0,
             "#0d0887"
            ],
            [
             0.1111111111111111,
             "#46039f"
            ],
            [
             0.2222222222222222,
             "#7201a8"
            ],
            [
             0.3333333333333333,
             "#9c179e"
            ],
            [
             0.4444444444444444,
             "#bd3786"
            ],
            [
             0.5555555555555556,
             "#d8576b"
            ],
            [
             0.6666666666666666,
             "#ed7953"
            ],
            [
             0.7777777777777778,
             "#fb9f3a"
            ],
            [
             0.8888888888888888,
             "#fdca26"
            ],
            [
             1,
             "#f0f921"
            ]
           ],
           "sequentialminus": [
            [
             0,
             "#0d0887"
            ],
            [
             0.1111111111111111,
             "#46039f"
            ],
            [
             0.2222222222222222,
             "#7201a8"
            ],
            [
             0.3333333333333333,
             "#9c179e"
            ],
            [
             0.4444444444444444,
             "#bd3786"
            ],
            [
             0.5555555555555556,
             "#d8576b"
            ],
            [
             0.6666666666666666,
             "#ed7953"
            ],
            [
             0.7777777777777778,
             "#fb9f3a"
            ],
            [
             0.8888888888888888,
             "#fdca26"
            ],
            [
             1,
             "#f0f921"
            ]
           ]
          },
          "colorway": [
           "#636efa",
           "#EF553B",
           "#00cc96",
           "#ab63fa",
           "#FFA15A",
           "#19d3f3",
           "#FF6692",
           "#B6E880",
           "#FF97FF",
           "#FECB52"
          ],
          "font": {
           "color": "#2a3f5f"
          },
          "geo": {
           "bgcolor": "white",
           "lakecolor": "white",
           "landcolor": "#E5ECF6",
           "showlakes": true,
           "showland": true,
           "subunitcolor": "white"
          },
          "hoverlabel": {
           "align": "left"
          },
          "hovermode": "closest",
          "mapbox": {
           "style": "light"
          },
          "paper_bgcolor": "white",
          "plot_bgcolor": "#E5ECF6",
          "polar": {
           "angularaxis": {
            "gridcolor": "white",
            "linecolor": "white",
            "ticks": ""
           },
           "bgcolor": "#E5ECF6",
           "radialaxis": {
            "gridcolor": "white",
            "linecolor": "white",
            "ticks": ""
           }
          },
          "scene": {
           "xaxis": {
            "backgroundcolor": "#E5ECF6",
            "gridcolor": "white",
            "gridwidth": 2,
            "linecolor": "white",
            "showbackground": true,
            "ticks": "",
            "zerolinecolor": "white"
           },
           "yaxis": {
            "backgroundcolor": "#E5ECF6",
            "gridcolor": "white",
            "gridwidth": 2,
            "linecolor": "white",
            "showbackground": true,
            "ticks": "",
            "zerolinecolor": "white"
           },
           "zaxis": {
            "backgroundcolor": "#E5ECF6",
            "gridcolor": "white",
            "gridwidth": 2,
            "linecolor": "white",
            "showbackground": true,
            "ticks": "",
            "zerolinecolor": "white"
           }
          },
          "shapedefaults": {
           "line": {
            "color": "#2a3f5f"
           }
          },
          "ternary": {
           "aaxis": {
            "gridcolor": "white",
            "linecolor": "white",
            "ticks": ""
           },
           "baxis": {
            "gridcolor": "white",
            "linecolor": "white",
            "ticks": ""
           },
           "bgcolor": "#E5ECF6",
           "caxis": {
            "gridcolor": "white",
            "linecolor": "white",
            "ticks": ""
           }
          },
          "title": {
           "x": 0.05
          },
          "xaxis": {
           "automargin": true,
           "gridcolor": "white",
           "linecolor": "white",
           "ticks": "",
           "title": {
            "standoff": 15
           },
           "zerolinecolor": "white",
           "zerolinewidth": 2
          },
          "yaxis": {
           "automargin": true,
           "gridcolor": "white",
           "linecolor": "white",
           "ticks": "",
           "title": {
            "standoff": 15
           },
           "zerolinecolor": "white",
           "zerolinewidth": 2
          }
         }
        },
        "title": {
         "font": {
          "color": "black",
          "family": "sans-serif",
          "size": 20,
          "weight": "bold"
         },
         "text": "Real GDP Over Time (AUS)"
        },
        "xaxis": {
         "anchor": "y",
         "domain": [
          0,
          1
         ],
         "title": {
          "text": "Year"
         }
        },
        "yaxis": {
         "anchor": "x",
         "domain": [
          0,
          1
         ],
         "title": {
          "text": "Real GDP"
         }
        }
       }
      }
     },
     "metadata": {},
     "output_type": "display_data"
    }
   ],
   "source": [
    "# Real GDP over time\n",
    "fig = px.scatter(aus_df, x='Year', y='Real GDP', \n",
    "                 title = 'Real GDP Over Time (AUS)', \n",
    "                 labels={'Year': 'Year', 'Real_GDP': 'Real GDP'}, \n",
    "                 trendline='ols',\n",
    "                 color_discrete_sequence=['#4682B4'])\n",
    "\n",
    "fig.update_layout(\n",
    "    plot_bgcolor='rgba(0,0,0,0)',\n",
    "    title_font=dict(family='sans-serif', size=20, color='black', weight='bold')\n",
    ")\n",
    "\n",
    "fig.update_traces(line=dict(color='#D3D3D3'), selector=dict(mode='lines'))\n",
    "\n",
    "fig.show()"
   ]
  },
  {
   "cell_type": "code",
   "execution_count": 10,
   "metadata": {},
   "outputs": [
    {
     "data": {
      "application/vnd.plotly.v1+json": {
       "config": {
        "plotlyServerURL": "https://plot.ly"
       },
       "data": [
        {
         "hovertemplate": "Year=%{x}<br>Real GDP per Capita=%{y}<extra></extra>",
         "legendgroup": "",
         "marker": {
          "color": "#4682B4",
          "symbol": "circle"
         },
         "mode": "markers",
         "name": "",
         "orientation": "v",
         "showlegend": false,
         "type": "scatter",
         "x": [
          1950,
          1951,
          1952,
          1953,
          1954,
          1955,
          1956,
          1957,
          1958,
          1959,
          1960,
          1961,
          1962,
          1963,
          1964,
          1965,
          1966,
          1967,
          1968,
          1969,
          1970,
          1971,
          1972,
          1973,
          1974,
          1975,
          1976,
          1977,
          1978,
          1979,
          1980,
          1981,
          1982,
          1983,
          1984,
          1985,
          1986,
          1987,
          1988,
          1989,
          1990,
          1991,
          1992,
          1993,
          1994,
          1995,
          1996,
          1997,
          1998,
          1999,
          2000,
          2001,
          2002,
          2003,
          2004,
          2005,
          2006,
          2007,
          2008,
          2009,
          2010,
          2011,
          2012,
          2013,
          2014,
          2015,
          2016,
          2017,
          2018,
          2019
         ],
         "xaxis": "x",
         "y": [
          37166.39476510802,
          37094.611974053434,
          34905.077524385684,
          38037.9905545121,
          40223.75586074212,
          40930.44196221439,
          40138.19759764818,
          40487.35940357662,
          42853.70360544729,
          44925.93397072998,
          44588.05022152708,
          45065.94699846859,
          46773.01480732245,
          48543.09258664586,
          49825.41674970788,
          49439.18247181368,
          50668.84894304876,
          51655.781236853174,
          54038.11655333522,
          56403.19021045878,
          56497.99613854013,
          57529.777902289796,
          58308.5861049186,
          59166.68046103817,
          58954.27129232467,
          60732.46391338215,
          62003.01232010595,
          62000.35058736723,
          64315.74819970425,
          65401.48505553423,
          65800.05753601508,
          67146.98422726471,
          65822.85368560236,
          69929.62520943252,
          71126.50130900963,
          71523.8335037135,
          70244.95541630422,
          72570.42136942338,
          72618.51068951961,
          72193.8896386216,
          70774.94557086013,
          72654.53489865249,
          75964.40520995035,
          78663.45673521655,
          79049.40922670762,
          79187.83051703322,
          81283.55901195301,
          84379.38558072476,
          87143.09470566668,
          88980.26333300046,
          88441.05560624834,
          90864.97505928527,
          91811.65834681605,
          93372.15159670115,
          94722.7631285585,
          93925.72767107491,
          95107.43059028572,
          95537.43834253988,
          94954.9922213241,
          96062.84379712175,
          96059.13028141265,
          98015.31767631075,
          99470.4338642038,
          101065.24269430935,
          102278.25586278619,
          102982.56216597154,
          103928.70552385214,
          104801.44574383317,
          104560.3581392667,
          102286.9009740202
         ],
         "yaxis": "y"
        },
        {
         "hovertemplate": "<b>OLS trendline</b><br>Real GDP per Capita = 1044.56 * Year + -2.00227e+06<br>R<sup>2</sup>=0.992966<br><br>Year=%{x}<br>Real GDP per Capita=%{y} <b>(trend)</b><extra></extra>",
         "legendgroup": "",
         "line": {
          "color": "#D3D3D3"
         },
         "marker": {
          "color": "#4682B4",
          "symbol": "circle"
         },
         "mode": "lines",
         "name": "",
         "showlegend": false,
         "type": "scatter",
         "x": [
          1950,
          1951,
          1952,
          1953,
          1954,
          1955,
          1956,
          1957,
          1958,
          1959,
          1960,
          1961,
          1962,
          1963,
          1964,
          1965,
          1966,
          1967,
          1968,
          1969,
          1970,
          1971,
          1972,
          1973,
          1974,
          1975,
          1976,
          1977,
          1978,
          1979,
          1980,
          1981,
          1982,
          1983,
          1984,
          1985,
          1986,
          1987,
          1988,
          1989,
          1990,
          1991,
          1992,
          1993,
          1994,
          1995,
          1996,
          1997,
          1998,
          1999,
          2000,
          2001,
          2002,
          2003,
          2004,
          2005,
          2006,
          2007,
          2008,
          2009,
          2010,
          2011,
          2012,
          2013,
          2014,
          2015,
          2016,
          2017,
          2018,
          2019
         ],
         "xaxis": "x",
         "y": [
          34619.55144942925,
          35664.112022999994,
          36708.67259657073,
          37753.233170141466,
          38797.79374371221,
          39842.354317282945,
          40886.91489085369,
          41931.475464424424,
          42976.03603799517,
          44020.5966115659,
          45065.157185136646,
          46109.71775870738,
          47154.27833227812,
          48198.83890584886,
          49243.3994794196,
          50287.96005299034,
          51332.520626561076,
          52377.08120013182,
          53421.641773702555,
          54466.20234727329,
          55510.762920844034,
          56555.32349441477,
          57599.88406798551,
          58644.44464155625,
          59689.00521512699,
          60733.56578869773,
          61778.126362268464,
          62822.68693583921,
          63867.24750940994,
          64911.808082980686,
          65956.36865655142,
          67000.92923012216,
          68045.48980369291,
          69090.05037726364,
          70134.61095083438,
          71179.17152440512,
          72223.73209797585,
          73268.2926715466,
          74312.85324511734,
          75357.41381868807,
          76401.97439225881,
          77446.53496582956,
          78491.0955394003,
          79535.65611297103,
          80580.21668654177,
          81624.7772601125,
          82669.33783368325,
          83713.89840725399,
          84758.45898082473,
          85803.01955439546,
          86847.58012796621,
          87892.14070153695,
          88936.70127510768,
          89981.26184867842,
          91025.82242224916,
          92070.3829958199,
          93114.94356939064,
          94159.50414296138,
          95204.06471653211,
          96248.62529010285,
          97293.1858636736,
          98337.74643724434,
          99382.30701081507,
          100426.86758438581,
          101471.42815795656,
          102515.9887315273,
          103560.54930509803,
          104605.10987866877,
          105649.6704522395,
          106694.23102581025
         ],
         "yaxis": "y"
        }
       ],
       "layout": {
        "legend": {
         "tracegroupgap": 0
        },
        "plot_bgcolor": "rgba(0,0,0,0)",
        "template": {
         "data": {
          "bar": [
           {
            "error_x": {
             "color": "#2a3f5f"
            },
            "error_y": {
             "color": "#2a3f5f"
            },
            "marker": {
             "line": {
              "color": "#E5ECF6",
              "width": 0.5
             },
             "pattern": {
              "fillmode": "overlay",
              "size": 10,
              "solidity": 0.2
             }
            },
            "type": "bar"
           }
          ],
          "barpolar": [
           {
            "marker": {
             "line": {
              "color": "#E5ECF6",
              "width": 0.5
             },
             "pattern": {
              "fillmode": "overlay",
              "size": 10,
              "solidity": 0.2
             }
            },
            "type": "barpolar"
           }
          ],
          "carpet": [
           {
            "aaxis": {
             "endlinecolor": "#2a3f5f",
             "gridcolor": "white",
             "linecolor": "white",
             "minorgridcolor": "white",
             "startlinecolor": "#2a3f5f"
            },
            "baxis": {
             "endlinecolor": "#2a3f5f",
             "gridcolor": "white",
             "linecolor": "white",
             "minorgridcolor": "white",
             "startlinecolor": "#2a3f5f"
            },
            "type": "carpet"
           }
          ],
          "choropleth": [
           {
            "colorbar": {
             "outlinewidth": 0,
             "ticks": ""
            },
            "type": "choropleth"
           }
          ],
          "contour": [
           {
            "colorbar": {
             "outlinewidth": 0,
             "ticks": ""
            },
            "colorscale": [
             [
              0,
              "#0d0887"
             ],
             [
              0.1111111111111111,
              "#46039f"
             ],
             [
              0.2222222222222222,
              "#7201a8"
             ],
             [
              0.3333333333333333,
              "#9c179e"
             ],
             [
              0.4444444444444444,
              "#bd3786"
             ],
             [
              0.5555555555555556,
              "#d8576b"
             ],
             [
              0.6666666666666666,
              "#ed7953"
             ],
             [
              0.7777777777777778,
              "#fb9f3a"
             ],
             [
              0.8888888888888888,
              "#fdca26"
             ],
             [
              1,
              "#f0f921"
             ]
            ],
            "type": "contour"
           }
          ],
          "contourcarpet": [
           {
            "colorbar": {
             "outlinewidth": 0,
             "ticks": ""
            },
            "type": "contourcarpet"
           }
          ],
          "heatmap": [
           {
            "colorbar": {
             "outlinewidth": 0,
             "ticks": ""
            },
            "colorscale": [
             [
              0,
              "#0d0887"
             ],
             [
              0.1111111111111111,
              "#46039f"
             ],
             [
              0.2222222222222222,
              "#7201a8"
             ],
             [
              0.3333333333333333,
              "#9c179e"
             ],
             [
              0.4444444444444444,
              "#bd3786"
             ],
             [
              0.5555555555555556,
              "#d8576b"
             ],
             [
              0.6666666666666666,
              "#ed7953"
             ],
             [
              0.7777777777777778,
              "#fb9f3a"
             ],
             [
              0.8888888888888888,
              "#fdca26"
             ],
             [
              1,
              "#f0f921"
             ]
            ],
            "type": "heatmap"
           }
          ],
          "heatmapgl": [
           {
            "colorbar": {
             "outlinewidth": 0,
             "ticks": ""
            },
            "colorscale": [
             [
              0,
              "#0d0887"
             ],
             [
              0.1111111111111111,
              "#46039f"
             ],
             [
              0.2222222222222222,
              "#7201a8"
             ],
             [
              0.3333333333333333,
              "#9c179e"
             ],
             [
              0.4444444444444444,
              "#bd3786"
             ],
             [
              0.5555555555555556,
              "#d8576b"
             ],
             [
              0.6666666666666666,
              "#ed7953"
             ],
             [
              0.7777777777777778,
              "#fb9f3a"
             ],
             [
              0.8888888888888888,
              "#fdca26"
             ],
             [
              1,
              "#f0f921"
             ]
            ],
            "type": "heatmapgl"
           }
          ],
          "histogram": [
           {
            "marker": {
             "pattern": {
              "fillmode": "overlay",
              "size": 10,
              "solidity": 0.2
             }
            },
            "type": "histogram"
           }
          ],
          "histogram2d": [
           {
            "colorbar": {
             "outlinewidth": 0,
             "ticks": ""
            },
            "colorscale": [
             [
              0,
              "#0d0887"
             ],
             [
              0.1111111111111111,
              "#46039f"
             ],
             [
              0.2222222222222222,
              "#7201a8"
             ],
             [
              0.3333333333333333,
              "#9c179e"
             ],
             [
              0.4444444444444444,
              "#bd3786"
             ],
             [
              0.5555555555555556,
              "#d8576b"
             ],
             [
              0.6666666666666666,
              "#ed7953"
             ],
             [
              0.7777777777777778,
              "#fb9f3a"
             ],
             [
              0.8888888888888888,
              "#fdca26"
             ],
             [
              1,
              "#f0f921"
             ]
            ],
            "type": "histogram2d"
           }
          ],
          "histogram2dcontour": [
           {
            "colorbar": {
             "outlinewidth": 0,
             "ticks": ""
            },
            "colorscale": [
             [
              0,
              "#0d0887"
             ],
             [
              0.1111111111111111,
              "#46039f"
             ],
             [
              0.2222222222222222,
              "#7201a8"
             ],
             [
              0.3333333333333333,
              "#9c179e"
             ],
             [
              0.4444444444444444,
              "#bd3786"
             ],
             [
              0.5555555555555556,
              "#d8576b"
             ],
             [
              0.6666666666666666,
              "#ed7953"
             ],
             [
              0.7777777777777778,
              "#fb9f3a"
             ],
             [
              0.8888888888888888,
              "#fdca26"
             ],
             [
              1,
              "#f0f921"
             ]
            ],
            "type": "histogram2dcontour"
           }
          ],
          "mesh3d": [
           {
            "colorbar": {
             "outlinewidth": 0,
             "ticks": ""
            },
            "type": "mesh3d"
           }
          ],
          "parcoords": [
           {
            "line": {
             "colorbar": {
              "outlinewidth": 0,
              "ticks": ""
             }
            },
            "type": "parcoords"
           }
          ],
          "pie": [
           {
            "automargin": true,
            "type": "pie"
           }
          ],
          "scatter": [
           {
            "fillpattern": {
             "fillmode": "overlay",
             "size": 10,
             "solidity": 0.2
            },
            "type": "scatter"
           }
          ],
          "scatter3d": [
           {
            "line": {
             "colorbar": {
              "outlinewidth": 0,
              "ticks": ""
             }
            },
            "marker": {
             "colorbar": {
              "outlinewidth": 0,
              "ticks": ""
             }
            },
            "type": "scatter3d"
           }
          ],
          "scattercarpet": [
           {
            "marker": {
             "colorbar": {
              "outlinewidth": 0,
              "ticks": ""
             }
            },
            "type": "scattercarpet"
           }
          ],
          "scattergeo": [
           {
            "marker": {
             "colorbar": {
              "outlinewidth": 0,
              "ticks": ""
             }
            },
            "type": "scattergeo"
           }
          ],
          "scattergl": [
           {
            "marker": {
             "colorbar": {
              "outlinewidth": 0,
              "ticks": ""
             }
            },
            "type": "scattergl"
           }
          ],
          "scattermapbox": [
           {
            "marker": {
             "colorbar": {
              "outlinewidth": 0,
              "ticks": ""
             }
            },
            "type": "scattermapbox"
           }
          ],
          "scatterpolar": [
           {
            "marker": {
             "colorbar": {
              "outlinewidth": 0,
              "ticks": ""
             }
            },
            "type": "scatterpolar"
           }
          ],
          "scatterpolargl": [
           {
            "marker": {
             "colorbar": {
              "outlinewidth": 0,
              "ticks": ""
             }
            },
            "type": "scatterpolargl"
           }
          ],
          "scatterternary": [
           {
            "marker": {
             "colorbar": {
              "outlinewidth": 0,
              "ticks": ""
             }
            },
            "type": "scatterternary"
           }
          ],
          "surface": [
           {
            "colorbar": {
             "outlinewidth": 0,
             "ticks": ""
            },
            "colorscale": [
             [
              0,
              "#0d0887"
             ],
             [
              0.1111111111111111,
              "#46039f"
             ],
             [
              0.2222222222222222,
              "#7201a8"
             ],
             [
              0.3333333333333333,
              "#9c179e"
             ],
             [
              0.4444444444444444,
              "#bd3786"
             ],
             [
              0.5555555555555556,
              "#d8576b"
             ],
             [
              0.6666666666666666,
              "#ed7953"
             ],
             [
              0.7777777777777778,
              "#fb9f3a"
             ],
             [
              0.8888888888888888,
              "#fdca26"
             ],
             [
              1,
              "#f0f921"
             ]
            ],
            "type": "surface"
           }
          ],
          "table": [
           {
            "cells": {
             "fill": {
              "color": "#EBF0F8"
             },
             "line": {
              "color": "white"
             }
            },
            "header": {
             "fill": {
              "color": "#C8D4E3"
             },
             "line": {
              "color": "white"
             }
            },
            "type": "table"
           }
          ]
         },
         "layout": {
          "annotationdefaults": {
           "arrowcolor": "#2a3f5f",
           "arrowhead": 0,
           "arrowwidth": 1
          },
          "autotypenumbers": "strict",
          "coloraxis": {
           "colorbar": {
            "outlinewidth": 0,
            "ticks": ""
           }
          },
          "colorscale": {
           "diverging": [
            [
             0,
             "#8e0152"
            ],
            [
             0.1,
             "#c51b7d"
            ],
            [
             0.2,
             "#de77ae"
            ],
            [
             0.3,
             "#f1b6da"
            ],
            [
             0.4,
             "#fde0ef"
            ],
            [
             0.5,
             "#f7f7f7"
            ],
            [
             0.6,
             "#e6f5d0"
            ],
            [
             0.7,
             "#b8e186"
            ],
            [
             0.8,
             "#7fbc41"
            ],
            [
             0.9,
             "#4d9221"
            ],
            [
             1,
             "#276419"
            ]
           ],
           "sequential": [
            [
             0,
             "#0d0887"
            ],
            [
             0.1111111111111111,
             "#46039f"
            ],
            [
             0.2222222222222222,
             "#7201a8"
            ],
            [
             0.3333333333333333,
             "#9c179e"
            ],
            [
             0.4444444444444444,
             "#bd3786"
            ],
            [
             0.5555555555555556,
             "#d8576b"
            ],
            [
             0.6666666666666666,
             "#ed7953"
            ],
            [
             0.7777777777777778,
             "#fb9f3a"
            ],
            [
             0.8888888888888888,
             "#fdca26"
            ],
            [
             1,
             "#f0f921"
            ]
           ],
           "sequentialminus": [
            [
             0,
             "#0d0887"
            ],
            [
             0.1111111111111111,
             "#46039f"
            ],
            [
             0.2222222222222222,
             "#7201a8"
            ],
            [
             0.3333333333333333,
             "#9c179e"
            ],
            [
             0.4444444444444444,
             "#bd3786"
            ],
            [
             0.5555555555555556,
             "#d8576b"
            ],
            [
             0.6666666666666666,
             "#ed7953"
            ],
            [
             0.7777777777777778,
             "#fb9f3a"
            ],
            [
             0.8888888888888888,
             "#fdca26"
            ],
            [
             1,
             "#f0f921"
            ]
           ]
          },
          "colorway": [
           "#636efa",
           "#EF553B",
           "#00cc96",
           "#ab63fa",
           "#FFA15A",
           "#19d3f3",
           "#FF6692",
           "#B6E880",
           "#FF97FF",
           "#FECB52"
          ],
          "font": {
           "color": "#2a3f5f"
          },
          "geo": {
           "bgcolor": "white",
           "lakecolor": "white",
           "landcolor": "#E5ECF6",
           "showlakes": true,
           "showland": true,
           "subunitcolor": "white"
          },
          "hoverlabel": {
           "align": "left"
          },
          "hovermode": "closest",
          "mapbox": {
           "style": "light"
          },
          "paper_bgcolor": "white",
          "plot_bgcolor": "#E5ECF6",
          "polar": {
           "angularaxis": {
            "gridcolor": "white",
            "linecolor": "white",
            "ticks": ""
           },
           "bgcolor": "#E5ECF6",
           "radialaxis": {
            "gridcolor": "white",
            "linecolor": "white",
            "ticks": ""
           }
          },
          "scene": {
           "xaxis": {
            "backgroundcolor": "#E5ECF6",
            "gridcolor": "white",
            "gridwidth": 2,
            "linecolor": "white",
            "showbackground": true,
            "ticks": "",
            "zerolinecolor": "white"
           },
           "yaxis": {
            "backgroundcolor": "#E5ECF6",
            "gridcolor": "white",
            "gridwidth": 2,
            "linecolor": "white",
            "showbackground": true,
            "ticks": "",
            "zerolinecolor": "white"
           },
           "zaxis": {
            "backgroundcolor": "#E5ECF6",
            "gridcolor": "white",
            "gridwidth": 2,
            "linecolor": "white",
            "showbackground": true,
            "ticks": "",
            "zerolinecolor": "white"
           }
          },
          "shapedefaults": {
           "line": {
            "color": "#2a3f5f"
           }
          },
          "ternary": {
           "aaxis": {
            "gridcolor": "white",
            "linecolor": "white",
            "ticks": ""
           },
           "baxis": {
            "gridcolor": "white",
            "linecolor": "white",
            "ticks": ""
           },
           "bgcolor": "#E5ECF6",
           "caxis": {
            "gridcolor": "white",
            "linecolor": "white",
            "ticks": ""
           }
          },
          "title": {
           "x": 0.05
          },
          "xaxis": {
           "automargin": true,
           "gridcolor": "white",
           "linecolor": "white",
           "ticks": "",
           "title": {
            "standoff": 15
           },
           "zerolinecolor": "white",
           "zerolinewidth": 2
          },
          "yaxis": {
           "automargin": true,
           "gridcolor": "white",
           "linecolor": "white",
           "ticks": "",
           "title": {
            "standoff": 15
           },
           "zerolinecolor": "white",
           "zerolinewidth": 2
          }
         }
        },
        "title": {
         "font": {
          "color": "black",
          "family": "sans-serif",
          "size": 20,
          "weight": "bold"
         },
         "text": "Real GDP per Capita Over Time (AUS)"
        },
        "xaxis": {
         "anchor": "y",
         "domain": [
          0,
          1
         ],
         "title": {
          "text": "Year"
         }
        },
        "yaxis": {
         "anchor": "x",
         "domain": [
          0,
          1
         ],
         "title": {
          "text": "Real GDP per Capita"
         }
        }
       }
      }
     },
     "metadata": {},
     "output_type": "display_data"
    }
   ],
   "source": [
    "# Real GDP per capita over time\n",
    "aus_df.loc[:, 'Real GDP per Capita'] = aus_df['Real GDP'] / aus_df['Labour']\n",
    "\n",
    "fig = px.scatter(aus_df, x='Year', y='Real GDP per Capita', \n",
    "                 title = 'Real GDP per Capita Over Time (AUS)', \n",
    "                 labels={'Year': 'Year', 'Real GDP per Capita': 'Real GDP per Capita'}, \n",
    "                 trendline='ols',\n",
    "                 color_discrete_sequence=['#4682B4'])\n",
    "\n",
    "fig.update_layout(\n",
    "    plot_bgcolor='rgba(0,0,0,0)',\n",
    "    title_font=dict(family='sans-serif', size=20, color='black', weight='bold')\n",
    ")\n",
    "\n",
    "fig.update_traces(line=dict(color='#D3D3D3'), selector=dict(mode='lines'))\n",
    "\n",
    "fig.show()"
   ]
  },
  {
   "cell_type": "code",
   "execution_count": 11,
   "metadata": {},
   "outputs": [
    {
     "data": {
      "application/vnd.plotly.v1+json": {
       "config": {
        "plotlyServerURL": "https://plot.ly"
       },
       "data": [
        {
         "hovertemplate": "Country=Austria<br>Year=%{x}<br>Real GDP=%{y}<extra></extra>",
         "legendgroup": "Austria",
         "marker": {
          "color": "#636efa",
          "symbol": "circle"
         },
         "mode": "markers",
         "name": "Austria",
         "orientation": "v",
         "showlegend": true,
         "type": "scatter",
         "x": [
          1950,
          1951,
          1952,
          1953,
          1954,
          1955,
          1956,
          1957,
          1958,
          1959,
          1960,
          1961,
          1962,
          1963,
          1964,
          1965,
          1966,
          1967,
          1968,
          1969,
          1970,
          1971,
          1972,
          1973,
          1974,
          1975,
          1976,
          1977,
          1978,
          1979,
          1980,
          1981,
          1982,
          1983,
          1984,
          1985,
          1986,
          1987,
          1988,
          1989,
          1990,
          1991,
          1992,
          1993,
          1994,
          1995,
          1996,
          1997,
          1998,
          1999,
          2000,
          2001,
          2002,
          2003,
          2004,
          2005,
          2006,
          2007,
          2008,
          2009,
          2010,
          2011,
          2012,
          2013,
          2014,
          2015,
          2016,
          2017,
          2018,
          2019
         ],
         "xaxis": "x",
         "y": [
          56946.1484375,
          60474.61328125,
          60239.30078125,
          62218.33203125,
          67352.9375,
          75065.1171875,
          79692.4140625,
          84319.7109375,
          87404.578125,
          89975.296875,
          98201.6171875,
          103343.0546875,
          105399.6328125,
          110026.9375,
          116710.8203125,
          119795.671875,
          126479.5625,
          130592.7265625,
          136248.3125,
          144988.765625,
          155271.640625,
          163210.890625,
          173342.796875,
          181814.5625,
          188984.90625,
          188300.1875,
          196918.71875,
          206922.125,
          206486.234375,
          217547.09375,
          221313.890625,
          220994.546875,
          225439.296875,
          232141.796875,
          232260.859375,
          238064.296875,
          243543.09375,
          246848.375,
          254984.21875,
          264895.625,
          276407.03125,
          285919.9375,
          291905.75,
          293443.5625,
          300492.40625,
          308509.5,
          315758.03125,
          322368.75,
          333914.125,
          345789.21875,
          357462.09375,
          361991.78125,
          367970.25,
          371434.5625,
          381593.75,
          390156.96875,
          403633.15625,
          418678.21875,
          424792.71875,
          408801.0625,
          416311.125,
          428479.03125,
          431394.625,
          431504.625,
          434358.0625,
          438764.625,
          447493.59375,
          458231.5625,
          470054.5,
          476723.3125
         ],
         "yaxis": "y"
        },
        {
         "hovertemplate": "<b>OLS trendline</b><br>Real GDP = 6317.9 * Year + -1.22869e+07<br>R<sup>2</sup>=0.993872<br><br>Country=Austria<br>Year=%{x}<br>Real GDP=%{y} <b>(trend)</b><extra></extra>",
         "legendgroup": "Austria",
         "line": {
          "color": "#D3D3D3"
         },
         "marker": {
          "color": "#636efa",
          "symbol": "circle"
         },
         "mode": "lines",
         "name": "Austria",
         "showlegend": false,
         "type": "scatter",
         "x": [
          1950,
          1951,
          1952,
          1953,
          1954,
          1955,
          1956,
          1957,
          1958,
          1959,
          1960,
          1961,
          1962,
          1963,
          1964,
          1965,
          1966,
          1967,
          1968,
          1969,
          1970,
          1971,
          1972,
          1973,
          1974,
          1975,
          1976,
          1977,
          1978,
          1979,
          1980,
          1981,
          1982,
          1983,
          1984,
          1985,
          1986,
          1987,
          1988,
          1989,
          1990,
          1991,
          1992,
          1993,
          1994,
          1995,
          1996,
          1997,
          1998,
          1999,
          2000,
          2001,
          2002,
          2003,
          2004,
          2005,
          2006,
          2007,
          2008,
          2009,
          2010,
          2011,
          2012,
          2013,
          2014,
          2015,
          2016,
          2017,
          2018,
          2019
         ],
         "xaxis": "x",
         "y": [
          33019.62454885363,
          39337.52306898255,
          45655.42158911147,
          51973.3201092404,
          58291.218629369316,
          64609.11714949824,
          70927.01566962716,
          77244.91418975609,
          83562.81270988501,
          89880.71123001393,
          96198.60975014284,
          102516.50827027178,
          108834.4067904007,
          115152.30531052961,
          121470.20383065855,
          127788.10235078746,
          134106.00087091638,
          140423.8993910453,
          146741.79791117425,
          153059.69643130316,
          159377.59495143208,
          165695.493471561,
          172013.39199168992,
          178331.29051181884,
          184649.18903194775,
          190967.0875520767,
          197284.98607220562,
          203602.88459233454,
          209920.78311246345,
          216238.68163259237,
          222556.5801527213,
          228874.47867285024,
          235192.37719297915,
          241510.27571310807,
          247828.174233237,
          254146.0727533659,
          260463.97127349483,
          266781.86979362374,
          273099.76831375266,
          279417.6668338816,
          285735.5653540105,
          292053.4638741395,
          298371.3623942684,
          304689.2609143973,
          311007.1594345262,
          317325.05795465515,
          323642.95647478406,
          329960.854994913,
          336278.7535150419,
          342596.6520351708,
          348914.55055529973,
          355232.44907542865,
          361550.34759555757,
          367868.2461156865,
          374186.14463581546,
          380504.0431559444,
          386821.9416760733,
          393139.8401962022,
          399457.73871633114,
          405775.63723646005,
          412093.535756589,
          418411.4342767179,
          424729.3327968468,
          431047.2313169757,
          437365.12983710464,
          443683.02835723356,
          450000.92687736254,
          456318.82539749146,
          462636.7239176204,
          468954.6224377493
         ],
         "yaxis": "y"
        },
        {
         "hovertemplate": "Country=Belgium<br>Year=%{x}<br>Real GDP=%{y}<extra></extra>",
         "legendgroup": "Belgium",
         "marker": {
          "color": "#EF553B",
          "symbol": "circle"
         },
         "mode": "markers",
         "name": "Belgium",
         "orientation": "v",
         "showlegend": true,
         "type": "scatter",
         "x": [
          1950,
          1951,
          1952,
          1953,
          1954,
          1955,
          1956,
          1957,
          1958,
          1959,
          1960,
          1961,
          1962,
          1963,
          1964,
          1965,
          1966,
          1967,
          1968,
          1969,
          1970,
          1971,
          1972,
          1973,
          1974,
          1975,
          1976,
          1977,
          1978,
          1979,
          1980,
          1981,
          1982,
          1983,
          1984,
          1985,
          1986,
          1987,
          1988,
          1989,
          1990,
          1991,
          1992,
          1993,
          1994,
          1995,
          1996,
          1997,
          1998,
          1999,
          2000,
          2001,
          2002,
          2003,
          2004,
          2005,
          2006,
          2007,
          2008,
          2009,
          2010,
          2011,
          2012,
          2013,
          2014,
          2015,
          2016,
          2017,
          2018,
          2019
         ],
         "xaxis": "x",
         "y": [
          84999.0546875,
          88196.46875,
          90342.3671875,
          93326.203125,
          97440.625,
          100902.6875,
          104080.484375,
          106104.453125,
          105541.4375,
          109254.1953125,
          115497.296875,
          121345.265625,
          127778.03125,
          133333.59375,
          142690.34375,
          147661.109375,
          152047.09375,
          157895.046875,
          165205.015625,
          175438.9375,
          187134.875,
          194158.09375,
          204362.34375,
          216874.078125,
          225981.984375,
          222983.21875,
          235587.890625,
          237062.984375,
          243800.125,
          249507.609375,
          260684.3125,
          259956.265625,
          261502.984375,
          262318.4375,
          268788.25,
          273228.03125,
          278208.375,
          284625.65625,
          298069.125,
          308409.65625,
          318085.71875,
          323916.4375,
          328874.5,
          325711.15625,
          336221.78125,
          344239.84375,
          348788.84375,
          362020.6875,
          369122.96875,
          382200.03125,
          396405.15625,
          400764.0625,
          407604.6875,
          411835.4375,
          426542.84375,
          436446.0625,
          447585.6875,
          464043.0625,
          466116.96875,
          456698,
          469779.15625,
          477739.53125,
          481271.15625,
          483481.28125,
          491071.375,
          501096.4375,
          507443.71875,
          515603.875,
          524948.125,
          534102.3125
         ],
         "yaxis": "y"
        },
        {
         "hovertemplate": "<b>OLS trendline</b><br>Real GDP = 6771.45 * Year + -1.31503e+07<br>R<sup>2</sup>=0.992722<br><br>Country=Belgium<br>Year=%{x}<br>Real GDP=%{y} <b>(trend)</b><extra></extra>",
         "legendgroup": "Belgium",
         "line": {
          "color": "#D3D3D3"
         },
         "marker": {
          "color": "#EF553B",
          "symbol": "circle"
         },
         "mode": "lines",
         "name": "Belgium",
         "showlegend": false,
         "type": "scatter",
         "x": [
          1950,
          1951,
          1952,
          1953,
          1954,
          1955,
          1956,
          1957,
          1958,
          1959,
          1960,
          1961,
          1962,
          1963,
          1964,
          1965,
          1966,
          1967,
          1968,
          1969,
          1970,
          1971,
          1972,
          1973,
          1974,
          1975,
          1976,
          1977,
          1978,
          1979,
          1980,
          1981,
          1982,
          1983,
          1984,
          1985,
          1986,
          1987,
          1988,
          1989,
          1990,
          1991,
          1992,
          1993,
          1994,
          1995,
          1996,
          1997,
          1998,
          1999,
          2000,
          2001,
          2002,
          2003,
          2004,
          2005,
          2006,
          2007,
          2008,
          2009,
          2010,
          2011,
          2012,
          2013,
          2014,
          2015,
          2016,
          2017,
          2018,
          2019
         ],
         "xaxis": "x",
         "y": [
          53986.113279677134,
          60757.56544716576,
          67529.01761465438,
          74300.469782143,
          81071.92194963162,
          87843.37411712026,
          94614.82628460888,
          101386.2784520975,
          108157.73061958613,
          114929.18278707475,
          121700.63495456337,
          128472.08712205199,
          135243.5392895406,
          142014.99145702925,
          148786.44362451788,
          155557.8957920065,
          162329.34795949512,
          169100.80012698373,
          175872.25229447236,
          182643.704461961,
          189415.1566294496,
          196186.60879693824,
          202958.06096442684,
          209729.51313191548,
          216500.9652994041,
          223272.41746689272,
          230043.86963438135,
          236815.32180186998,
          243586.7739693586,
          250358.22613684722,
          257129.67830433586,
          263901.1304718245,
          270672.58263931307,
          277444.0348068017,
          284215.48697429034,
          290986.939141779,
          297758.3913092676,
          304529.8434767562,
          311301.2956442448,
          318072.74781173345,
          324844.1999792221,
          331615.6521467107,
          338387.1043141993,
          345158.55648168793,
          351930.00864917657,
          358701.4608166652,
          365472.91298415384,
          372244.3651516425,
          379015.81731913105,
          385787.2694866197,
          392558.7216541083,
          399330.17382159695,
          406101.6259890856,
          412873.07815657416,
          419644.5303240628,
          426415.98249155143,
          433187.43465904007,
          439958.8868265287,
          446730.33899401734,
          453501.7911615059,
          460273.24332899455,
          467044.6954964832,
          473816.1476639718,
          480587.59983146045,
          487359.051998949,
          494130.50416643766,
          500901.9563339263,
          507673.40850141493,
          514444.86066890357,
          521216.31283639214
         ],
         "yaxis": "y"
        },
        {
         "hovertemplate": "Country=Cyprus<br>Year=%{x}<br>Real GDP=%{y}<extra></extra>",
         "legendgroup": "Cyprus",
         "marker": {
          "color": "#00cc96",
          "symbol": "circle"
         },
         "mode": "markers",
         "name": "Cyprus",
         "orientation": "v",
         "showlegend": true,
         "type": "scatter",
         "x": [
          1950,
          1951,
          1952,
          1953,
          1954,
          1955,
          1956,
          1957,
          1958,
          1959,
          1960,
          1961,
          1962,
          1963,
          1964,
          1965,
          1966,
          1967,
          1968,
          1969,
          1970,
          1971,
          1972,
          1973,
          1974,
          1975,
          1976,
          1977,
          1978,
          1979,
          1980,
          1981,
          1982,
          1983,
          1984,
          1985,
          1986,
          1987,
          1988,
          1989,
          1990,
          1991,
          1992,
          1993,
          1994,
          1995,
          1996,
          1997,
          1998,
          1999,
          2000,
          2001,
          2002,
          2003,
          2004,
          2005,
          2006,
          2007,
          2008,
          2009,
          2010,
          2011,
          2012,
          2013,
          2014,
          2015,
          2016,
          2017,
          2018,
          2019
         ],
         "xaxis": "x",
         "y": [
          1514.993896484375,
          1537.4771728515625,
          1698.8128662109375,
          1875.8199462890625,
          1918.3017578125,
          2008.9122314453125,
          2359.359130859375,
          2610.343994140625,
          2423.109619140625,
          2559.054931640625,
          2274.15185546875,
          2480.688720703125,
          2718.6552734375,
          2860.088134765625,
          2581.712158203125,
          3131.729248046875,
          3353.980712890625,
          3787.259521484375,
          3996.041259765625,
          4388.9111328125,
          4519.11865234375,
          5105.05517578125,
          5457.51513671875,
          5596.70361328125,
          4650.064453125,
          3766.196044921875,
          4443.09375,
          5143.92138671875,
          5537.13037109375,
          6083.724609375,
          6443.88427734375,
          6640.48828125,
          7058.27294921875,
          7433.68603515625,
          8089.60009765625,
          8469.25,
          8791.822265625,
          9412.3740234375,
          10190.208984375,
          11014.37109375,
          11867.7021484375,
          11947.7724609375,
          13074.490234375,
          13166.0009765625,
          13926.67578125,
          15308.7529296875,
          15499.796875,
          15909.1748046875,
          16881.33203125,
          17725.09765625,
          18782.490234375,
          19524.884765625,
          20251.68359375,
          20783.00390625,
          21827.625,
          22886.900390625,
          23965.806640625,
          25187.48828125,
          26106.138671875,
          25579.927734375,
          26095.3828125,
          26200.115234375,
          25297.056640625,
          23639.244140625,
          23198.673828125,
          23981.669921875,
          25599.556640625,
          26715.97265625,
          27799.849609375,
          28697.796875
         ],
         "yaxis": "y"
        },
        {
         "hovertemplate": "<b>OLS trendline</b><br>Real GDP = 424.967 * Year + -831727<br>R<sup>2</sup>=0.923601<br><br>Country=Cyprus<br>Year=%{x}<br>Real GDP=%{y} <b>(trend)</b><extra></extra>",
         "legendgroup": "Cyprus",
         "line": {
          "color": "#D3D3D3"
         },
         "marker": {
          "color": "#00cc96",
          "symbol": "circle"
         },
         "mode": "lines",
         "name": "Cyprus",
         "showlegend": false,
         "type": "scatter",
         "x": [
          1950,
          1951,
          1952,
          1953,
          1954,
          1955,
          1956,
          1957,
          1958,
          1959,
          1960,
          1961,
          1962,
          1963,
          1964,
          1965,
          1966,
          1967,
          1968,
          1969,
          1970,
          1971,
          1972,
          1973,
          1974,
          1975,
          1976,
          1977,
          1978,
          1979,
          1980,
          1981,
          1982,
          1983,
          1984,
          1985,
          1986,
          1987,
          1988,
          1989,
          1990,
          1991,
          1992,
          1993,
          1994,
          1995,
          1996,
          1997,
          1998,
          1999,
          2000,
          2001,
          2002,
          2003,
          2004,
          2005,
          2006,
          2007,
          2008,
          2009,
          2010,
          2011,
          2012,
          2013,
          2014,
          2015,
          2016,
          2017,
          2018,
          2019
         ],
         "xaxis": "x",
         "y": [
          -3042.0092014489724,
          -2617.0424965447855,
          -2192.0757916405983,
          -1767.1090867364112,
          -1342.1423818322241,
          -917.1756769280369,
          -492.2089720238498,
          -67.2422671196627,
          357.7244377845244,
          782.6911426887116,
          1207.6578475928986,
          1632.6245524970857,
          2057.5912574012727,
          2482.55796230546,
          2907.5246672096473,
          3332.491372113834,
          3757.4580770180214,
          4182.424781922208,
          4607.3914868263955,
          5032.358191730583,
          5457.32489663477,
          5882.2916015389565,
          6307.258306443144,
          6732.225011347331,
          7157.191716251518,
          7582.158421155706,
          8007.125126059893,
          8432.09183096408,
          8857.058535868267,
          9282.025240772453,
          9706.99194567664,
          10131.958650580827,
          10556.925355485015,
          10981.892060389202,
          11406.85876529339,
          11831.825470197577,
          12256.792175101764,
          12681.758880005951,
          13106.725584910138,
          13531.692289814326,
          13956.658994718511,
          14381.625699622698,
          14806.592404526886,
          15231.559109431073,
          15656.52581433526,
          16081.492519239448,
          16506.459224143633,
          16931.425929047822,
          17356.392633952008,
          17781.359338856197,
          18206.326043760382,
          18631.29274866457,
          19056.259453568757,
          19481.226158472946,
          19906.19286337713,
          20331.15956828132,
          20756.126273185506,
          21181.09297808969,
          21606.05968299388,
          22031.026387898066,
          22455.993092802255,
          22880.95979770644,
          23305.92650261063,
          23730.893207514815,
          24155.859912419004,
          24580.82661732319,
          25005.79332222738,
          25430.760027131564,
          25855.72673203575,
          26280.69343693994
         ],
         "yaxis": "y"
        },
        {
         "hovertemplate": "Country=Germany<br>Year=%{x}<br>Real GDP=%{y}<extra></extra>",
         "legendgroup": "Germany",
         "marker": {
          "color": "#ab63fa",
          "symbol": "circle"
         },
         "mode": "markers",
         "name": "Germany",
         "orientation": "v",
         "showlegend": true,
         "type": "scatter",
         "x": [
          1950,
          1951,
          1952,
          1953,
          1954,
          1955,
          1956,
          1957,
          1958,
          1959,
          1960,
          1961,
          1962,
          1963,
          1964,
          1965,
          1966,
          1967,
          1968,
          1969,
          1970,
          1971,
          1972,
          1973,
          1974,
          1975,
          1976,
          1977,
          1978,
          1979,
          1980,
          1981,
          1982,
          1983,
          1984,
          1985,
          1986,
          1987,
          1988,
          1989,
          1990,
          1991,
          1992,
          1993,
          1994,
          1995,
          1996,
          1997,
          1998,
          1999,
          2000,
          2001,
          2002,
          2003,
          2004,
          2005,
          2006,
          2007,
          2008,
          2009,
          2010,
          2011,
          2012,
          2013,
          2014,
          2015,
          2016,
          2017,
          2018,
          2019
         ],
         "xaxis": "x",
         "y": [
          495205,
          543256.9375,
          593964.5,
          646873.8125,
          697127.4375,
          781496.375,
          841850.625,
          892921.5,
          932734.0625,
          1006071.5625,
          1092642.25,
          1147274.25,
          1201906.375,
          1234685.625,
          1311170.625,
          1387655.5,
          1420434.75,
          1420435,
          1496919.75,
          1606184.125,
          1682669.125,
          1735382,
          1810009.375,
          1896482.25,
          1913362.25,
          1896778.5,
          1990655,
          2057286.5,
          2119179.75,
          2207133.5,
          2238228.25,
          2250074,
          2241189.5,
          2276430.5,
          2340692.75,
          2395182.75,
          2449968.5,
          2484320.75,
          2576420.25,
          2676812,
          2817478.5,
          2961403,
          3018352.75,
          2988868,
          3060358.5,
          3107615,
          3132656.75,
          3188799,
          3253019.5,
          3314412.25,
          3410944.5,
          3468298.75,
          3461432.5,
          3437198.5,
          3477588.25,
          3503034,
          3636725.25,
          3744970.75,
          3780918,
          3565638.5,
          3714678.5,
          3860486.5,
          3876642.75,
          3893606.5,
          3979637.5,
          4039011,
          4129080.75,
          4236518.5,
          4290237.5,
          4314067.5
         ],
         "yaxis": "y"
        },
        {
         "hovertemplate": "<b>OLS trendline</b><br>Real GDP = 55133.9 * Year + -1.06975e+08<br>R<sup>2</sup>=0.996079<br><br>Country=Germany<br>Year=%{x}<br>Real GDP=%{y} <b>(trend)</b><extra></extra>",
         "legendgroup": "Germany",
         "line": {
          "color": "#D3D3D3"
         },
         "marker": {
          "color": "#ab63fa",
          "symbol": "circle"
         },
         "mode": "lines",
         "name": "Germany",
         "showlegend": false,
         "type": "scatter",
         "x": [
          1950,
          1951,
          1952,
          1953,
          1954,
          1955,
          1956,
          1957,
          1958,
          1959,
          1960,
          1961,
          1962,
          1963,
          1964,
          1965,
          1966,
          1967,
          1968,
          1969,
          1970,
          1971,
          1972,
          1973,
          1974,
          1975,
          1976,
          1977,
          1978,
          1979,
          1980,
          1981,
          1982,
          1983,
          1984,
          1985,
          1986,
          1987,
          1988,
          1989,
          1990,
          1991,
          1992,
          1993,
          1994,
          1995,
          1996,
          1997,
          1998,
          1999,
          2000,
          2001,
          2002,
          2003,
          2004,
          2005,
          2006,
          2007,
          2008,
          2009,
          2010,
          2011,
          2012,
          2013,
          2014,
          2015,
          2016,
          2017,
          2018,
          2019
         ],
         "xaxis": "x",
         "y": [
          535777.855231382,
          590911.7256025218,
          646045.5959736616,
          701179.4663448015,
          756313.3367159413,
          811447.2070870812,
          866581.077458221,
          921714.947829361,
          976848.8182005008,
          1031982.6885716406,
          1087116.5589427804,
          1142250.4293139204,
          1197384.2996850603,
          1252518.1700562001,
          1307652.04042734,
          1362785.9107984798,
          1417919.7811696196,
          1473053.6515407595,
          1528187.5219118993,
          1583321.3922830392,
          1638455.262654179,
          1693589.1330253188,
          1748723.0033964587,
          1803856.8737675985,
          1858990.7441387384,
          1914124.6145098782,
          1969258.4848810183,
          2024392.3552521581,
          2079526.225623298,
          2134660.0959944376,
          2189793.9663655777,
          2244927.8367367173,
          2300061.7071078573,
          2355195.577478997,
          2410329.447850137,
          2465463.318221277,
          2520597.1885924167,
          2575731.058963557,
          2630864.9293346964,
          2685998.7997058365,
          2741132.670076976,
          2796266.540448116,
          2851400.4108192557,
          2906534.281190396,
          2961668.1515615354,
          3016802.0219326755,
          3071935.892303815,
          3127069.762674955,
          3182203.633046095,
          3237337.503417235,
          3292471.3737883745,
          3347605.2441595146,
          3402739.1145306546,
          3457872.984901794,
          3513006.8552729343,
          3568140.725644074,
          3623274.596015214,
          3678408.4663863536,
          3733542.3367574937,
          3788676.2071286333,
          3843810.0774997734,
          3898943.947870913,
          3954077.818242053,
          4009211.6886131926,
          4064345.5589843327,
          4119479.4293554723,
          4174613.2997266124,
          4229747.1700977525,
          4284881.040468892,
          4340014.910840032
         ],
         "yaxis": "y"
        },
        {
         "hovertemplate": "Country=Spain<br>Year=%{x}<br>Real GDP=%{y}<extra></extra>",
         "legendgroup": "Spain",
         "marker": {
          "color": "#FFA15A",
          "symbol": "circle"
         },
         "mode": "markers",
         "name": "Spain",
         "orientation": "v",
         "showlegend": true,
         "type": "scatter",
         "x": [
          1950,
          1951,
          1952,
          1953,
          1954,
          1955,
          1956,
          1957,
          1958,
          1959,
          1960,
          1961,
          1962,
          1963,
          1964,
          1965,
          1966,
          1967,
          1968,
          1969,
          1970,
          1971,
          1972,
          1973,
          1974,
          1975,
          1976,
          1977,
          1978,
          1979,
          1980,
          1981,
          1982,
          1983,
          1984,
          1985,
          1986,
          1987,
          1988,
          1989,
          1990,
          1991,
          1992,
          1993,
          1994,
          1995,
          1996,
          1997,
          1998,
          1999,
          2000,
          2001,
          2002,
          2003,
          2004,
          2005,
          2006,
          2007,
          2008,
          2009,
          2010,
          2011,
          2012,
          2013,
          2014,
          2015,
          2016,
          2017,
          2018,
          2019
         ],
         "xaxis": "x",
         "y": [
          144666.1875,
          169012.359375,
          177136.671875,
          170952.390625,
          194559.671875,
          206296.921875,
          222248.4375,
          232038.5,
          242163.234375,
          235581.3125,
          263005.71875,
          296804.9375,
          328570.71875,
          361557.3125,
          381048.15625,
          408400.0625,
          440241.59375,
          458083.0625,
          486698.21875,
          532853.3125,
          553603.9375,
          579343.5625,
          626558.625,
          675357.9375,
          713304.8125,
          717172.375,
          740866.25,
          761896.25,
          773042.8125,
          773364,
          790445.5,
          789398.4375,
          799238.0625,
          813385.5,
          827901.8125,
          847121,
          874680.625,
          923200.1875,
          970231.0625,
          1017064.375,
          1055523.5,
          1082397.125,
          1092455,
          1081186.375,
          1106953.25,
          1137477.375,
          1167740.25,
          1210976.75,
          1264175.375,
          1320943.125,
          1390239.625,
          1444917.125,
          1484378.125,
          1528640.75,
          1576377,
          1633946.875,
          1700983.25,
          1762298.375,
          1777932.5,
          1711024.75,
          1713814,
          1699857.125,
          1649550.75,
          1625873.25,
          1648373.875,
          1711591.875,
          1763475.25,
          1815914.875,
          1860042.375,
          1896315.375
         ],
         "yaxis": "y"
        },
        {
         "hovertemplate": "<b>OLS trendline</b><br>Real GDP = 26738.4 * Year + -5.21132e+07<br>R<sup>2</sup>=0.981430<br><br>Country=Spain<br>Year=%{x}<br>Real GDP=%{y} <b>(trend)</b><extra></extra>",
         "legendgroup": "Spain",
         "line": {
          "color": "#D3D3D3"
         },
         "marker": {
          "color": "#FFA15A",
          "symbol": "circle"
         },
         "mode": "lines",
         "name": "Spain",
         "showlegend": false,
         "type": "scatter",
         "x": [
          1950,
          1951,
          1952,
          1953,
          1954,
          1955,
          1956,
          1957,
          1958,
          1959,
          1960,
          1961,
          1962,
          1963,
          1964,
          1965,
          1966,
          1967,
          1968,
          1969,
          1970,
          1971,
          1972,
          1973,
          1974,
          1975,
          1976,
          1977,
          1978,
          1979,
          1980,
          1981,
          1982,
          1983,
          1984,
          1985,
          1986,
          1987,
          1988,
          1989,
          1990,
          1991,
          1992,
          1993,
          1994,
          1995,
          1996,
          1997,
          1998,
          1999,
          2000,
          2001,
          2002,
          2003,
          2004,
          2005,
          2006,
          2007,
          2008,
          2009,
          2010,
          2011,
          2012,
          2013,
          2014,
          2015,
          2016,
          2017,
          2018,
          2019
         ],
         "xaxis": "x",
         "y": [
          26590.435921778728,
          53328.7964359507,
          80067.15695012268,
          106805.51746429465,
          133543.87797846663,
          160282.2384926386,
          187020.59900681057,
          213758.95952098255,
          240497.32003515452,
          267235.68054932647,
          293974.0410634985,
          320712.4015776705,
          347450.7620918424,
          374189.12260601437,
          400927.48312018637,
          427665.8436343584,
          454404.2041485303,
          481142.56466270227,
          507880.92517687427,
          534619.2856910463,
          561357.6462052183,
          588096.0067193902,
          614834.3672335622,
          641572.7277477342,
          668311.088261906,
          695049.4487760781,
          721787.8092902501,
          748526.1698044221,
          775264.5303185941,
          802002.890832766,
          828741.251346938,
          855479.61186111,
          882217.9723752819,
          908956.3328894539,
          935694.6934036259,
          962433.0539177979,
          989171.4144319699,
          1015909.7749461418,
          1042648.1354603138,
          1069386.4959744858,
          1096124.8564886576,
          1122863.2170028298,
          1149601.5775170017,
          1176339.9380311735,
          1203078.2985453457,
          1229816.6590595176,
          1256555.0195736894,
          1283293.3800878616,
          1310031.7406020334,
          1336770.1011162056,
          1363508.4616303775,
          1390246.8221445493,
          1416985.1826587215,
          1443723.5431728933,
          1470461.9036870655,
          1497200.2642012374,
          1523938.6247154092,
          1550676.9852295814,
          1577415.3457437532,
          1604153.7062579251,
          1630892.0667720973,
          1657630.4272862691,
          1684368.787800441,
          1711107.1483146132,
          1737845.508828785,
          1764583.8693429572,
          1791322.229857129,
          1818060.590371301,
          1844798.950885473,
          1871537.311399645
         ],
         "yaxis": "y"
        },
        {
         "hovertemplate": "Country=Finland<br>Year=%{x}<br>Real GDP=%{y}<extra></extra>",
         "legendgroup": "Finland",
         "marker": {
          "color": "#19d3f3",
          "symbol": "circle"
         },
         "mode": "markers",
         "name": "Finland",
         "orientation": "v",
         "showlegend": true,
         "type": "scatter",
         "x": [
          1950,
          1951,
          1952,
          1953,
          1954,
          1955,
          1956,
          1957,
          1958,
          1959,
          1960,
          1961,
          1962,
          1963,
          1964,
          1965,
          1966,
          1967,
          1968,
          1969,
          1970,
          1971,
          1972,
          1973,
          1974,
          1975,
          1976,
          1977,
          1978,
          1979,
          1980,
          1981,
          1982,
          1983,
          1984,
          1985,
          1986,
          1987,
          1988,
          1989,
          1990,
          1991,
          1992,
          1993,
          1994,
          1995,
          1996,
          1997,
          1998,
          1999,
          2000,
          2001,
          2002,
          2003,
          2004,
          2005,
          2006,
          2007,
          2008,
          2009,
          2010,
          2011,
          2012,
          2013,
          2014,
          2015,
          2016,
          2017,
          2018,
          2019
         ],
         "xaxis": "x",
         "y": [
          29967.763671875,
          32476.232421875,
          34123.59375,
          33995.3515625,
          36766.33203125,
          39773.43359375,
          40941.05859375,
          41114.05078125,
          41073.05859375,
          44088.49609375,
          47812.8828125,
          51449.109375,
          52983.19921875,
          54723.64453125,
          57825.82421875,
          60660.43359375,
          62361.1875,
          63495.02734375,
          64628.8671875,
          70864.984375,
          76534.1875,
          78338.0390625,
          84397.8671875,
          90292.0703125,
          93214.40625,
          94896.828125,
          95223.6328125,
          95451.7109375,
          98238.6171875,
          105235.09375,
          110906.2734375,
          112365.65625,
          115858.0859375,
          119468.8984375,
          123336.9296875,
          127714.03125,
          131233.359375,
          135924.734375,
          143016.109375,
          150291.5625,
          151298.9375,
          142392.984375,
          137701.609375,
          136790.03125,
          142211.09375,
          148207.9375,
          153642.984375,
          163374.421875,
          172290.0625,
          179835.640625,
          190218.203125,
          195182.9375,
          198515,
          202492.796875,
          210576.515625,
          216430.21875,
          225146.75,
          237078.03125,
          238936.71875,
          219643.90625,
          226641.65625,
          232415.71875,
          229167.609375,
          227101.203125,
          226272.5,
          227502.671875,
          233898.796875,
          241547.703125,
          245213.390625,
          248022.421875
         ],
         "yaxis": "y"
        },
        {
         "hovertemplate": "<b>OLS trendline</b><br>Real GDP = 3423.67 * Year + -6.66366e+06<br>R<sup>2</sup>=0.978685<br><br>Country=Finland<br>Year=%{x}<br>Real GDP=%{y} <b>(trend)</b><extra></extra>",
         "legendgroup": "Finland",
         "line": {
          "color": "#D3D3D3"
         },
         "marker": {
          "color": "#19d3f3",
          "symbol": "circle"
         },
         "mode": "lines",
         "name": "Finland",
         "showlegend": false,
         "type": "scatter",
         "x": [
          1950,
          1951,
          1952,
          1953,
          1954,
          1955,
          1956,
          1957,
          1958,
          1959,
          1960,
          1961,
          1962,
          1963,
          1964,
          1965,
          1966,
          1967,
          1968,
          1969,
          1970,
          1971,
          1972,
          1973,
          1974,
          1975,
          1976,
          1977,
          1978,
          1979,
          1980,
          1981,
          1982,
          1983,
          1984,
          1985,
          1986,
          1987,
          1988,
          1989,
          1990,
          1991,
          1992,
          1993,
          1994,
          1995,
          1996,
          1997,
          1998,
          1999,
          2000,
          2001,
          2002,
          2003,
          2004,
          2005,
          2006,
          2007,
          2008,
          2009,
          2010,
          2011,
          2012,
          2013,
          2014,
          2015,
          2016,
          2017,
          2018,
          2019
         ],
         "xaxis": "x",
         "y": [
          12495.072474692053,
          15918.740385622306,
          19342.40829655256,
          22766.076207482813,
          26189.744118413066,
          29613.41202934332,
          33037.07994027357,
          36460.74785120383,
          39884.41576213408,
          43308.083673064335,
          46731.751583994585,
          50155.41949492484,
          53579.0874058551,
          57002.75531678535,
          60426.423227715604,
          63850.091138645854,
          67273.75904957611,
          70697.42696050636,
          74121.09487143662,
          77544.76278236687,
          80968.43069329712,
          84392.09860422737,
          87815.76651515764,
          91239.43442608789,
          94663.10233701814,
          98086.77024794839,
          101510.43815887865,
          104934.1060698089,
          108357.77398073915,
          111781.44189166941,
          115205.10980259966,
          118628.77771352991,
          122052.44562446016,
          125476.11353539042,
          128899.78144632067,
          132323.44935725094,
          135747.11726818117,
          139170.78517911144,
          142594.4530900417,
          146018.12100097194,
          149441.7889119022,
          152865.45682283244,
          156289.1247337627,
          159712.79264469296,
          163136.4605556232,
          166560.12846655346,
          169983.79637748373,
          173407.46428841396,
          176831.13219934423,
          180254.8001102745,
          183678.46802120472,
          187102.135932135,
          190525.80384306525,
          193949.4717539955,
          197373.13966492575,
          200796.807575856,
          204220.47548678625,
          207644.1433977165,
          211067.81130864675,
          214491.479219577,
          217915.14713050728,
          221338.8150414375,
          224762.48295236778,
          228186.15086329804,
          231609.81877422828,
          235033.48668515854,
          238457.1545960888,
          241880.82250701904,
          245304.4904179493,
          248728.15832887954
         ],
         "yaxis": "y"
        },
        {
         "hovertemplate": "Country=France<br>Year=%{x}<br>Real GDP=%{y}<extra></extra>",
         "legendgroup": "France",
         "marker": {
          "color": "#FF6692",
          "symbol": "circle"
         },
         "mode": "markers",
         "name": "France",
         "orientation": "v",
         "showlegend": true,
         "type": "scatter",
         "x": [
          1950,
          1951,
          1952,
          1953,
          1954,
          1955,
          1956,
          1957,
          1958,
          1959,
          1960,
          1961,
          1962,
          1963,
          1964,
          1965,
          1966,
          1967,
          1968,
          1969,
          1970,
          1971,
          1972,
          1973,
          1974,
          1975,
          1976,
          1977,
          1978,
          1979,
          1980,
          1981,
          1982,
          1983,
          1984,
          1985,
          1986,
          1987,
          1988,
          1989,
          1990,
          1991,
          1992,
          1993,
          1994,
          1995,
          1996,
          1997,
          1998,
          1999,
          2000,
          2001,
          2002,
          2003,
          2004,
          2005,
          2006,
          2007,
          2008,
          2009,
          2010,
          2011,
          2012,
          2013,
          2014,
          2015,
          2016,
          2017,
          2018,
          2019
         ],
         "xaxis": "x",
         "y": [
          372406.8125,
          393096.03125,
          405827.9375,
          420151.28125,
          444023.46875,
          467895.71875,
          491767.96875,
          518823.125,
          533146.5,
          547469.8125,
          592031.3125,
          622269.5,
          663648,
          706618,
          752771,
          789375.0625,
          830753.5625,
          872132.1875,
          910327.6875,
          975578.5,
          1036054.8125,
          1091138.875,
          1140364.125,
          1212715.5,
          1264873.5,
          1252732.125,
          1307310.75,
          1352599.875,
          1406413.75,
          1456341.375,
          1479333.25,
          1495147.625,
          1532607,
          1551624.625,
          1575111.875,
          1600672.375,
          1638084.625,
          1680050.625,
          1759737.875,
          1836178.625,
          1889867.125,
          1909676.25,
          1940218.5,
          1928021,
          1973490.375,
          2015065.75,
          2043538.625,
          2091281.75,
          2166330.5,
          2240449,
          2328356.75,
          2374544.75,
          2401508.5,
          2421277,
          2489792.75,
          2531203.75,
          2593201,
          2656079.25,
          2662850.75,
          2586338.75,
          2636758,
          2694574.25,
          2703011.75,
          2718589.75,
          2744584.5,
          2775129.5,
          2805530.25,
          2869816.5,
          2921268.5,
          2965338.5
         ],
         "yaxis": "y"
        },
        {
         "hovertemplate": "<b>OLS trendline</b><br>Real GDP = 39939.7 * Year + -7.7631e+07<br>R<sup>2</sup>=0.995520<br><br>Country=France<br>Year=%{x}<br>Real GDP=%{y} <b>(trend)</b><extra></extra>",
         "legendgroup": "France",
         "line": {
          "color": "#D3D3D3"
         },
         "marker": {
          "color": "#FF6692",
          "symbol": "circle"
         },
         "mode": "lines",
         "name": "France",
         "showlegend": false,
         "type": "scatter",
         "x": [
          1950,
          1951,
          1952,
          1953,
          1954,
          1955,
          1956,
          1957,
          1958,
          1959,
          1960,
          1961,
          1962,
          1963,
          1964,
          1965,
          1966,
          1967,
          1968,
          1969,
          1970,
          1971,
          1972,
          1973,
          1974,
          1975,
          1976,
          1977,
          1978,
          1979,
          1980,
          1981,
          1982,
          1983,
          1984,
          1985,
          1986,
          1987,
          1988,
          1989,
          1990,
          1991,
          1992,
          1993,
          1994,
          1995,
          1996,
          1997,
          1998,
          1999,
          2000,
          2001,
          2002,
          2003,
          2004,
          2005,
          2006,
          2007,
          2008,
          2009,
          2010,
          2011,
          2012,
          2013,
          2014,
          2015,
          2016,
          2017,
          2018,
          2019
         ],
         "xaxis": "x",
         "y": [
          251463.31295271838,
          291403.05141009303,
          331342.7898674677,
          371282.5283248424,
          411222.2667822171,
          451162.0052395917,
          491101.7436969664,
          531041.4821543411,
          570981.2206117157,
          610920.9590690904,
          650860.697526465,
          690800.4359838397,
          730740.1744412144,
          770679.912898589,
          810619.6513559637,
          850559.3898133384,
          890499.128270713,
          930438.8667280878,
          970378.6051854624,
          1010318.343642837,
          1050258.0821002116,
          1090197.8205575864,
          1130137.5590149611,
          1170077.2974723356,
          1210017.0359297104,
          1249956.774387085,
          1289896.5128444596,
          1329836.2513018344,
          1369775.989759209,
          1409715.7282165838,
          1449655.4666739583,
          1489595.205131333,
          1529534.9435887078,
          1569474.6820460823,
          1609414.420503457,
          1649354.1589608318,
          1689293.8974182063,
          1729233.635875581,
          1769173.3743329558,
          1809113.1127903303,
          1849052.851247705,
          1888992.5897050798,
          1928932.3281624545,
          1968872.066619829,
          2008811.8050772038,
          2048751.5435345785,
          2088691.281991953,
          2128631.020449328,
          2168570.7589067025,
          2208510.4973640773,
          2248450.235821452,
          2288389.9742788263,
          2328329.712736201,
          2368269.4511935757,
          2408209.1896509505,
          2448148.928108325,
          2488088.6665657,
          2528028.4050230742,
          2567968.143480449,
          2607907.8819378237,
          2647847.6203951985,
          2687787.358852573,
          2727727.097309948,
          2767666.835767322,
          2807606.574224697,
          2847546.3126820717,
          2887486.0511394464,
          2927425.789596821,
          2967365.528054196,
          3007305.2665115707
         ],
         "yaxis": "y"
        },
        {
         "hovertemplate": "Country=Greece<br>Year=%{x}<br>Real GDP=%{y}<extra></extra>",
         "legendgroup": "Greece",
         "marker": {
          "color": "#B6E880",
          "symbol": "circle"
         },
         "mode": "markers",
         "name": "Greece",
         "orientation": "v",
         "showlegend": true,
         "type": "scatter",
         "x": [
          1951,
          1952,
          1953,
          1954,
          1955,
          1956,
          1957,
          1958,
          1959,
          1960,
          1961,
          1962,
          1963,
          1964,
          1965,
          1966,
          1967,
          1968,
          1969,
          1970,
          1971,
          1972,
          1973,
          1974,
          1975,
          1976,
          1977,
          1978,
          1979,
          1980,
          1981,
          1982,
          1983,
          1984,
          1985,
          1986,
          1987,
          1988,
          1989,
          1990,
          1991,
          1992,
          1993,
          1994,
          1995,
          1996,
          1997,
          1998,
          1999,
          2000,
          2001,
          2002,
          2003,
          2004,
          2005,
          2006,
          2007,
          2008,
          2009,
          2010,
          2011,
          2012,
          2013,
          2014,
          2015,
          2016,
          2017,
          2018,
          2019
         ],
         "xaxis": "x",
         "y": [
          38966.640625,
          38374.85546875,
          41727.0625,
          43580.6484375,
          45909.5078125,
          49945.44921875,
          53519.27734375,
          55981.0703125,
          58060.1015625,
          59409.765625,
          67254.140625,
          67499.484375,
          75494.7109375,
          82598.515625,
          91492.734375,
          97434.734375,
          102958.7890625,
          110375.6484375,
          123139.125,
          134136.171875,
          144654.015625,
          159351.09375,
          172246.375,
          161156.734375,
          171417.296875,
          183162.625,
          188549.4375,
          202213.375,
          208850.171875,
          210264.359375,
          206997.4375,
          204652.890625,
          202445.453125,
          206515.78125,
          211698.40625,
          212794.28125,
          207987.546875,
          216905.78125,
          225148.203125,
          225148.1875,
          232127.796875,
          233752.6875,
          230012.640625,
          234612.875,
          239539.109375,
          246395,
          257443.875,
          267471.0625,
          275689.375,
          286495.75,
          298332.65625,
          310035.875,
          328001,
          344601.375,
          346666.03125,
          366261.09375,
          378251.5625,
          376983.75,
          360770.6875,
          341005.40625,
          306395.65625,
          284695.625,
          276889.9375,
          278823.03125,
          277674.53125,
          276314.3125,
          279853.40625,
          284216.25,
          289493.21875
         ],
         "yaxis": "y"
        },
        {
         "hovertemplate": "<b>OLS trendline</b><br>Real GDP = 4652.28 * Year + -9.03378e+06<br>R<sup>2</sup>=0.891041<br><br>Country=Greece<br>Year=%{x}<br>Real GDP=%{y} <b>(trend)</b><extra></extra>",
         "legendgroup": "Greece",
         "line": {
          "color": "#D3D3D3"
         },
         "marker": {
          "color": "#B6E880",
          "symbol": "circle"
         },
         "mode": "lines",
         "name": "Greece",
         "showlegend": false,
         "type": "scatter",
         "x": [
          1951,
          1952,
          1953,
          1954,
          1955,
          1956,
          1957,
          1958,
          1959,
          1960,
          1961,
          1962,
          1963,
          1964,
          1965,
          1966,
          1967,
          1968,
          1969,
          1970,
          1971,
          1972,
          1973,
          1974,
          1975,
          1976,
          1977,
          1978,
          1979,
          1980,
          1981,
          1982,
          1983,
          1984,
          1985,
          1986,
          1987,
          1988,
          1989,
          1990,
          1991,
          1992,
          1993,
          1994,
          1995,
          1996,
          1997,
          1998,
          1999,
          2000,
          2001,
          2002,
          2003,
          2004,
          2005,
          2006,
          2007,
          2008,
          2009,
          2010,
          2011,
          2012,
          2013,
          2014,
          2015,
          2016,
          2017,
          2018,
          2019
         ],
         "xaxis": "x",
         "y": [
          42819.85663981673,
          47472.138548041985,
          52124.42045626724,
          56776.70236449249,
          61428.98427271775,
          66081.266180943,
          70733.54808916827,
          75385.82999739352,
          80038.11190561877,
          84690.39381384403,
          89342.67572206928,
          93994.95763029454,
          98647.23953851979,
          103299.52144674506,
          107951.80335497031,
          112604.08526319556,
          117256.36717142082,
          121908.64907964607,
          126560.93098787132,
          131213.21289609658,
          135865.49480432185,
          140517.7767125471,
          145170.05862077235,
          149822.3405289976,
          154474.62243722286,
          159126.90434544813,
          163779.18625367337,
          168431.46816189864,
          173083.75007012388,
          177736.03197834914,
          182388.31388657438,
          187040.59579479965,
          191692.8777030249,
          196345.15961125016,
          200997.44151947543,
          205649.72342770066,
          210302.00533592593,
          214954.28724415117,
          219606.56915237644,
          224258.85106060168,
          228911.13296882695,
          233563.4148770522,
          238215.69678527745,
          242867.97869350272,
          247520.26060172796,
          252172.54250995323,
          256824.82441817847,
          261477.10632640374,
          266129.388234629,
          270781.6701428542,
          275433.9520510795,
          280086.23395930475,
          284738.51586753,
          289390.7977757553,
          294043.0796839805,
          298695.36159220577,
          303347.64350043103,
          307999.9254086563,
          312652.20731688157,
          317304.4892251068,
          321956.77113333205,
          326609.0530415573,
          331261.3349497826,
          335913.6168580078,
          340565.89876623306,
          345218.18067445833,
          349870.4625826836,
          354522.74449090887,
          359175.0263991341
         ],
         "yaxis": "y"
        },
        {
         "hovertemplate": "Country=Ireland<br>Year=%{x}<br>Real GDP=%{y}<extra></extra>",
         "legendgroup": "Ireland",
         "marker": {
          "color": "#FF97FF",
          "symbol": "circle"
         },
         "mode": "markers",
         "name": "Ireland",
         "orientation": "v",
         "showlegend": true,
         "type": "scatter",
         "x": [
          1950,
          1951,
          1952,
          1953,
          1954,
          1955,
          1956,
          1957,
          1958,
          1959,
          1960,
          1961,
          1962,
          1963,
          1964,
          1965,
          1966,
          1967,
          1968,
          1969,
          1970,
          1971,
          1972,
          1973,
          1974,
          1975,
          1976,
          1977,
          1978,
          1979,
          1980,
          1981,
          1982,
          1983,
          1984,
          1985,
          1986,
          1987,
          1988,
          1989,
          1990,
          1991,
          1992,
          1993,
          1994,
          1995,
          1996,
          1997,
          1998,
          1999,
          2000,
          2001,
          2002,
          2003,
          2004,
          2005,
          2006,
          2007,
          2008,
          2009,
          2010,
          2011,
          2012,
          2013,
          2014,
          2015,
          2016,
          2017,
          2018,
          2019
         ],
         "xaxis": "x",
         "y": [
          25913.306640625,
          26798.6875,
          26337.310546875,
          27309.111328125,
          27517.974609375,
          28789.216796875,
          27802.9453125,
          27009.125,
          26925.453125,
          28459.947265625,
          29564.736328125,
          31037.400390625,
          32230.46484375,
          33836.05078125,
          35315.87890625,
          36160.69140625,
          36242.56640625,
          38107.0625,
          41573.58984375,
          44525.73046875,
          45322.19140625,
          46894.8203125,
          49938.20703125,
          52296.00390625,
          54523.93359375,
          57608.16015625,
          58411.68359375,
          63208.04296875,
          67750.6328125,
          69832.6328125,
          71983.0078125,
          74376.6015625,
          76074.96875,
          75889.1171875,
          79193.609375,
          81637.2265625,
          81287.546875,
          85078.0546875,
          89516.9296875,
          94721.3671875,
          102740.984375,
          104723.5234375,
          108224.7109375,
          111138.7734375,
          117535.734375,
          128859.6328125,
          138357.75,
          153596.9375,
          167001.9375,
          184547.890625,
          201920.703125,
          212643.109375,
          225188.5,
          231946.234375,
          247678.78125,
          261887.015625,
          274959.875,
          289584.15625,
          276731.125,
          262687.875,
          267345.96875,
          268952.9375,
          269296.6875,
          272600.5625,
          296154.46875,
          370715.53125,
          378106.71875,
          412625.75,
          447766.5625,
          472685.65625
         ],
         "yaxis": "y"
        },
        {
         "hovertemplate": "<b>OLS trendline</b><br>Real GDP = 5237.55 * Year + -1.02616e+07<br>R<sup>2</sup>=0.823523<br><br>Country=Ireland<br>Year=%{x}<br>Real GDP=%{y} <b>(trend)</b><extra></extra>",
         "legendgroup": "Ireland",
         "line": {
          "color": "#D3D3D3"
         },
         "marker": {
          "color": "#FF97FF",
          "symbol": "circle"
         },
         "mode": "lines",
         "name": "Ireland",
         "showlegend": false,
         "type": "scatter",
         "x": [
          1950,
          1951,
          1952,
          1953,
          1954,
          1955,
          1956,
          1957,
          1958,
          1959,
          1960,
          1961,
          1962,
          1963,
          1964,
          1965,
          1966,
          1967,
          1968,
          1969,
          1970,
          1971,
          1972,
          1973,
          1974,
          1975,
          1976,
          1977,
          1978,
          1979,
          1980,
          1981,
          1982,
          1983,
          1984,
          1985,
          1986,
          1987,
          1988,
          1989,
          1990,
          1991,
          1992,
          1993,
          1994,
          1995,
          1996,
          1997,
          1998,
          1999,
          2000,
          2001,
          2002,
          2003,
          2004,
          2005,
          2006,
          2007,
          2008,
          2009,
          2010,
          2011,
          2012,
          2013,
          2014,
          2015,
          2016,
          2017,
          2018,
          2019
         ],
         "xaxis": "x",
         "y": [
          -48335.32887324206,
          -43097.77976220355,
          -37860.23065116504,
          -32622.681540126527,
          -27385.132429088015,
          -22147.583318049506,
          -16910.034207010995,
          -11672.485095972483,
          -6434.935984933973,
          -1197.3868738954616,
          4040.1622371430494,
          9277.711348181561,
          14515.260459220071,
          19752.80957025858,
          24990.358681297093,
          30227.907792335605,
          35465.45690337411,
          40703.006014412626,
          45940.55512545114,
          51178.10423648965,
          56415.65334752816,
          61653.20245856667,
          66890.75156960519,
          72128.30068064369,
          77365.84979168221,
          82603.39890272071,
          87840.94801375922,
          93078.49712479774,
          98316.04623583624,
          103553.59534687476,
          108791.14445791327,
          114028.69356895178,
          119266.24267999029,
          124503.79179102881,
          129741.34090206731,
          134978.89001310582,
          140216.43912414432,
          145453.98823518286,
          150691.53734622136,
          155929.08645725987,
          161166.63556829837,
          166404.1846793369,
          171641.7337903754,
          176879.2829014139,
          182116.83201245242,
          187354.38112349092,
          192591.93023452946,
          197829.47934556796,
          203067.02845660647,
          208304.57756764497,
          213542.1266786835,
          218779.675789722,
          224017.2249007605,
          229254.77401179902,
          234492.32312283752,
          239729.87223387606,
          244967.42134491456,
          250204.97045595307,
          255442.51956699157,
          260680.06867803007,
          265917.6177890686,
          271155.1669001071,
          276392.7160111456,
          281630.2651221841,
          286867.8142332226,
          292105.36334426113,
          297342.91245529964,
          302580.4615663382,
          307818.0106773767,
          313055.5597884152
         ],
         "yaxis": "y"
        },
        {
         "hovertemplate": "Country=Italy<br>Year=%{x}<br>Real GDP=%{y}<extra></extra>",
         "legendgroup": "Italy",
         "marker": {
          "color": "#FECB52",
          "symbol": "circle"
         },
         "mode": "markers",
         "name": "Italy",
         "orientation": "v",
         "showlegend": true,
         "type": "scatter",
         "x": [
          1950,
          1951,
          1952,
          1953,
          1954,
          1955,
          1956,
          1957,
          1958,
          1959,
          1960,
          1961,
          1962,
          1963,
          1964,
          1965,
          1966,
          1967,
          1968,
          1969,
          1970,
          1971,
          1972,
          1973,
          1974,
          1975,
          1976,
          1977,
          1978,
          1979,
          1980,
          1981,
          1982,
          1983,
          1984,
          1985,
          1986,
          1987,
          1988,
          1989,
          1990,
          1991,
          1992,
          1993,
          1994,
          1995,
          1996,
          1997,
          1998,
          1999,
          2000,
          2001,
          2002,
          2003,
          2004,
          2005,
          2006,
          2007,
          2008,
          2009,
          2010,
          2011,
          2012,
          2013,
          2014,
          2015,
          2016,
          2017,
          2018,
          2019
         ],
         "xaxis": "x",
         "y": [
          340576.96875,
          370354.8125,
          386296.1875,
          410109.09375,
          426902.21875,
          449737.53125,
          468255.375,
          486049.8125,
          508851.15625,
          542033.0625,
          586620.4375,
          635370,
          674369.75,
          711744.4375,
          731244.25,
          755619.125,
          801118.75,
          857993.3125,
          914867.9375,
          970117.4375,
          1091991.5,
          1111845.125,
          1152877.625,
          1235030.125,
          1302958.375,
          1275724.625,
          1366624.875,
          1401617.25,
          1447031.625,
          1533262.5,
          1585853.625,
          1599241.875,
          1605856.25,
          1624631.875,
          1677040,
          1723965,
          1773270,
          1829872,
          1906623.75,
          1971227.5,
          2011688.625,
          2042542.625,
          2058330.375,
          2040047.875,
          2083947.375,
          2142860,
          2170005.25,
          2209721,
          2249730.75,
          2286305,
          2372886.25,
          2419190.25,
          2425333.5,
          2428695.75,
          2463270.5,
          2483416.5,
          2527885.5,
          2565477,
          2540796.5,
          2406618.75,
          2447851.25,
          2465165.75,
          2391681.5,
          2347649,
          2347542.25,
          2365813.25,
          2396414.25,
          2436383.25,
          2459384.75,
          2467813.5
         ],
         "yaxis": "y"
        },
        {
         "hovertemplate": "<b>OLS trendline</b><br>Real GDP = 36122.5 * Year + -7.00809e+07<br>R<sup>2</sup>=0.953038<br><br>Country=Italy<br>Year=%{x}<br>Real GDP=%{y} <b>(trend)</b><extra></extra>",
         "legendgroup": "Italy",
         "line": {
          "color": "#D3D3D3"
         },
         "marker": {
          "color": "#FECB52",
          "symbol": "circle"
         },
         "mode": "lines",
         "name": "Italy",
         "showlegend": false,
         "type": "scatter",
         "x": [
          1950,
          1951,
          1952,
          1953,
          1954,
          1955,
          1956,
          1957,
          1958,
          1959,
          1960,
          1961,
          1962,
          1963,
          1964,
          1965,
          1966,
          1967,
          1968,
          1969,
          1970,
          1971,
          1972,
          1973,
          1974,
          1975,
          1976,
          1977,
          1978,
          1979,
          1980,
          1981,
          1982,
          1983,
          1984,
          1985,
          1986,
          1987,
          1988,
          1989,
          1990,
          1991,
          1992,
          1993,
          1994,
          1995,
          1996,
          1997,
          1998,
          1999,
          2000,
          2001,
          2002,
          2003,
          2004,
          2005,
          2006,
          2007,
          2008,
          2009,
          2010,
          2011,
          2012,
          2013,
          2014,
          2015,
          2016,
          2017,
          2018,
          2019
         ],
         "xaxis": "x",
         "y": [
          358047.03467051126,
          394169.574154699,
          430292.1136388867,
          466414.65312307444,
          502537.1926072622,
          538659.7320914499,
          574782.2715756376,
          610904.8110598252,
          647027.350544013,
          683149.8900282007,
          719272.4295123884,
          755394.9689965761,
          791517.5084807639,
          827640.0479649516,
          863762.5874491392,
          899885.126933327,
          936007.6664175147,
          972130.2059017024,
          1008252.7453858901,
          1044375.2848700779,
          1080497.8243542656,
          1116620.3638384533,
          1152742.903322641,
          1188865.4428068288,
          1224987.9822910165,
          1261110.5217752042,
          1297233.0612593917,
          1333355.6007435794,
          1369478.1402277672,
          1405600.679711955,
          1441723.2191961426,
          1477845.7586803304,
          1513968.298164518,
          1550090.8376487058,
          1586213.3771328935,
          1622335.9166170813,
          1658458.456101269,
          1694580.9955854567,
          1730703.5350696445,
          1766826.0745538322,
          1802948.61403802,
          1839071.1535222076,
          1875193.6930063954,
          1911316.2324905829,
          1947438.7719747706,
          1983561.3114589583,
          2019683.850943146,
          2055806.3904273338,
          2091928.9299115215,
          2128051.469395709,
          2164174.008879897,
          2200296.5483640847,
          2236419.087848272,
          2272541.62733246,
          2308664.1668166476,
          2344786.7063008356,
          2380909.245785023,
          2417031.785269211,
          2453154.3247533985,
          2489276.8642375865,
          2525399.403721774,
          2561521.943205962,
          2597644.4826901495,
          2633767.0221743374,
          2669889.561658525,
          2706012.101142713,
          2742134.6406269004,
          2778257.180111088,
          2814379.719595276,
          2850502.2590794633
         ],
         "yaxis": "y"
        },
        {
         "hovertemplate": "Country=Luxembourg<br>Year=%{x}<br>Real GDP=%{y}<extra></extra>",
         "legendgroup": "Luxembourg",
         "marker": {
          "color": "#636efa",
          "symbol": "circle"
         },
         "mode": "markers",
         "name": "Luxembourg",
         "orientation": "v",
         "showlegend": true,
         "type": "scatter",
         "x": [
          1950,
          1951,
          1952,
          1953,
          1954,
          1955,
          1956,
          1957,
          1958,
          1959,
          1960,
          1961,
          1962,
          1963,
          1964,
          1965,
          1966,
          1967,
          1968,
          1969,
          1970,
          1971,
          1972,
          1973,
          1974,
          1975,
          1976,
          1977,
          1978,
          1979,
          1980,
          1981,
          1982,
          1983,
          1984,
          1985,
          1986,
          1987,
          1988,
          1989,
          1990,
          1991,
          1992,
          1993,
          1994,
          1995,
          1996,
          1997,
          1998,
          1999,
          2000,
          2001,
          2002,
          2003,
          2004,
          2005,
          2006,
          2007,
          2008,
          2009,
          2010,
          2011,
          2012,
          2013,
          2014,
          2015,
          2016,
          2017,
          2018,
          2019
         ],
         "xaxis": "x",
         "y": [
          5566.03271484375,
          5323.78955078125,
          5624.16796875,
          5756.68408203125,
          5710.646484375,
          5986.64892578125,
          6242.48779296875,
          6560.3896484375,
          6645.70751953125,
          6655.865234375,
          6940.1376953125,
          7183.93505859375,
          7273.78857421875,
          7415.478515625,
          8083.1982421875,
          8223.8466796875,
          8321.921875,
          8387.0966796875,
          8825.244140625,
          9774.404296875,
          9880.458984375,
          10143.994140625,
          10813.3154296875,
          11712.1904296875,
          12205.5625,
          11403.490234375,
          11692.4921875,
          11876.037109375,
          12359.984375,
          12649.900390625,
          12756.2705078125,
          12685.990234375,
          12829.505859375,
          13212.990234375,
          14030.470703125,
          14422.16015625,
          15862.05859375,
          16488.765625,
          17884.255859375,
          19636.56640625,
          20681.21875,
          22468.943359375,
          22877.798828125,
          23838.814453125,
          24749.677734375,
          25104.142578125,
          25452.697265625,
          26905.97265625,
          28532.345703125,
          30952.171875,
          33502.56640625,
          34350.84765625,
          35662.8671875,
          36243.9140625,
          37553.11328125,
          38744.46484375,
          40750.83984375,
          44155.390625,
          43590.38671875,
          41690.44921875,
          43718.67578125,
          44828.796875,
          44670.765625,
          46303.203125,
          48292.75,
          50372.4453125,
          52676.78515625,
          53625.59375,
          55293.7890625,
          56563.8828125
         ],
         "yaxis": "y"
        },
        {
         "hovertemplate": "<b>OLS trendline</b><br>Real GDP = 734.79 * Year + -1.4362e+06<br>R<sup>2</sup>=0.902909<br><br>Country=Luxembourg<br>Year=%{x}<br>Real GDP=%{y} <b>(trend)</b><extra></extra>",
         "legendgroup": "Luxembourg",
         "line": {
          "color": "#D3D3D3"
         },
         "marker": {
          "color": "#636efa",
          "symbol": "circle"
         },
         "mode": "lines",
         "name": "Luxembourg",
         "showlegend": false,
         "type": "scatter",
         "x": [
          1950,
          1951,
          1952,
          1953,
          1954,
          1955,
          1956,
          1957,
          1958,
          1959,
          1960,
          1961,
          1962,
          1963,
          1964,
          1965,
          1966,
          1967,
          1968,
          1969,
          1970,
          1971,
          1972,
          1973,
          1974,
          1975,
          1976,
          1977,
          1978,
          1979,
          1980,
          1981,
          1982,
          1983,
          1984,
          1985,
          1986,
          1987,
          1988,
          1989,
          1990,
          1991,
          1992,
          1993,
          1994,
          1995,
          1996,
          1997,
          1998,
          1999,
          2000,
          2001,
          2002,
          2003,
          2004,
          2005,
          2006,
          2007,
          2008,
          2009,
          2010,
          2011,
          2012,
          2013,
          2014,
          2015,
          2016,
          2017,
          2018,
          2019
         ],
         "xaxis": "x",
         "y": [
          -3361.6530047474052,
          -2626.8625482174652,
          -1892.0720916875252,
          -1157.2816351575852,
          -422.491178627645,
          312.2992779022951,
          1047.0897344322352,
          1781.8801909621752,
          2516.6706474921157,
          3251.4611040220557,
          3986.2515605519957,
          4721.042017081936,
          5455.832473611876,
          6190.622930141816,
          6925.413386671757,
          7660.203843201696,
          8394.994299731636,
          9129.784756261577,
          9864.575212791517,
          10599.365669321456,
          11334.156125851398,
          12068.946582381337,
          12803.737038911277,
          13538.527495441218,
          14273.317951971158,
          15008.108408501097,
          15742.898865031038,
          16477.689321560978,
          17212.479778090918,
          17947.270234620857,
          18682.060691150797,
          19416.85114768074,
          20151.64160421068,
          20886.43206074062,
          21621.22251727056,
          22356.012973800498,
          23090.803430330438,
          23825.593886860377,
          24560.38434339032,
          25295.17479992026,
          26029.9652564502,
          26764.75571298014,
          27499.54616951008,
          28234.336626040018,
          28969.12708256996,
          29703.9175390999,
          30438.70799562984,
          31173.49845215978,
          31908.28890868972,
          32643.07936521966,
          33377.8698217496,
          34112.66027827954,
          34847.45073480948,
          35582.24119133942,
          36317.031647869364,
          37051.8221043993,
          37786.61256092924,
          38521.40301745918,
          39256.19347398912,
          39990.98393051906,
          40725.774387049,
          41460.56484357894,
          42195.35530010888,
          42930.14575663882,
          43664.93621316876,
          44399.7266696987,
          45134.517126228646,
          45869.307582758585,
          46604.098039288525,
          47338.888495818464
         ],
         "yaxis": "y"
        },
        {
         "hovertemplate": "Country=Malta<br>Year=%{x}<br>Real GDP=%{y}<extra></extra>",
         "legendgroup": "Malta",
         "marker": {
          "color": "#EF553B",
          "symbol": "circle"
         },
         "mode": "markers",
         "name": "Malta",
         "orientation": "v",
         "showlegend": true,
         "type": "scatter",
         "x": [
          1954,
          1955,
          1956,
          1957,
          1958,
          1959,
          1960,
          1961,
          1962,
          1963,
          1964,
          1965,
          1966,
          1967,
          1968,
          1969,
          1970,
          1971,
          1972,
          1973,
          1974,
          1975,
          1976,
          1977,
          1978,
          1979,
          1980,
          1981,
          1982,
          1983,
          1984,
          1985,
          1986,
          1987,
          1988,
          1989,
          1990,
          1991,
          1992,
          1993,
          1994,
          1995,
          1996,
          1997,
          1998,
          1999,
          2000,
          2001,
          2002,
          2003,
          2004,
          2005,
          2006,
          2007,
          2008,
          2009,
          2010,
          2011,
          2012,
          2013,
          2014,
          2015,
          2016,
          2017,
          2018,
          2019
         ],
         "xaxis": "x",
         "y": [
          669.5916137695312,
          669.5916748046875,
          749.6961059570312,
          747.6421508789062,
          786.66748046875,
          782.5595703125,
          828.1781005859375,
          821.5848999023438,
          786.66748046875,
          785.1886596679688,
          800.9425659179688,
          857.3854370117188,
          948.8278198242188,
          1015.6432495117188,
          1117.4786376953125,
          1189.2440185546875,
          1339.183349609375,
          1372.0467529296875,
          1452.151123046875,
          1512.359619140625,
          1664.14599609375,
          1989.6544189453125,
          2328.235595703125,
          2611.911865234375,
          2903.431396484375,
          3208.023681640625,
          3434.18017578125,
          3547.912109375,
          3628.96240234375,
          3606.739013671875,
          3640.7275390625,
          3734.8505859375,
          3879.956787109375,
          4039.44287109375,
          4379.33154296875,
          4737.521484375,
          5035.57763671875,
          5350.6279296875,
          5601.623046875,
          5852.6171875,
          6183.3544921875,
          6575.53369140625,
          6823.91357421875,
          7182.6455078125,
          7550.79931640625,
          7907.19482421875,
          8442.52734375,
          8493.8876953125,
          8747.2451171875,
          8969.75390625,
          9009.52734375,
          9350.4169921875,
          9521.4091796875,
          9900.9755859375,
          10232.3125,
          9980.365234375,
          10333.9375,
          10479.4072265625,
          10774.8857421875,
          11297.884765625,
          12312.41015625,
          13657.646484375,
          14453.4208984375,
          15395.1318359375,
          16523.650390625,
          17294.841796875
         ],
         "yaxis": "y"
        },
        {
         "hovertemplate": "<b>OLS trendline</b><br>Real GDP = 224.625 * Year + -440736<br>R<sup>2</sup>=0.913992<br><br>Country=Malta<br>Year=%{x}<br>Real GDP=%{y} <b>(trend)</b><extra></extra>",
         "legendgroup": "Malta",
         "line": {
          "color": "#D3D3D3"
         },
         "marker": {
          "color": "#EF553B",
          "symbol": "circle"
         },
         "mode": "lines",
         "name": "Malta",
         "showlegend": false,
         "type": "scatter",
         "x": [
          1954,
          1955,
          1956,
          1957,
          1958,
          1959,
          1960,
          1961,
          1962,
          1963,
          1964,
          1965,
          1966,
          1967,
          1968,
          1969,
          1970,
          1971,
          1972,
          1973,
          1974,
          1975,
          1976,
          1977,
          1978,
          1979,
          1980,
          1981,
          1982,
          1983,
          1984,
          1985,
          1986,
          1987,
          1988,
          1989,
          1990,
          1991,
          1992,
          1993,
          1994,
          1995,
          1996,
          1997,
          1998,
          1999,
          2000,
          2001,
          2002,
          2003,
          2004,
          2005,
          2006,
          2007,
          2008,
          2009,
          2010,
          2011,
          2012,
          2013,
          2014,
          2015,
          2016,
          2017,
          2018,
          2019
         ],
         "xaxis": "x",
         "y": [
          -1818.4462026584479,
          -1593.821199370026,
          -1369.1961960816043,
          -1144.5711927931825,
          -919.9461895047607,
          -695.3211862163389,
          -470.6961829279171,
          -246.0711796394953,
          -21.446176351073518,
          203.17882693734828,
          427.80383022577007,
          652.4288335141919,
          877.0538368026137,
          1101.6788400910355,
          1326.3038433794572,
          1550.928846667879,
          1775.5538499563008,
          2000.1788532447226,
          2224.8038565331444,
          2449.428859821566,
          2674.053863109988,
          2898.67886639841,
          3123.3038696868316,
          3347.9288729752534,
          3572.553876263675,
          3797.178879552097,
          4021.803882840519,
          4246.428886128941,
          4471.053889417362,
          4695.678892705784,
          4920.303895994206,
          5144.928899282628,
          5369.55390257105,
          5594.178905859471,
          5818.803909147893,
          6043.428912436315,
          6268.053915724737,
          6492.6789190131585,
          6717.30392230158,
          6941.928925590002,
          7166.553928878424,
          7391.178932166846,
          7615.8039354552675,
          7840.428938743689,
          8065.053942032111,
          8289.678945320533,
          8514.303948608955,
          8738.928951897376,
          8963.553955185798,
          9188.17895847422,
          9412.803961762642,
          9637.428965051064,
          9862.053968339485,
          10086.678971627907,
          10311.303974916329,
          10535.92897820475,
          10760.553981493173,
          10985.178984781594,
          11209.803988070016,
          11434.428991358438,
          11659.05399464686,
          11883.678997935282,
          12108.304001223703,
          12332.929004512125,
          12557.554007800547,
          12782.179011088969
         ],
         "yaxis": "y"
        },
        {
         "hovertemplate": "Country=Netherlands<br>Year=%{x}<br>Real GDP=%{y}<extra></extra>",
         "legendgroup": "Netherlands",
         "marker": {
          "color": "#00cc96",
          "symbol": "circle"
         },
         "mode": "markers",
         "name": "Netherlands",
         "orientation": "v",
         "showlegend": true,
         "type": "scatter",
         "x": [
          1950,
          1951,
          1952,
          1953,
          1954,
          1955,
          1956,
          1957,
          1958,
          1959,
          1960,
          1961,
          1962,
          1963,
          1964,
          1965,
          1966,
          1967,
          1968,
          1969,
          1970,
          1971,
          1972,
          1973,
          1974,
          1975,
          1976,
          1977,
          1978,
          1979,
          1980,
          1981,
          1982,
          1983,
          1984,
          1985,
          1986,
          1987,
          1988,
          1989,
          1990,
          1991,
          1992,
          1993,
          1994,
          1995,
          1996,
          1997,
          1998,
          1999,
          2000,
          2001,
          2002,
          2003,
          2004,
          2005,
          2006,
          2007,
          2008,
          2009,
          2010,
          2011,
          2012,
          2013,
          2014,
          2015,
          2016,
          2017,
          2018,
          2019
         ],
         "xaxis": "x",
         "y": [
          113453.765625,
          116244.59375,
          118255.078125,
          129098.640625,
          138668.734375,
          149268.4375,
          156302.390625,
          161136.21875,
          159537.59375,
          167406.078125,
          183961.34375,
          189456.296875,
          197969.65625,
          204727.25,
          223992.0625,
          236526.375,
          243338.171875,
          256956.296875,
          275408.25,
          295507.625,
          314628.71875,
          328254.59375,
          336482.34375,
          355945.40625,
          371094.1875,
          371550.6875,
          389339.25,
          396819.53125,
          406068.40625,
          414278.78125,
          427747,
          424395.125,
          419129.4375,
          427805.21875,
          440903.21875,
          452279.3125,
          464884.25,
          473862.34375,
          490168.96875,
          511835.65625,
          533246.375,
          546252.5,
          555572,
          562558.9375,
          579216.8125,
          597265,
          618161.8125,
          644922.375,
          675001,
          708980.875,
          738727.1875,
          755917.0625,
          757559.4375,
          758738.5625,
          773799.125,
          789668.75,
          816999.125,
          847823.1875,
          866223.6875,
          834460.3125,
          845664.9375,
          858782.8125,
          849934.25,
          848827.875,
          860910.0625,
          877776.75,
          897015.125,
          923126.3125,
          944920.6875,
          960770.875
         ],
         "yaxis": "y"
        },
        {
         "hovertemplate": "<b>OLS trendline</b><br>Real GDP = 12836.3 * Year + -2.49769e+07<br>R<sup>2</sup>=0.986428<br><br>Country=Netherlands<br>Year=%{x}<br>Real GDP=%{y} <b>(trend)</b><extra></extra>",
         "legendgroup": "Netherlands",
         "line": {
          "color": "#D3D3D3"
         },
         "marker": {
          "color": "#00cc96",
          "symbol": "circle"
         },
         "mode": "lines",
         "name": "Netherlands",
         "showlegend": false,
         "type": "scatter",
         "x": [
          1950,
          1951,
          1952,
          1953,
          1954,
          1955,
          1956,
          1957,
          1958,
          1959,
          1960,
          1961,
          1962,
          1963,
          1964,
          1965,
          1966,
          1967,
          1968,
          1969,
          1970,
          1971,
          1972,
          1973,
          1974,
          1975,
          1976,
          1977,
          1978,
          1979,
          1980,
          1981,
          1982,
          1983,
          1984,
          1985,
          1986,
          1987,
          1988,
          1989,
          1990,
          1991,
          1992,
          1993,
          1994,
          1995,
          1996,
          1997,
          1998,
          1999,
          2000,
          2001,
          2002,
          2003,
          2004,
          2005,
          2006,
          2007,
          2008,
          2009,
          2010,
          2011,
          2012,
          2013,
          2014,
          2015,
          2016,
          2017,
          2018,
          2019
         ],
         "xaxis": "x",
         "y": [
          53770.464958493554,
          66606.72937351628,
          79442.99378853902,
          92279.25820356177,
          105115.5226185845,
          117951.78703360724,
          130788.05144862997,
          143624.3158636527,
          156460.58027867545,
          169296.8446936982,
          182133.1091087209,
          194969.37352374365,
          207805.6379387664,
          220641.90235378913,
          233478.16676881188,
          246314.43118383462,
          259150.69559885733,
          271986.9600138801,
          284823.22442890285,
          297659.48884392553,
          310495.7532589483,
          323332.017673971,
          336168.28208899376,
          349004.5465040165,
          361840.81091903924,
          374677.075334062,
          387513.3397490847,
          400349.60416410747,
          413185.8685791302,
          426022.1329941529,
          438858.39740917564,
          451694.6618241984,
          464530.9262392211,
          477367.19065424387,
          490203.4550692666,
          503039.71948428935,
          515875.9838993121,
          528712.2483143348,
          541548.5127293576,
          554384.7771443803,
          567221.0415594031,
          580057.3059744257,
          592893.5703894485,
          605729.8348044712,
          618566.099219494,
          631402.3636345167,
          644238.6280495394,
          657074.8924645622,
          669911.1568795849,
          682747.4212946077,
          695583.6857096304,
          708419.9501246532,
          721256.2145396759,
          734092.4789546987,
          746928.7433697213,
          759765.0077847441,
          772601.2721997668,
          785437.5366147895,
          798273.8010298123,
          811110.065444835,
          823946.3298598578,
          836782.5942748805,
          849618.8586899033,
          862455.123104926,
          875291.3875199488,
          888127.6519349715,
          900963.9163499943,
          913800.1807650169,
          926636.4451800396,
          939472.7095950624
         ],
         "yaxis": "y"
        },
        {
         "hovertemplate": "Country=Portugal<br>Year=%{x}<br>Real GDP=%{y}<extra></extra>",
         "legendgroup": "Portugal",
         "marker": {
          "color": "#ab63fa",
          "symbol": "circle"
         },
         "mode": "markers",
         "name": "Portugal",
         "orientation": "v",
         "showlegend": true,
         "type": "scatter",
         "x": [
          1950,
          1951,
          1952,
          1953,
          1954,
          1955,
          1956,
          1957,
          1958,
          1959,
          1960,
          1961,
          1962,
          1963,
          1964,
          1965,
          1966,
          1967,
          1968,
          1969,
          1970,
          1971,
          1972,
          1973,
          1974,
          1975,
          1976,
          1977,
          1978,
          1979,
          1980,
          1981,
          1982,
          1983,
          1984,
          1985,
          1986,
          1987,
          1988,
          1989,
          1990,
          1991,
          1992,
          1993,
          1994,
          1995,
          1996,
          1997,
          1998,
          1999,
          2000,
          2001,
          2002,
          2003,
          2004,
          2005,
          2006,
          2007,
          2008,
          2009,
          2010,
          2011,
          2012,
          2013,
          2014,
          2015,
          2016,
          2017,
          2018,
          2019
         ],
         "xaxis": "x",
         "y": [
          32679.03125,
          35689.50390625,
          37142.6796875,
          39096.96484375,
          40841.328125,
          42501.12890625,
          44471.00390625,
          46638.5546875,
          47002.4765625,
          49663.234375,
          53309.01171875,
          57024.10546875,
          60242.1015625,
          63715.48828125,
          67011.1640625,
          71746.7890625,
          74057.1015625,
          79308.625,
          89539.4296875,
          92107.7109375,
          98853.515625,
          105409.1328125,
          113858.421875,
          126611.3203125,
          128058.3125,
          122490.8125,
          130942.953125,
          138279.171875,
          142173.0625,
          150190.109375,
          157082.84375,
          159624.609375,
          163033.1875,
          162750.96875,
          159691.265625,
          164174.5,
          170972.90625,
          181883.359375,
          195504.796875,
          208096.5625,
          216317.453125,
          225766.65625,
          228226.328125,
          223563.03125,
          225720.046875,
          235387.15625,
          243635.6875,
          254357.78125,
          266587.21875,
          277001.65625,
          287572.5,
          293161.96875,
          295422.0625,
          292673.09375,
          297908.21875,
          300237.4375,
          305116.375,
          312764.375,
          313762.84375,
          303966.9375,
          309248.71875,
          304003.375,
          291669.0625,
          288978,
          291267.25,
          296486.90625,
          302474.40625,
          313080.1875,
          322000.90625,
          329200.75
         ],
         "yaxis": "y"
        },
        {
         "hovertemplate": "<b>OLS trendline</b><br>Real GDP = 4848.79 * Year + -9.44312e+06<br>R<sup>2</sup>=0.973895<br><br>Country=Portugal<br>Year=%{x}<br>Real GDP=%{y} <b>(trend)</b><extra></extra>",
         "legendgroup": "Portugal",
         "line": {
          "color": "#D3D3D3"
         },
         "marker": {
          "color": "#ab63fa",
          "symbol": "circle"
         },
         "mode": "lines",
         "name": "Portugal",
         "showlegend": false,
         "type": "scatter",
         "x": [
          1950,
          1951,
          1952,
          1953,
          1954,
          1955,
          1956,
          1957,
          1958,
          1959,
          1960,
          1961,
          1962,
          1963,
          1964,
          1965,
          1966,
          1967,
          1968,
          1969,
          1970,
          1971,
          1972,
          1973,
          1974,
          1975,
          1976,
          1977,
          1978,
          1979,
          1980,
          1981,
          1982,
          1983,
          1984,
          1985,
          1986,
          1987,
          1988,
          1989,
          1990,
          1991,
          1992,
          1993,
          1994,
          1995,
          1996,
          1997,
          1998,
          1999,
          2000,
          2001,
          2002,
          2003,
          2004,
          2005,
          2006,
          2007,
          2008,
          2009,
          2010,
          2011,
          2012,
          2013,
          2014,
          2015,
          2016,
          2017,
          2018,
          2019
         ],
         "xaxis": "x",
         "y": [
          12017.139839033613,
          16865.9298381998,
          21714.719837365992,
          26563.509836532183,
          31412.299835698373,
          36261.089834864564,
          41109.879834030755,
          45958.66983319694,
          50807.45983236313,
          55656.24983152932,
          60505.03983069551,
          65353.8298298617,
          70202.61982902788,
          75051.40982819408,
          79900.19982736027,
          84748.98982652646,
          89597.77982569265,
          94446.56982485885,
          99295.35982402503,
          104144.14982319121,
          108992.93982235741,
          113841.7298215236,
          118690.51982068979,
          123539.30981985597,
          128388.09981902217,
          133236.88981818836,
          138085.67981735454,
          142934.46981652072,
          147783.25981568694,
          152632.04981485312,
          157480.8398140193,
          162329.6298131855,
          167178.4198123517,
          172027.20981151788,
          176875.99981068406,
          181724.78980985025,
          186573.57980901643,
          191422.36980818264,
          196271.15980734883,
          201119.949806515,
          205968.7398056812,
          210817.5298048474,
          215666.3198040136,
          220515.10980317977,
          225363.89980234596,
          230212.68980151214,
          235061.47980067835,
          239910.26979984454,
          244759.05979901072,
          249607.8497981769,
          254456.63979734312,
          259305.4297965093,
          264154.2197956755,
          269003.0097948417,
          273851.79979400785,
          278700.58979317406,
          283549.3797923402,
          288398.1697915064,
          293246.95979067264,
          298095.7497898388,
          302944.539789005,
          307793.32978817116,
          312642.1197873374,
          317490.9097865036,
          322339.69978566974,
          327188.48978483595,
          332037.2797840021,
          336886.0697831683,
          341734.85978233453,
          346583.6497815007
         ],
         "yaxis": "y"
        }
       ],
       "layout": {
        "legend": {
         "title": {
          "text": "Country"
         },
         "tracegroupgap": 0
        },
        "plot_bgcolor": "rgba(0,0,0,0)",
        "template": {
         "data": {
          "bar": [
           {
            "error_x": {
             "color": "#2a3f5f"
            },
            "error_y": {
             "color": "#2a3f5f"
            },
            "marker": {
             "line": {
              "color": "#E5ECF6",
              "width": 0.5
             },
             "pattern": {
              "fillmode": "overlay",
              "size": 10,
              "solidity": 0.2
             }
            },
            "type": "bar"
           }
          ],
          "barpolar": [
           {
            "marker": {
             "line": {
              "color": "#E5ECF6",
              "width": 0.5
             },
             "pattern": {
              "fillmode": "overlay",
              "size": 10,
              "solidity": 0.2
             }
            },
            "type": "barpolar"
           }
          ],
          "carpet": [
           {
            "aaxis": {
             "endlinecolor": "#2a3f5f",
             "gridcolor": "white",
             "linecolor": "white",
             "minorgridcolor": "white",
             "startlinecolor": "#2a3f5f"
            },
            "baxis": {
             "endlinecolor": "#2a3f5f",
             "gridcolor": "white",
             "linecolor": "white",
             "minorgridcolor": "white",
             "startlinecolor": "#2a3f5f"
            },
            "type": "carpet"
           }
          ],
          "choropleth": [
           {
            "colorbar": {
             "outlinewidth": 0,
             "ticks": ""
            },
            "type": "choropleth"
           }
          ],
          "contour": [
           {
            "colorbar": {
             "outlinewidth": 0,
             "ticks": ""
            },
            "colorscale": [
             [
              0,
              "#0d0887"
             ],
             [
              0.1111111111111111,
              "#46039f"
             ],
             [
              0.2222222222222222,
              "#7201a8"
             ],
             [
              0.3333333333333333,
              "#9c179e"
             ],
             [
              0.4444444444444444,
              "#bd3786"
             ],
             [
              0.5555555555555556,
              "#d8576b"
             ],
             [
              0.6666666666666666,
              "#ed7953"
             ],
             [
              0.7777777777777778,
              "#fb9f3a"
             ],
             [
              0.8888888888888888,
              "#fdca26"
             ],
             [
              1,
              "#f0f921"
             ]
            ],
            "type": "contour"
           }
          ],
          "contourcarpet": [
           {
            "colorbar": {
             "outlinewidth": 0,
             "ticks": ""
            },
            "type": "contourcarpet"
           }
          ],
          "heatmap": [
           {
            "colorbar": {
             "outlinewidth": 0,
             "ticks": ""
            },
            "colorscale": [
             [
              0,
              "#0d0887"
             ],
             [
              0.1111111111111111,
              "#46039f"
             ],
             [
              0.2222222222222222,
              "#7201a8"
             ],
             [
              0.3333333333333333,
              "#9c179e"
             ],
             [
              0.4444444444444444,
              "#bd3786"
             ],
             [
              0.5555555555555556,
              "#d8576b"
             ],
             [
              0.6666666666666666,
              "#ed7953"
             ],
             [
              0.7777777777777778,
              "#fb9f3a"
             ],
             [
              0.8888888888888888,
              "#fdca26"
             ],
             [
              1,
              "#f0f921"
             ]
            ],
            "type": "heatmap"
           }
          ],
          "heatmapgl": [
           {
            "colorbar": {
             "outlinewidth": 0,
             "ticks": ""
            },
            "colorscale": [
             [
              0,
              "#0d0887"
             ],
             [
              0.1111111111111111,
              "#46039f"
             ],
             [
              0.2222222222222222,
              "#7201a8"
             ],
             [
              0.3333333333333333,
              "#9c179e"
             ],
             [
              0.4444444444444444,
              "#bd3786"
             ],
             [
              0.5555555555555556,
              "#d8576b"
             ],
             [
              0.6666666666666666,
              "#ed7953"
             ],
             [
              0.7777777777777778,
              "#fb9f3a"
             ],
             [
              0.8888888888888888,
              "#fdca26"
             ],
             [
              1,
              "#f0f921"
             ]
            ],
            "type": "heatmapgl"
           }
          ],
          "histogram": [
           {
            "marker": {
             "pattern": {
              "fillmode": "overlay",
              "size": 10,
              "solidity": 0.2
             }
            },
            "type": "histogram"
           }
          ],
          "histogram2d": [
           {
            "colorbar": {
             "outlinewidth": 0,
             "ticks": ""
            },
            "colorscale": [
             [
              0,
              "#0d0887"
             ],
             [
              0.1111111111111111,
              "#46039f"
             ],
             [
              0.2222222222222222,
              "#7201a8"
             ],
             [
              0.3333333333333333,
              "#9c179e"
             ],
             [
              0.4444444444444444,
              "#bd3786"
             ],
             [
              0.5555555555555556,
              "#d8576b"
             ],
             [
              0.6666666666666666,
              "#ed7953"
             ],
             [
              0.7777777777777778,
              "#fb9f3a"
             ],
             [
              0.8888888888888888,
              "#fdca26"
             ],
             [
              1,
              "#f0f921"
             ]
            ],
            "type": "histogram2d"
           }
          ],
          "histogram2dcontour": [
           {
            "colorbar": {
             "outlinewidth": 0,
             "ticks": ""
            },
            "colorscale": [
             [
              0,
              "#0d0887"
             ],
             [
              0.1111111111111111,
              "#46039f"
             ],
             [
              0.2222222222222222,
              "#7201a8"
             ],
             [
              0.3333333333333333,
              "#9c179e"
             ],
             [
              0.4444444444444444,
              "#bd3786"
             ],
             [
              0.5555555555555556,
              "#d8576b"
             ],
             [
              0.6666666666666666,
              "#ed7953"
             ],
             [
              0.7777777777777778,
              "#fb9f3a"
             ],
             [
              0.8888888888888888,
              "#fdca26"
             ],
             [
              1,
              "#f0f921"
             ]
            ],
            "type": "histogram2dcontour"
           }
          ],
          "mesh3d": [
           {
            "colorbar": {
             "outlinewidth": 0,
             "ticks": ""
            },
            "type": "mesh3d"
           }
          ],
          "parcoords": [
           {
            "line": {
             "colorbar": {
              "outlinewidth": 0,
              "ticks": ""
             }
            },
            "type": "parcoords"
           }
          ],
          "pie": [
           {
            "automargin": true,
            "type": "pie"
           }
          ],
          "scatter": [
           {
            "fillpattern": {
             "fillmode": "overlay",
             "size": 10,
             "solidity": 0.2
            },
            "type": "scatter"
           }
          ],
          "scatter3d": [
           {
            "line": {
             "colorbar": {
              "outlinewidth": 0,
              "ticks": ""
             }
            },
            "marker": {
             "colorbar": {
              "outlinewidth": 0,
              "ticks": ""
             }
            },
            "type": "scatter3d"
           }
          ],
          "scattercarpet": [
           {
            "marker": {
             "colorbar": {
              "outlinewidth": 0,
              "ticks": ""
             }
            },
            "type": "scattercarpet"
           }
          ],
          "scattergeo": [
           {
            "marker": {
             "colorbar": {
              "outlinewidth": 0,
              "ticks": ""
             }
            },
            "type": "scattergeo"
           }
          ],
          "scattergl": [
           {
            "marker": {
             "colorbar": {
              "outlinewidth": 0,
              "ticks": ""
             }
            },
            "type": "scattergl"
           }
          ],
          "scattermapbox": [
           {
            "marker": {
             "colorbar": {
              "outlinewidth": 0,
              "ticks": ""
             }
            },
            "type": "scattermapbox"
           }
          ],
          "scatterpolar": [
           {
            "marker": {
             "colorbar": {
              "outlinewidth": 0,
              "ticks": ""
             }
            },
            "type": "scatterpolar"
           }
          ],
          "scatterpolargl": [
           {
            "marker": {
             "colorbar": {
              "outlinewidth": 0,
              "ticks": ""
             }
            },
            "type": "scatterpolargl"
           }
          ],
          "scatterternary": [
           {
            "marker": {
             "colorbar": {
              "outlinewidth": 0,
              "ticks": ""
             }
            },
            "type": "scatterternary"
           }
          ],
          "surface": [
           {
            "colorbar": {
             "outlinewidth": 0,
             "ticks": ""
            },
            "colorscale": [
             [
              0,
              "#0d0887"
             ],
             [
              0.1111111111111111,
              "#46039f"
             ],
             [
              0.2222222222222222,
              "#7201a8"
             ],
             [
              0.3333333333333333,
              "#9c179e"
             ],
             [
              0.4444444444444444,
              "#bd3786"
             ],
             [
              0.5555555555555556,
              "#d8576b"
             ],
             [
              0.6666666666666666,
              "#ed7953"
             ],
             [
              0.7777777777777778,
              "#fb9f3a"
             ],
             [
              0.8888888888888888,
              "#fdca26"
             ],
             [
              1,
              "#f0f921"
             ]
            ],
            "type": "surface"
           }
          ],
          "table": [
           {
            "cells": {
             "fill": {
              "color": "#EBF0F8"
             },
             "line": {
              "color": "white"
             }
            },
            "header": {
             "fill": {
              "color": "#C8D4E3"
             },
             "line": {
              "color": "white"
             }
            },
            "type": "table"
           }
          ]
         },
         "layout": {
          "annotationdefaults": {
           "arrowcolor": "#2a3f5f",
           "arrowhead": 0,
           "arrowwidth": 1
          },
          "autotypenumbers": "strict",
          "coloraxis": {
           "colorbar": {
            "outlinewidth": 0,
            "ticks": ""
           }
          },
          "colorscale": {
           "diverging": [
            [
             0,
             "#8e0152"
            ],
            [
             0.1,
             "#c51b7d"
            ],
            [
             0.2,
             "#de77ae"
            ],
            [
             0.3,
             "#f1b6da"
            ],
            [
             0.4,
             "#fde0ef"
            ],
            [
             0.5,
             "#f7f7f7"
            ],
            [
             0.6,
             "#e6f5d0"
            ],
            [
             0.7,
             "#b8e186"
            ],
            [
             0.8,
             "#7fbc41"
            ],
            [
             0.9,
             "#4d9221"
            ],
            [
             1,
             "#276419"
            ]
           ],
           "sequential": [
            [
             0,
             "#0d0887"
            ],
            [
             0.1111111111111111,
             "#46039f"
            ],
            [
             0.2222222222222222,
             "#7201a8"
            ],
            [
             0.3333333333333333,
             "#9c179e"
            ],
            [
             0.4444444444444444,
             "#bd3786"
            ],
            [
             0.5555555555555556,
             "#d8576b"
            ],
            [
             0.6666666666666666,
             "#ed7953"
            ],
            [
             0.7777777777777778,
             "#fb9f3a"
            ],
            [
             0.8888888888888888,
             "#fdca26"
            ],
            [
             1,
             "#f0f921"
            ]
           ],
           "sequentialminus": [
            [
             0,
             "#0d0887"
            ],
            [
             0.1111111111111111,
             "#46039f"
            ],
            [
             0.2222222222222222,
             "#7201a8"
            ],
            [
             0.3333333333333333,
             "#9c179e"
            ],
            [
             0.4444444444444444,
             "#bd3786"
            ],
            [
             0.5555555555555556,
             "#d8576b"
            ],
            [
             0.6666666666666666,
             "#ed7953"
            ],
            [
             0.7777777777777778,
             "#fb9f3a"
            ],
            [
             0.8888888888888888,
             "#fdca26"
            ],
            [
             1,
             "#f0f921"
            ]
           ]
          },
          "colorway": [
           "#636efa",
           "#EF553B",
           "#00cc96",
           "#ab63fa",
           "#FFA15A",
           "#19d3f3",
           "#FF6692",
           "#B6E880",
           "#FF97FF",
           "#FECB52"
          ],
          "font": {
           "color": "#2a3f5f"
          },
          "geo": {
           "bgcolor": "white",
           "lakecolor": "white",
           "landcolor": "#E5ECF6",
           "showlakes": true,
           "showland": true,
           "subunitcolor": "white"
          },
          "hoverlabel": {
           "align": "left"
          },
          "hovermode": "closest",
          "mapbox": {
           "style": "light"
          },
          "paper_bgcolor": "white",
          "plot_bgcolor": "#E5ECF6",
          "polar": {
           "angularaxis": {
            "gridcolor": "white",
            "linecolor": "white",
            "ticks": ""
           },
           "bgcolor": "#E5ECF6",
           "radialaxis": {
            "gridcolor": "white",
            "linecolor": "white",
            "ticks": ""
           }
          },
          "scene": {
           "xaxis": {
            "backgroundcolor": "#E5ECF6",
            "gridcolor": "white",
            "gridwidth": 2,
            "linecolor": "white",
            "showbackground": true,
            "ticks": "",
            "zerolinecolor": "white"
           },
           "yaxis": {
            "backgroundcolor": "#E5ECF6",
            "gridcolor": "white",
            "gridwidth": 2,
            "linecolor": "white",
            "showbackground": true,
            "ticks": "",
            "zerolinecolor": "white"
           },
           "zaxis": {
            "backgroundcolor": "#E5ECF6",
            "gridcolor": "white",
            "gridwidth": 2,
            "linecolor": "white",
            "showbackground": true,
            "ticks": "",
            "zerolinecolor": "white"
           }
          },
          "shapedefaults": {
           "line": {
            "color": "#2a3f5f"
           }
          },
          "ternary": {
           "aaxis": {
            "gridcolor": "white",
            "linecolor": "white",
            "ticks": ""
           },
           "baxis": {
            "gridcolor": "white",
            "linecolor": "white",
            "ticks": ""
           },
           "bgcolor": "#E5ECF6",
           "caxis": {
            "gridcolor": "white",
            "linecolor": "white",
            "ticks": ""
           }
          },
          "title": {
           "x": 0.05
          },
          "xaxis": {
           "automargin": true,
           "gridcolor": "white",
           "linecolor": "white",
           "ticks": "",
           "title": {
            "standoff": 15
           },
           "zerolinecolor": "white",
           "zerolinewidth": 2
          },
          "yaxis": {
           "automargin": true,
           "gridcolor": "white",
           "linecolor": "white",
           "ticks": "",
           "title": {
            "standoff": 15
           },
           "zerolinecolor": "white",
           "zerolinewidth": 2
          }
         }
        },
        "title": {
         "font": {
          "color": "black",
          "family": "sans-serif",
          "size": 20,
          "weight": "bold"
         },
         "text": "Real GDP Over Time (EUR)"
        },
        "xaxis": {
         "anchor": "y",
         "domain": [
          0,
          1
         ],
         "title": {
          "text": "Year"
         }
        },
        "yaxis": {
         "anchor": "x",
         "domain": [
          0,
          1
         ],
         "title": {
          "text": "Real GDP"
         }
        }
       }
      }
     },
     "metadata": {},
     "output_type": "display_data"
    }
   ],
   "source": [
    "# Real GDP over time (Euro)\n",
    "euro_df = df[df['Currency Unit'] == 'Euro']\n",
    "\n",
    "\n",
    "# Real GDP over time\n",
    "fig = px.scatter(euro_df, x='Year', y='Real GDP', \n",
    "                 title = 'Real GDP Over Time (EUR)', \n",
    "                 labels={'Year': 'Year', 'Real GDP': 'Real GDP'}, \n",
    "                 trendline='ols',\n",
    "                 color = 'Country',\n",
    "                 color_continuous_scale='Blues')\n",
    "\n",
    "fig.update_layout(\n",
    "    plot_bgcolor='rgba(0,0,0,0)',\n",
    "    title_font=dict(family='sans-serif', size=20, color='black', weight='bold')\n",
    ")\n",
    "\n",
    "fig.update_traces(line=dict(color='#D3D3D3'), selector=dict(mode='lines'))\n",
    "\n",
    "fig.show()"
   ]
  },
  {
   "cell_type": "code",
   "execution_count": 12,
   "metadata": {},
   "outputs": [
    {
     "name": "stderr",
     "output_type": "stream",
     "text": [
      "/var/folders/3m/wqvcp0vs4n3fc_ywqy10vbhw0000gn/T/ipykernel_65661/3345772107.py:2: SettingWithCopyWarning:\n",
      "\n",
      "\n",
      "A value is trying to be set on a copy of a slice from a DataFrame.\n",
      "Try using .loc[row_indexer,col_indexer] = value instead\n",
      "\n",
      "See the caveats in the documentation: https://pandas.pydata.org/pandas-docs/stable/user_guide/indexing.html#returning-a-view-versus-a-copy\n",
      "\n"
     ]
    },
    {
     "data": {
      "application/vnd.plotly.v1+json": {
       "config": {
        "plotlyServerURL": "https://plot.ly"
       },
       "data": [
        {
         "hovertemplate": "Country=Austria<br>Year=%{x}<br>Real GDP per Capita=%{y}<extra></extra>",
         "legendgroup": "Austria",
         "marker": {
          "color": "#636efa",
          "opacity": 0.75,
          "symbol": "circle"
         },
         "mode": "markers",
         "name": "Austria",
         "orientation": "v",
         "showlegend": true,
         "type": "scatter",
         "x": [
          1950,
          1951,
          1952,
          1953,
          1954,
          1955,
          1956,
          1957,
          1958,
          1959,
          1960,
          1961,
          1962,
          1963,
          1964,
          1965,
          1966,
          1967,
          1968,
          1969,
          1970,
          1971,
          1972,
          1973,
          1974,
          1975,
          1976,
          1977,
          1978,
          1979,
          1980,
          1981,
          1982,
          1983,
          1984,
          1985,
          1986,
          1987,
          1988,
          1989,
          1990,
          1991,
          1992,
          1993,
          1994,
          1995,
          1996,
          1997,
          1998,
          1999,
          2000,
          2001,
          2002,
          2003,
          2004,
          2005,
          2006,
          2007,
          2008,
          2009,
          2010,
          2011,
          2012,
          2013,
          2014,
          2015,
          2016,
          2017,
          2018,
          2019
         ],
         "xaxis": "x",
         "y": [
          19402.962398866348,
          20221.524291245092,
          20605.044488482436,
          21514.45540939385,
          22629.543936724138,
          24009.474983724667,
          24735.361684301137,
          25589.450100165428,
          26312.8903645872,
          26687.618899664656,
          28543.42827467003,
          29873.99486510352,
          30611.850586272638,
          32176.00591247144,
          34187.4404262725,
          35328.57066213824,
          37611.996086321014,
          39478.69934186263,
          41736.256115245786,
          44495.86934174423,
          47555.76827744457,
          49440.97216401617,
          52216.374112340716,
          54128.38214765844,
          55495.13843355119,
          55474.85792745989,
          57694.49924289401,
          59952.261451326754,
          59549.41982825222,
          62446.85501017229,
          63021.33377110136,
          63350.88259151592,
          65625.9233548336,
          67826.23435014873,
          67895.22122008949,
          69371.9589935156,
          70740.23772105767,
          71712.48645160388,
          73453.4686741414,
          75343.25526262217,
          77634.98031293323,
          79620.70116986285,
          81210.61437454158,
          82120.8015445863,
          83849.28757938564,
          86056.74074327287,
          87552.26559915699,
          88671.03074576032,
          90933.30796903843,
          92824.38568942476,
          95071.44823450976,
          95617.32454022962,
          97328.76356527771,
          97587.77999905539,
          99754.05479068024,
          101015.03713879328,
          102819.99813984346,
          104720.03837146451,
          104242.66539979303,
          100740.40422506248,
          101614.86534816571,
          102798.51368136665,
          102312.89088088823,
          101940.53149302144,
          101743.60599943505,
          102557.2789268622,
          103557.01947656846,
          104178.22887915913,
          104724.60403383437,
          104767.88301423371
         ],
         "yaxis": "y"
        },
        {
         "hovertemplate": "<b>OLS trendline</b><br>Real GDP per Capita = 1417.84 * Year + -2.74645e+06<br>R<sup>2</sup>=0.979758<br><br>Country=Austria<br>Year=%{x}<br>Real GDP per Capita=%{y} <b>(trend)</b><extra></extra>",
         "legendgroup": "Austria",
         "line": {
          "color": "#D3D3D3"
         },
         "marker": {
          "color": "#636efa",
          "opacity": 0.75,
          "symbol": "circle"
         },
         "mode": "lines",
         "name": "Austria",
         "showlegend": false,
         "type": "scatter",
         "x": [
          1950,
          1951,
          1952,
          1953,
          1954,
          1955,
          1956,
          1957,
          1958,
          1959,
          1960,
          1961,
          1962,
          1963,
          1964,
          1965,
          1966,
          1967,
          1968,
          1969,
          1970,
          1971,
          1972,
          1973,
          1974,
          1975,
          1976,
          1977,
          1978,
          1979,
          1980,
          1981,
          1982,
          1983,
          1984,
          1985,
          1986,
          1987,
          1988,
          1989,
          1990,
          1991,
          1992,
          1993,
          1994,
          1995,
          1996,
          1997,
          1998,
          1999,
          2000,
          2001,
          2002,
          2003,
          2004,
          2005,
          2006,
          2007,
          2008,
          2009,
          2010,
          2011,
          2012,
          2013,
          2014,
          2015,
          2016,
          2017,
          2018,
          2019
         ],
         "xaxis": "x",
         "y": [
          18336.2069320289,
          19754.04566320039,
          21171.884394371882,
          22589.723125543373,
          24007.561856714863,
          25425.400587886354,
          26843.239319057844,
          28261.078050229335,
          29678.916781400825,
          31096.755512572316,
          32514.594243743806,
          33932.4329749153,
          35350.27170608679,
          36768.11043725828,
          38185.94916842977,
          39603.78789960126,
          41021.62663077275,
          42439.46536194424,
          43857.30409311573,
          45275.14282428722,
          46692.98155545871,
          48110.8202866302,
          49528.65901780169,
          50946.49774897318,
          52364.33648014467,
          53782.175211316164,
          55200.013942487654,
          56617.852673659145,
          58035.691404830635,
          59453.530136002126,
          60871.368867173616,
          62289.20759834511,
          63707.0463295166,
          65124.88506068809,
          66542.72379185958,
          67960.56252303107,
          69378.40125420256,
          70796.23998537405,
          72214.07871654554,
          73631.91744771703,
          75049.75617888852,
          76467.59491006001,
          77885.4336412315,
          79303.272372403,
          80721.11110357448,
          82138.94983474597,
          83556.78856591746,
          84974.62729708895,
          86392.46602826045,
          87810.30475943194,
          89228.14349060343,
          90645.98222177492,
          92063.82095294641,
          93481.6596841179,
          94899.49841528939,
          96317.33714646088,
          97735.17587763237,
          99153.01460880386,
          100570.85333997535,
          101988.69207114684,
          103406.53080231833,
          104824.36953348982,
          106242.20826466131,
          107660.0469958328,
          109077.8857270043,
          110495.72445817578,
          111913.56318934727,
          113331.40192051877,
          114749.24065169026,
          116167.07938286175
         ],
         "yaxis": "y"
        },
        {
         "hovertemplate": "Country=Belgium<br>Year=%{x}<br>Real GDP per Capita=%{y}<extra></extra>",
         "legendgroup": "Belgium",
         "marker": {
          "color": "#EF553B",
          "opacity": 0.75,
          "symbol": "circle"
         },
         "mode": "markers",
         "name": "Belgium",
         "orientation": "v",
         "showlegend": true,
         "type": "scatter",
         "x": [
          1950,
          1951,
          1952,
          1953,
          1954,
          1955,
          1956,
          1957,
          1958,
          1959,
          1960,
          1961,
          1962,
          1963,
          1964,
          1965,
          1966,
          1967,
          1968,
          1969,
          1970,
          1971,
          1972,
          1973,
          1974,
          1975,
          1976,
          1977,
          1978,
          1979,
          1980,
          1981,
          1982,
          1983,
          1984,
          1985,
          1986,
          1987,
          1988,
          1989,
          1990,
          1991,
          1992,
          1993,
          1994,
          1995,
          1996,
          1997,
          1998,
          1999,
          2000,
          2001,
          2002,
          2003,
          2004,
          2005,
          2006,
          2007,
          2008,
          2009,
          2010,
          2011,
          2012,
          2013,
          2014,
          2015,
          2016,
          2017,
          2018,
          2019
         ],
         "xaxis": "x",
         "y": [
          24576.45968429849,
          25522.88691691491,
          26128.684221798656,
          26991.709454872078,
          28202.432239253045,
          29202.482927669065,
          30100.785610266277,
          30469.726291366565,
          30636.4525445351,
          31978.622110004933,
          33045.86311191078,
          34460.86088090963,
          35735.72148403087,
          37028.68175720329,
          39069.82880714905,
          40275.3642471427,
          41324.07847283344,
          43102.25034261632,
          45147.380713667626,
          47139.6412421311,
          50241.49407766565,
          51782.07609813666,
          54660.582699532904,
          57504.384781737535,
          59056.19714003004,
          59141.5662752602,
          62774.64624720433,
          63350.79455057163,
          65017.723602846614,
          65869.54929779943,
          68877.09171376632,
          69930.88688209825,
          71231.99167470835,
          72339.77975040536,
          74079.30664406267,
          74894.672105782,
          75715.35829319622,
          76851.82257252763,
          78933.8402208393,
          80692.45334481624,
          82380.9349516075,
          83644.59399134867,
          85053.32240773355,
          84775.90664428285,
          87826.89085851128,
          88563.27577621632,
          89479.70060385014,
          92329.61167070025,
          92593.63145040379,
          94621.77099670637,
          96185.83570831547,
          95914.84752750811,
          97334.6976444636,
          98336.17498634855,
          100698.93765959966,
          101494.19516026945,
          102896.64753942285,
          104933.46901597785,
          103594.2822154755,
          101724.3450363074,
          104404.04148700775,
          105181.45838519046,
          105480.98025759002,
          106121.73355382419,
          107193.12643224969,
          108414.71120622108,
          108338.29640659888,
          108113.42841185299,
          108473.80772625207,
          108514.66921577296
         ],
         "yaxis": "y"
        },
        {
         "hovertemplate": "<b>OLS trendline</b><br>Real GDP per Capita = 1375.97 * Year + -2.65965e+06<br>R<sup>2</sup>=0.983900<br><br>Country=Belgium<br>Year=%{x}<br>Real GDP per Capita=%{y} <b>(trend)</b><extra></extra>",
         "legendgroup": "Belgium",
         "line": {
          "color": "#D3D3D3"
         },
         "marker": {
          "color": "#EF553B",
          "opacity": 0.75,
          "symbol": "circle"
         },
         "mode": "lines",
         "name": "Belgium",
         "showlegend": false,
         "type": "scatter",
         "x": [
          1950,
          1951,
          1952,
          1953,
          1954,
          1955,
          1956,
          1957,
          1958,
          1959,
          1960,
          1961,
          1962,
          1963,
          1964,
          1965,
          1966,
          1967,
          1968,
          1969,
          1970,
          1971,
          1972,
          1973,
          1974,
          1975,
          1976,
          1977,
          1978,
          1979,
          1980,
          1981,
          1982,
          1983,
          1984,
          1985,
          1986,
          1987,
          1988,
          1989,
          1990,
          1991,
          1992,
          1993,
          1994,
          1995,
          1996,
          1997,
          1998,
          1999,
          2000,
          2001,
          2002,
          2003,
          2004,
          2005,
          2006,
          2007,
          2008,
          2009,
          2010,
          2011,
          2012,
          2013,
          2014,
          2015,
          2016,
          2017,
          2018,
          2019
         ],
         "xaxis": "x",
         "y": [
          23496.24530851442,
          24872.21561259936,
          26248.1859166843,
          27624.156220769237,
          29000.12652485418,
          30376.096828939117,
          31752.06713302406,
          33128.037437109,
          34504.007741193935,
          35879.97804527888,
          37255.94834936382,
          38631.91865344875,
          40007.888957533694,
          41383.859261618636,
          42759.82956570358,
          44135.79986978851,
          45511.770173873454,
          46887.740477958396,
          48263.71078204333,
          49639.68108612827,
          51015.651390213214,
          52391.621694298155,
          53767.59199838309,
          55143.56230246803,
          56519.53260655297,
          57895.502910637915,
          59271.47321472285,
          60647.44351880779,
          62023.41382289273,
          63399.38412697767,
          64775.35443106261,
          66151.32473514754,
          67527.29503923249,
          68903.26534331743,
          70279.23564740237,
          71655.20595148731,
          73031.17625557225,
          74407.1465596572,
          75783.11686374212,
          77159.08716782706,
          78535.057471912,
          79911.02777599695,
          81286.99808008189,
          82662.96838416683,
          84038.93868825177,
          85414.9089923367,
          86790.87929642164,
          88166.84960050658,
          89542.81990459152,
          90918.79020867647,
          92294.76051276141,
          93670.73081684635,
          95046.70112093128,
          96422.67142501622,
          97798.64172910116,
          99174.6120331861,
          100550.58233727104,
          101926.55264135599,
          103302.52294544093,
          104678.49324952585,
          106054.4635536108,
          107430.43385769574,
          108806.40416178068,
          110182.37446586562,
          111558.34476995056,
          112934.3150740355,
          114310.28537812043,
          115686.25568220537,
          117062.22598629032,
          118438.19629037526
         ],
         "yaxis": "y"
        },
        {
         "hovertemplate": "Country=Cyprus<br>Year=%{x}<br>Real GDP per Capita=%{y}<extra></extra>",
         "legendgroup": "Cyprus",
         "marker": {
          "color": "#00cc96",
          "opacity": 0.75,
          "symbol": "circle"
         },
         "mode": "markers",
         "name": "Cyprus",
         "orientation": "v",
         "showlegend": true,
         "type": "scatter",
         "x": [
          1950,
          1951,
          1952,
          1953,
          1954,
          1955,
          1956,
          1957,
          1958,
          1959,
          1960,
          1961,
          1962,
          1963,
          1964,
          1965,
          1966,
          1967,
          1968,
          1969,
          1970,
          1971,
          1972,
          1973,
          1974,
          1975,
          1976,
          1977,
          1978,
          1979,
          1980,
          1981,
          1982,
          1983,
          1984,
          1985,
          1986,
          1987,
          1988,
          1989,
          1990,
          1991,
          1992,
          1993,
          1994,
          1995,
          1996,
          1997,
          1998,
          1999,
          2000,
          2001,
          2002,
          2003,
          2004,
          2005,
          2006,
          2007,
          2008,
          2009,
          2010,
          2011,
          2012,
          2013,
          2014,
          2015,
          2016,
          2017,
          2018,
          2019
         ],
         "xaxis": "x",
         "y": [
          12235.920709848026,
          12285.619937935073,
          13487.327848036723,
          14770.420761731086,
          14955.535576176777,
          15540.418355691581,
          18147.25504360999,
          19820.028400634776,
          18103.771837353423,
          18922.1951073749,
          16733.944317021796,
          18008.415295127103,
          19756.831910004265,
          20485.796479026947,
          18293.64563923049,
          21950.781557928723,
          23259.54356566474,
          25979.01819123318,
          27092.813588425113,
          29403.483408463908,
          29914.292194533056,
          33008.187483374,
          34482.71833543385,
          34566.76700774638,
          34647.89666182319,
          28759.782431445998,
          33843.68735150091,
          35257.15724026879,
          36447.2919613331,
          38289.476910172205,
          38627.48757456556,
          38751.365338161675,
          40337.65333250218,
          41414.259054804344,
          43558.73067323787,
          43950.24089832792,
          44874.67381648507,
          46747.642760863295,
          48158.62210212536,
          49960.50887290803,
          52295.683306799,
          52417.46778479066,
          55045.60932465324,
          55406.44391181227,
          57527.12145115546,
          60794.58729262825,
          61252.00805376463,
          62481.45701608716,
          65254.60447526495,
          67286.26209005968,
          70154.64439893396,
          71364.4733341699,
          72481.35684677487,
          71844.16889226803,
          72527.04427206882,
          73380.11413999417,
          75441.43785159757,
          75924.69433080994,
          76016.18205909547,
          74460.01441175093,
          75492.81741317944,
          75587.41264659555,
          75666.76809739649,
          74895.86264810602,
          75003.97446725932,
          76332.79452758055,
          77856.40496636547,
          77580.98547834838,
          77862.42822040917,
          78287.96368506449
         ],
         "yaxis": "y"
        },
        {
         "hovertemplate": "<b>OLS trendline</b><br>Real GDP per Capita = 1102.4 * Year + -2.14139e+06<br>R<sup>2</sup>=0.978012<br><br>Country=Cyprus<br>Year=%{x}<br>Real GDP per Capita=%{y} <b>(trend)</b><extra></extra>",
         "legendgroup": "Cyprus",
         "line": {
          "color": "#D3D3D3"
         },
         "marker": {
          "color": "#00cc96",
          "opacity": 0.75,
          "symbol": "circle"
         },
         "mode": "lines",
         "name": "Cyprus",
         "showlegend": false,
         "type": "scatter",
         "x": [
          1950,
          1951,
          1952,
          1953,
          1954,
          1955,
          1956,
          1957,
          1958,
          1959,
          1960,
          1961,
          1962,
          1963,
          1964,
          1965,
          1966,
          1967,
          1968,
          1969,
          1970,
          1971,
          1972,
          1973,
          1974,
          1975,
          1976,
          1977,
          1978,
          1979,
          1980,
          1981,
          1982,
          1983,
          1984,
          1985,
          1986,
          1987,
          1988,
          1989,
          1990,
          1991,
          1992,
          1993,
          1994,
          1995,
          1996,
          1997,
          1998,
          1999,
          2000,
          2001,
          2002,
          2003,
          2004,
          2005,
          2006,
          2007,
          2008,
          2009,
          2010,
          2011,
          2012,
          2013,
          2014,
          2015,
          2016,
          2017,
          2018,
          2019
         ],
         "xaxis": "x",
         "y": [
          8292.224024601217,
          9394.624983278172,
          10497.02594195513,
          11599.426900632086,
          12701.827859309042,
          13804.228817985997,
          14906.629776662954,
          16009.030735339911,
          17111.431694016865,
          18213.83265269382,
          19316.23361137078,
          20418.634570047736,
          21521.035528724693,
          22623.436487401646,
          23725.837446078604,
          24828.23840475556,
          25930.639363432514,
          27033.04032210947,
          28135.44128078643,
          29237.842239463385,
          30340.243198140342,
          31442.644156817296,
          32545.045115494253,
          33647.44607417121,
          34749.84703284816,
          35852.247991525124,
          36954.64895020208,
          38057.04990887903,
          39159.45086755599,
          40261.851826232945,
          41364.2527849099,
          42466.65374358686,
          43569.05470226381,
          44671.455660940774,
          45773.85661961773,
          46876.25757829468,
          47978.65853697164,
          49081.059495648595,
          50183.460454325555,
          51285.86141300251,
          52388.26237167946,
          53490.66333035642,
          54593.06428903338,
          55695.46524771033,
          56797.86620638729,
          57900.267165064244,
          59002.6681237412,
          60105.06908241816,
          61207.47004109511,
          62309.87099977207,
          63412.271958449026,
          64514.67291712598,
          65617.07387580293,
          66719.4748344799,
          67821.87579315685,
          68924.27675183381,
          70026.67771051076,
          71129.07866918771,
          72231.47962786467,
          73333.88058654164,
          74436.28154521859,
          75538.68250389554,
          76641.0834625725,
          77743.48442124945,
          78845.88537992642,
          79948.28633860337,
          81050.68729728032,
          82153.08825595728,
          83255.48921463423,
          84357.8901733112
         ],
         "yaxis": "y"
        },
        {
         "hovertemplate": "Country=Germany<br>Year=%{x}<br>Real GDP per Capita=%{y}<extra></extra>",
         "legendgroup": "Germany",
         "marker": {
          "color": "#ab63fa",
          "opacity": 0.75,
          "symbol": "circle"
         },
         "mode": "markers",
         "name": "Germany",
         "orientation": "v",
         "showlegend": true,
         "type": "scatter",
         "x": [
          1950,
          1951,
          1952,
          1953,
          1954,
          1955,
          1956,
          1957,
          1958,
          1959,
          1960,
          1961,
          1962,
          1963,
          1964,
          1965,
          1966,
          1967,
          1968,
          1969,
          1970,
          1971,
          1972,
          1973,
          1974,
          1975,
          1976,
          1977,
          1978,
          1979,
          1980,
          1981,
          1982,
          1983,
          1984,
          1985,
          1986,
          1987,
          1988,
          1989,
          1990,
          1991,
          1992,
          1993,
          1994,
          1995,
          1996,
          1997,
          1998,
          1999,
          2000,
          2001,
          2002,
          2003,
          2004,
          2005,
          2006,
          2007,
          2008,
          2009,
          2010,
          2011,
          2012,
          2013,
          2014,
          2015,
          2016,
          2017,
          2018,
          2019
         ],
         "xaxis": "x",
         "y": [
          16049.004319006906,
          17281.08291959882,
          18547.31753014572,
          19700.230607381443,
          20603.23569734713,
          22363.81349700056,
          23606.458868955786,
          24574.482880780895,
          25474.43026284822,
          27201.56999827654,
          29178.84507767402,
          30330.409286326725,
          31691.21245775352,
          32513.004177920277,
          34481.24988036941,
          36358.11913698563,
          37300.71064621377,
          38029.50808293685,
          39933.86539445538,
          42409.53056824132,
          44169.41478032781,
          45587.44890130956,
          47533.94215679547,
          49475.91341028724,
          50304.88072178459,
          50668.39265094517,
          53054.886870122355,
          54670.69590923679,
          55883.87494322639,
          57481.4012453263,
          57827.92685395115,
          58260.30411023959,
          58501.95061022762,
          59858.510543377495,
          61233.12794400708,
          62094.98199809309,
          62793.17180553339,
          63124.7379838325,
          65063.88396584699,
          67203.10941095134,
          71242.4843645343,
          76635.90243062617,
          79283.19778628349,
          79600.56086084533,
          81344.18023880628,
          82177.62193876383,
          82858.29680789483,
          84426.02441505966,
          85117.62708266354,
          85407.02680021772,
          86128.18696094549,
          87913.11157132914,
          88226.3371408792,
          88529.51918316023,
          89230.89771581623,
          89997.530764712,
          92805.93352578957,
          94060.5669156689,
          93713.90504246057,
          88194.61913741803,
          91422.7533481971,
          93645.26229247279,
          93014.24221225259,
          92713.4132539634,
          94011.78788355581,
          94956.05867495715,
          96187.6224993002,
          97182.96844343407,
          96831.90918984447,
          96306.47555709069
         ],
         "yaxis": "y"
        },
        {
         "hovertemplate": "<b>OLS trendline</b><br>Real GDP per Capita = 1276.58 * Year + -2.4713e+06<br>R<sup>2</sup>=0.979267<br><br>Country=Germany<br>Year=%{x}<br>Real GDP per Capita=%{y} <b>(trend)</b><extra></extra>",
         "legendgroup": "Germany",
         "line": {
          "color": "#D3D3D3"
         },
         "marker": {
          "color": "#ab63fa",
          "opacity": 0.75,
          "symbol": "circle"
         },
         "mode": "lines",
         "name": "Germany",
         "showlegend": false,
         "type": "scatter",
         "x": [
          1950,
          1951,
          1952,
          1953,
          1954,
          1955,
          1956,
          1957,
          1958,
          1959,
          1960,
          1961,
          1962,
          1963,
          1964,
          1965,
          1966,
          1967,
          1968,
          1969,
          1970,
          1971,
          1972,
          1973,
          1974,
          1975,
          1976,
          1977,
          1978,
          1979,
          1980,
          1981,
          1982,
          1983,
          1984,
          1985,
          1986,
          1987,
          1988,
          1989,
          1990,
          1991,
          1992,
          1993,
          1994,
          1995,
          1996,
          1997,
          1998,
          1999,
          2000,
          2001,
          2002,
          2003,
          2004,
          2005,
          2006,
          2007,
          2008,
          2009,
          2010,
          2011,
          2012,
          2013,
          2014,
          2015,
          2016,
          2017,
          2018,
          2019
         ],
         "xaxis": "x",
         "y": [
          18037.699015315913,
          19314.281926733074,
          20590.864838150235,
          21867.447749567396,
          23144.030660984557,
          24420.61357240172,
          25697.19648381888,
          26973.77939523604,
          28250.3623066532,
          29526.945218070363,
          30803.528129487524,
          32080.11104090468,
          33356.693952321846,
          34633.276863739,
          35909.85977515617,
          37186.442686573326,
          38463.02559799049,
          39739.60850940765,
          41016.191420824805,
          42292.77433224197,
          43569.35724365913,
          44845.94015507629,
          46122.52306649345,
          47399.105977910614,
          48675.68888932777,
          49952.27180074494,
          51228.854712162094,
          52505.43762357926,
          53782.020534996416,
          55058.60344641358,
          56335.18635783074,
          57611.7692692479,
          58888.35218066506,
          60164.935092082225,
          61441.51800349938,
          62718.10091491654,
          63994.683826333705,
          65271.26673775086,
          66547.84964916803,
          67824.43256058519,
          69101.01547200234,
          70377.5983834195,
          71654.18129483667,
          72930.76420625384,
          74207.34711767099,
          75483.93002908815,
          76760.51294050532,
          78037.09585192248,
          79313.67876333963,
          80590.2616747568,
          81866.84458617396,
          83143.42749759111,
          84420.01040900828,
          85696.59332042544,
          86973.1762318426,
          88249.75914325975,
          89526.34205467692,
          90802.92496609408,
          92079.50787751125,
          93356.0907889284,
          94632.67370034556,
          95909.25661176273,
          97185.8395231799,
          98462.42243459704,
          99739.00534601421,
          101015.58825743137,
          102292.17116884852,
          103568.75408026569,
          104845.33699168285,
          106121.91990310002
         ],
         "yaxis": "y"
        },
        {
         "hovertemplate": "Country=Spain<br>Year=%{x}<br>Real GDP per Capita=%{y}<extra></extra>",
         "legendgroup": "Spain",
         "marker": {
          "color": "#FFA15A",
          "opacity": 0.75,
          "symbol": "circle"
         },
         "mode": "markers",
         "name": "Spain",
         "orientation": "v",
         "showlegend": true,
         "type": "scatter",
         "x": [
          1950,
          1951,
          1952,
          1953,
          1954,
          1955,
          1956,
          1957,
          1958,
          1959,
          1960,
          1961,
          1962,
          1963,
          1964,
          1965,
          1966,
          1967,
          1968,
          1969,
          1970,
          1971,
          1972,
          1973,
          1974,
          1975,
          1976,
          1977,
          1978,
          1979,
          1980,
          1981,
          1982,
          1983,
          1984,
          1985,
          1986,
          1987,
          1988,
          1989,
          1990,
          1991,
          1992,
          1993,
          1994,
          1995,
          1996,
          1997,
          1998,
          1999,
          2000,
          2001,
          2002,
          2003,
          2004,
          2005,
          2006,
          2007,
          2008,
          2009,
          2010,
          2011,
          2012,
          2013,
          2014,
          2015,
          2016,
          2017,
          2018,
          2019
         ],
         "xaxis": "x",
         "y": [
          12423.790837614006,
          14466.562345077473,
          15101.872130600792,
          14482.895092179338,
          16361.784074491652,
          17128.56504833013,
          18175.46934865751,
          18698.47245032063,
          19153.068503640287,
          18856.948312667973,
          21288.974507636252,
          23628.008957039387,
          25993.329714264633,
          28413.518002457626,
          29788.09174654048,
          31685.101782086032,
          33832.8001268803,
          34970.070862867295,
          36891.58754409944,
          40015.999247144835,
          41156.38015838338,
          42672.650066862414,
          45562.10121239924,
          47825.58974748944,
          50171.970713878065,
          51322.0189962717,
          53645.864998145174,
          55701.39166932773,
          58150.93052993988,
          59441.04457321909,
          62122.38796320066,
          63547.78811473459,
          64889.952720085945,
          66266.75800996592,
          69003.52036606957,
          71384.73013192185,
          72133.97292179406,
          72793.88035369845,
          74082.08182502603,
          75098.1616567392,
          75183.30126322326,
          76190.47811685319,
          78143.86516865276,
          79760.93687761635,
          82178.27138956213,
          82967.12405556696,
          84054.04769823191,
          84110.94530985197,
          84120.95351112455,
          83885.53164061041,
          83720.41832208827,
          83867.85003058334,
          84048.4018590313,
          84041.15835797145,
          83659.57598230029,
          83256.38420721274,
          83334.73714301788,
          83893.36801396988,
          84712.06350573851,
          86845.63648913779,
          88282.95778623928,
          89870.84831680484,
          90956.1817672981,
          91851.01605717003,
          92189.62896790644,
          93259.87014432531,
          94234.92517896931,
          94717.1280210123,
          95243.35909597528,
          95426.43547067195
         ],
         "yaxis": "y"
        },
        {
         "hovertemplate": "<b>OLS trendline</b><br>Real GDP per Capita = 1304.15 * Year + -2.52743e+06<br>R<sup>2</sup>=0.948885<br><br>Country=Spain<br>Year=%{x}<br>Real GDP per Capita=%{y} <b>(trend)</b><extra></extra>",
         "legendgroup": "Spain",
         "line": {
          "color": "#D3D3D3"
         },
         "marker": {
          "color": "#FFA15A",
          "opacity": 0.75,
          "symbol": "circle"
         },
         "mode": "lines",
         "name": "Spain",
         "showlegend": false,
         "type": "scatter",
         "x": [
          1950,
          1951,
          1952,
          1953,
          1954,
          1955,
          1956,
          1957,
          1958,
          1959,
          1960,
          1961,
          1962,
          1963,
          1964,
          1965,
          1966,
          1967,
          1968,
          1969,
          1970,
          1971,
          1972,
          1973,
          1974,
          1975,
          1976,
          1977,
          1978,
          1979,
          1980,
          1981,
          1982,
          1983,
          1984,
          1985,
          1986,
          1987,
          1988,
          1989,
          1990,
          1991,
          1992,
          1993,
          1994,
          1995,
          1996,
          1997,
          1998,
          1999,
          2000,
          2001,
          2002,
          2003,
          2004,
          2005,
          2006,
          2007,
          2008,
          2009,
          2010,
          2011,
          2012,
          2013,
          2014,
          2015,
          2016,
          2017,
          2018,
          2019
         ],
         "xaxis": "x",
         "y": [
          15668.62111953514,
          16972.775988580666,
          18276.93085762619,
          19581.085726671714,
          20885.240595717238,
          22189.395464762765,
          23493.55033380829,
          24797.705202853813,
          26101.860071899337,
          27406.01494094486,
          28710.169809990388,
          30014.32467903591,
          31318.479548081435,
          32622.63441712696,
          33926.78928617248,
          35230.94415521801,
          36535.09902426353,
          37839.253893309055,
          39143.40876235458,
          40447.56363140011,
          41751.71850044563,
          43055.87336949116,
          44360.02823853668,
          45664.183107582205,
          46968.33797662773,
          48272.49284567325,
          49576.647714718776,
          50880.8025837643,
          52184.957452809824,
          53489.112321855355,
          54793.26719090088,
          56097.4220599464,
          57401.576928991926,
          58705.73179803745,
          60009.886667082974,
          61314.0415361285,
          62618.19640517402,
          63922.351274219545,
          65226.50614326507,
          66530.6610123106,
          67834.81588135612,
          69138.97075040164,
          70443.12561944716,
          71747.28048849269,
          73051.43535753821,
          74355.59022658375,
          75659.74509562927,
          76963.8999646748,
          78268.05483372032,
          79572.20970276585,
          80876.36457181137,
          82180.5194408569,
          83484.67430990242,
          84788.82917894794,
          86092.98404799346,
          87397.13891703899,
          88701.29378608451,
          90005.44865513004,
          91309.60352417556,
          92613.75839322108,
          93917.91326226661,
          95222.06813131213,
          96526.22300035766,
          97830.37786940318,
          99134.5327384487,
          100438.68760749423,
          101742.84247653975,
          103046.99734558529,
          104351.15221463081,
          105655.30708367634
         ],
         "yaxis": "y"
        },
        {
         "hovertemplate": "Country=Finland<br>Year=%{x}<br>Real GDP per Capita=%{y}<extra></extra>",
         "legendgroup": "Finland",
         "marker": {
          "color": "#19d3f3",
          "opacity": 0.75,
          "symbol": "circle"
         },
         "mode": "markers",
         "name": "Finland",
         "orientation": "v",
         "showlegend": true,
         "type": "scatter",
         "x": [
          1950,
          1951,
          1952,
          1953,
          1954,
          1955,
          1956,
          1957,
          1958,
          1959,
          1960,
          1961,
          1962,
          1963,
          1964,
          1965,
          1966,
          1967,
          1968,
          1969,
          1970,
          1971,
          1972,
          1973,
          1974,
          1975,
          1976,
          1977,
          1978,
          1979,
          1980,
          1981,
          1982,
          1983,
          1984,
          1985,
          1986,
          1987,
          1988,
          1989,
          1990,
          1991,
          1992,
          1993,
          1994,
          1995,
          1996,
          1997,
          1998,
          1999,
          2000,
          2001,
          2002,
          2003,
          2004,
          2005,
          2006,
          2007,
          2008,
          2009,
          2010,
          2011,
          2012,
          2013,
          2014,
          2015,
          2016,
          2017,
          2018,
          2019
         ],
         "xaxis": "x",
         "y": [
          13691.886161211523,
          14827.988020931474,
          15554.014210500634,
          15451.239961591564,
          16672.152383489454,
          17995.879140505225,
          18492.344556149474,
          18561.690884381038,
          18565.453894067366,
          19959.624895747107,
          21682.928788413497,
          22896.41383419843,
          23676.489029784236,
          24360.427413276164,
          25752.090528272354,
          26703.31449132853,
          27399.40958801021,
          28420.03870634654,
          29310.277970303614,
          31659.940915504194,
          33481.45643660448,
          34418.7441795324,
          36789.86849299066,
          38652.19123094474,
          39780.26529418474,
          40690.89269770156,
          41194.52943905482,
          42063.70312772188,
          43721.204821568026,
          45823.17489295004,
          46906.73221974522,
          46746.526434939464,
          47919.1222651276,
          49583.12329471978,
          51021.05990602609,
          52547.04615116286,
          54164.50629871097,
          55526.00596818972,
          58234.75556244188,
          60503.26970670477,
          61174.21711238844,
          61002.80305659822,
          63242.30210917387,
          66620.82081819023,
          70367.57968718995,
          71833.31674187857,
          73213.25166007123,
          75301.06946548529,
          77874.62677683507,
          79648.73904990713,
          82523.51509994832,
          83371.85345328708,
          83754.37828111612,
          85209.87058080752,
          88148.67151931423,
          89256.34233879912,
          91165.38582551284,
          93959.43785047201,
          92681.82753247234,
          87458.95871382393,
          90808.11963847707,
          91670.77650622107,
          89641.94934700335,
          89526.0758678573,
          89589.68929776564,
          90116.74252355681,
          92220.04601100783,
          94234.26880198409,
          93256.28481942909,
          92763.55857811606
         ],
         "yaxis": "y"
        },
        {
         "hovertemplate": "<b>OLS trendline</b><br>Real GDP per Capita = 1341.84 * Year + -2.60798e+06<br>R<sup>2</sup>=0.980850<br><br>Country=Finland<br>Year=%{x}<br>Real GDP per Capita=%{y} <b>(trend)</b><extra></extra>",
         "legendgroup": "Finland",
         "line": {
          "color": "#D3D3D3"
         },
         "marker": {
          "color": "#19d3f3",
          "opacity": 0.75,
          "symbol": "circle"
         },
         "mode": "lines",
         "name": "Finland",
         "showlegend": false,
         "type": "scatter",
         "x": [
          1950,
          1951,
          1952,
          1953,
          1954,
          1955,
          1956,
          1957,
          1958,
          1959,
          1960,
          1961,
          1962,
          1963,
          1964,
          1965,
          1966,
          1967,
          1968,
          1969,
          1970,
          1971,
          1972,
          1973,
          1974,
          1975,
          1976,
          1977,
          1978,
          1979,
          1980,
          1981,
          1982,
          1983,
          1984,
          1985,
          1986,
          1987,
          1988,
          1989,
          1990,
          1991,
          1992,
          1993,
          1994,
          1995,
          1996,
          1997,
          1998,
          1999,
          2000,
          2001,
          2002,
          2003,
          2004,
          2005,
          2006,
          2007,
          2008,
          2009,
          2010,
          2011,
          2012,
          2013,
          2014,
          2015,
          2016,
          2017,
          2018,
          2019
         ],
         "xaxis": "x",
         "y": [
          8607.096800723291,
          9948.935925695989,
          11290.775050668686,
          12632.614175641384,
          13974.453300614081,
          15316.292425586778,
          16658.131550559476,
          17999.970675532175,
          19341.80980050487,
          20683.648925477566,
          22025.488050450265,
          23367.327175422965,
          24709.16630039566,
          26051.005425368356,
          27392.844550341055,
          28734.683675313754,
          30076.52280028645,
          31418.361925259145,
          32760.201050231844,
          34102.04017520454,
          35443.87930017724,
          36785.718425149935,
          38127.557550122634,
          39469.39667509533,
          40811.235800068025,
          42153.074925040724,
          43494.91405001342,
          44836.75317498612,
          46178.59229995882,
          47520.431424931514,
          48862.27054990421,
          50204.10967487691,
          51545.948799849604,
          52887.7879248223,
          54229.627049795,
          55571.4661747677,
          56913.3052997404,
          58255.14442471309,
          59596.98354968579,
          60938.82267465849,
          62280.66179963118,
          63622.50092460388,
          64964.34004957658,
          66306.17917454928,
          67648.01829952198,
          68989.85742449468,
          70331.69654946736,
          71673.53567444006,
          73015.37479941276,
          74357.21392438546,
          75699.05304935816,
          77040.89217433086,
          78382.73129930356,
          79724.57042427626,
          81066.40954924896,
          82408.24867422164,
          83750.08779919434,
          85091.92692416704,
          86433.76604913974,
          87775.60517411244,
          89117.44429908514,
          90459.28342405784,
          91801.12254903052,
          93142.96167400322,
          94484.80079897592,
          95826.63992394862,
          97168.47904892132,
          98510.31817389402,
          99852.15729886672,
          101193.99642383942
         ],
         "yaxis": "y"
        },
        {
         "hovertemplate": "Country=France<br>Year=%{x}<br>Real GDP per Capita=%{y}<extra></extra>",
         "legendgroup": "France",
         "marker": {
          "color": "#FF6692",
          "opacity": 0.75,
          "symbol": "circle"
         },
         "mode": "markers",
         "name": "France",
         "orientation": "v",
         "showlegend": true,
         "type": "scatter",
         "x": [
          1950,
          1951,
          1952,
          1953,
          1954,
          1955,
          1956,
          1957,
          1958,
          1959,
          1960,
          1961,
          1962,
          1963,
          1964,
          1965,
          1966,
          1967,
          1968,
          1969,
          1970,
          1971,
          1972,
          1973,
          1974,
          1975,
          1976,
          1977,
          1978,
          1979,
          1980,
          1981,
          1982,
          1983,
          1984,
          1985,
          1986,
          1987,
          1988,
          1989,
          1990,
          1991,
          1992,
          1993,
          1994,
          1995,
          1996,
          1997,
          1998,
          1999,
          2000,
          2001,
          2002,
          2003,
          2004,
          2005,
          2006,
          2007,
          2008,
          2009,
          2010,
          2011,
          2012,
          2013,
          2014,
          2015,
          2016,
          2017,
          2018,
          2019
         ],
         "xaxis": "x",
         "y": [
          19045.371260639156,
          19966.43628703813,
          20529.773638323477,
          21334.05211320941,
          22500.710541582055,
          23526.53620956055,
          24419.41945309481,
          25567.257636803097,
          26337.006324616934,
          27191.184161746667,
          29354.587837714513,
          30866.128215248973,
          32944.9995477838,
          34818.43371128746,
          36701.72115088287,
          38368.52174233897,
          40070.88433925435,
          41949.77920625151,
          43898.988228301576,
          46347.85665154553,
          48567.39099929222,
          51008.71645866551,
          53025.6091255109,
          55642.70681126142,
          57476.35082902233,
          57290.20820293947,
          59200.264169583534,
          60679.98048251559,
          62719.57778089661,
          64521.70490582001,
          65277.65095866651,
          66067.0025285197,
          67557.59992957771,
          68382.47563712268,
          69779.42278790766,
          70975.19384826011,
          72171.73351216009,
          73292.7332179118,
          75950.268067125,
          78240.84744672546,
          79877.7155282233,
          80626.92699111125,
          82470.77312020703,
          82808.21228836189,
          84297.04901947845,
          85172.9359772052,
          85840.3028890547,
          87122.75331674419,
          88641.21594734945,
          89544.90826476477,
          90861.90438911863,
          91419.04061658353,
          92003.6966010906,
          92683.30133338162,
          95155.90931905314,
          96117.1408266881,
          97453.63683044912,
          98404.52494766377,
          98145.21688816759,
          96386.93706175401,
          98107.68522918668,
          99436.71749671666,
          99343.74649997456,
          99889.64757888192,
          100489.26530128531,
          101337.29214474747,
          101708.2016985458,
          102928.53494778016,
          103657.01015206371,
          103928.21630183964
         ],
         "yaxis": "y"
        },
        {
         "hovertemplate": "<b>OLS trendline</b><br>Real GDP per Capita = 1341.44 * Year + -2.59511e+06<br>R<sup>2</sup>=0.977796<br><br>Country=France<br>Year=%{x}<br>Real GDP per Capita=%{y} <b>(trend)</b><extra></extra>",
         "legendgroup": "France",
         "line": {
          "color": "#D3D3D3"
         },
         "marker": {
          "color": "#FF6692",
          "opacity": 0.75,
          "symbol": "circle"
         },
         "mode": "lines",
         "name": "France",
         "showlegend": false,
         "type": "scatter",
         "x": [
          1950,
          1951,
          1952,
          1953,
          1954,
          1955,
          1956,
          1957,
          1958,
          1959,
          1960,
          1961,
          1962,
          1963,
          1964,
          1965,
          1966,
          1967,
          1968,
          1969,
          1970,
          1971,
          1972,
          1973,
          1974,
          1975,
          1976,
          1977,
          1978,
          1979,
          1980,
          1981,
          1982,
          1983,
          1984,
          1985,
          1986,
          1987,
          1988,
          1989,
          1990,
          1991,
          1992,
          1993,
          1994,
          1995,
          1996,
          1997,
          1998,
          1999,
          2000,
          2001,
          2002,
          2003,
          2004,
          2005,
          2006,
          2007,
          2008,
          2009,
          2010,
          2011,
          2012,
          2013,
          2014,
          2015,
          2016,
          2017,
          2018,
          2019
         ],
         "xaxis": "x",
         "y": [
          20711.97467165273,
          22053.419507449194,
          23394.86434324566,
          24736.309179042124,
          26077.75401483859,
          27419.198850635057,
          28760.643686431522,
          30102.088522227987,
          31443.533358024455,
          32784.97819382092,
          34126.423029617385,
          35467.86786541385,
          36809.312701210314,
          38150.75753700678,
          39492.20237280325,
          40833.647208599716,
          42175.09204439618,
          43516.536880192645,
          44857.98171598911,
          46199.426551785575,
          47540.87138758204,
          48882.316223378504,
          50223.76105917497,
          51565.20589497144,
          52906.650730767906,
          54248.09556656437,
          55589.540402360835,
          56930.9852381573,
          58272.430073953765,
          59613.87490975023,
          60955.3197455467,
          62296.764581343166,
          63638.20941713963,
          64979.654252936096,
          66321.09908873256,
          67662.54392452903,
          69003.98876032549,
          70345.43359612196,
          71686.87843191842,
          73028.32326771489,
          74369.76810351135,
          75711.21293930782,
          77052.65777510428,
          78394.10261090075,
          79735.54744669722,
          81076.99228249368,
          82418.43711829015,
          83759.88195408661,
          85101.32678988308,
          86442.77162567954,
          87784.21646147601,
          89125.66129727248,
          90467.10613306894,
          91808.55096886541,
          93149.99580466187,
          94491.44064045834,
          95832.8854762548,
          97174.33031205127,
          98515.77514784774,
          99857.2199836442,
          101198.66481944067,
          102540.10965523713,
          103881.5544910336,
          105222.99932683006,
          106564.44416262653,
          107905.88899842299,
          109247.33383421946,
          110588.77867001593,
          111930.22350581239,
          113271.66834160886
         ],
         "yaxis": "y"
        },
        {
         "hovertemplate": "Country=Greece<br>Year=%{x}<br>Real GDP per Capita=%{y}<extra></extra>",
         "legendgroup": "Greece",
         "marker": {
          "color": "#B6E880",
          "opacity": 0.75,
          "symbol": "circle"
         },
         "mode": "markers",
         "name": "Greece",
         "orientation": "v",
         "showlegend": true,
         "type": "scatter",
         "x": [
          1951,
          1952,
          1953,
          1954,
          1955,
          1956,
          1957,
          1958,
          1959,
          1960,
          1961,
          1962,
          1963,
          1964,
          1965,
          1966,
          1967,
          1968,
          1969,
          1970,
          1971,
          1972,
          1973,
          1974,
          1975,
          1976,
          1977,
          1978,
          1979,
          1980,
          1981,
          1982,
          1983,
          1984,
          1985,
          1986,
          1987,
          1988,
          1989,
          1990,
          1991,
          1992,
          1993,
          1994,
          1995,
          1996,
          1997,
          1998,
          1999,
          2000,
          2001,
          2002,
          2003,
          2004,
          2005,
          2006,
          2007,
          2008,
          2009,
          2010,
          2011,
          2012,
          2013,
          2014,
          2015,
          2016,
          2017,
          2018,
          2019
         ],
         "xaxis": "x",
         "y": [
          11545.247191779545,
          11247.181041913262,
          12103.837648556715,
          12524.815435322338,
          13080.421762531894,
          14120.555001481574,
          15049.327762500769,
          15624.516662187181,
          16161.51876218186,
          16463.94848089659,
          18563.77069381625,
          18819.801972110516,
          21347.878627774444,
          23664.1377627192,
          26396.94558745719,
          28366.961216888394,
          30338.73066719423,
          32919.314248884475,
          36837.27617273367,
          40166.78780360358,
          43109.26619900765,
          47248.810373875065,
          50418.34625647158,
          46880.265045021166,
          49755.83224408983,
          52577.09076121421,
          53767.23530309207,
          57355.27292412127,
          58536.277590894235,
          58014.67558716404,
          54255.16752826929,
          54114.26175378394,
          53215.1682067365,
          54361.313836922076,
          54272.57031732488,
          54265.9926123618,
          52990.50350998009,
          54163.69797504884,
          55983.38893651956,
          55420.35073993573,
          58355.79414114423,
          57785.289517180994,
          56113.80204452912,
          55877.916886601815,
          56275.57282447855,
          58007.35375624301,
          60732.97241565733,
          60425.04808118126,
          62172.84678798147,
          64346.32630340572,
          66795.9698275793,
          67716.17438150983,
          70599.63871828026,
          72501.550519989,
          72542.57252178188,
          75768.12341647319,
          77857.08341508357,
          77377.47722475402,
          75217.45758101308,
          73537.64803265706,
          71232.80142084636,
          70578.96733294961,
          70245.3009031854,
          69873.49034632492,
          68900.53636162063,
          68246.20239524075,
          68229.15684547334,
          68298.14547995846,
          68356.14054824186
         ],
         "yaxis": "y"
        },
        {
         "hovertemplate": "<b>OLS trendline</b><br>Real GDP per Capita = 959.962 * Year + -1.85596e+06<br>R<sup>2</sup>=0.878198<br><br>Country=Greece<br>Year=%{x}<br>Real GDP per Capita=%{y} <b>(trend)</b><extra></extra>",
         "legendgroup": "Greece",
         "line": {
          "color": "#D3D3D3"
         },
         "marker": {
          "color": "#B6E880",
          "opacity": 0.75,
          "symbol": "circle"
         },
         "mode": "lines",
         "name": "Greece",
         "showlegend": false,
         "type": "scatter",
         "x": [
          1951,
          1952,
          1953,
          1954,
          1955,
          1956,
          1957,
          1958,
          1959,
          1960,
          1961,
          1962,
          1963,
          1964,
          1965,
          1966,
          1967,
          1968,
          1969,
          1970,
          1971,
          1972,
          1973,
          1974,
          1975,
          1976,
          1977,
          1978,
          1979,
          1980,
          1981,
          1982,
          1983,
          1984,
          1985,
          1986,
          1987,
          1988,
          1989,
          1990,
          1991,
          1992,
          1993,
          1994,
          1995,
          1996,
          1997,
          1998,
          1999,
          2000,
          2001,
          2002,
          2003,
          2004,
          2005,
          2006,
          2007,
          2008,
          2009,
          2010,
          2011,
          2012,
          2013,
          2014,
          2015,
          2016,
          2017,
          2018,
          2019
         ],
         "xaxis": "x",
         "y": [
          16926.72925278609,
          17886.691530617918,
          18846.653808449748,
          19806.616086281578,
          20766.578364113408,
          21726.540641945237,
          22686.502919777067,
          23646.465197608894,
          24606.427475440723,
          25566.389753272553,
          26526.352031104383,
          27486.314308936213,
          28446.276586768043,
          29406.238864599873,
          30366.201142431702,
          31326.163420263532,
          32286.125698095362,
          33246.08797592719,
          34206.05025375902,
          35166.01253159085,
          36125.97480942268,
          37085.93708725451,
          38045.89936508634,
          39005.861642918164,
          39965.823920749994,
          40925.78619858182,
          41885.74847641365,
          42845.71075424548,
          43805.67303207731,
          44765.63530990914,
          45725.59758774097,
          46685.5598655728,
          47645.52214340463,
          48605.48442123646,
          49565.44669906829,
          50525.40897690012,
          51485.37125473195,
          52445.33353256378,
          53405.29581039561,
          54365.25808822744,
          55325.22036605927,
          56285.1826438911,
          57245.14492172293,
          58205.10719955476,
          59165.06947738658,
          60125.03175521841,
          61084.99403305024,
          62044.95631088207,
          63004.9185887139,
          63964.88086654573,
          64924.84314437756,
          65884.80542220939,
          66844.76770004122,
          67804.72997787305,
          68764.69225570488,
          69724.65453353671,
          70684.61681136854,
          71644.57908920037,
          72604.5413670322,
          73564.50364486403,
          74524.46592269586,
          75484.42820052769,
          76444.39047835952,
          77404.35275619135,
          78364.31503402318,
          79324.27731185501,
          80284.23958968684,
          81244.20186751867,
          82204.1641453505
         ],
         "yaxis": "y"
        },
        {
         "hovertemplate": "Country=Ireland<br>Year=%{x}<br>Real GDP per Capita=%{y}<extra></extra>",
         "legendgroup": "Ireland",
         "marker": {
          "color": "#FF97FF",
          "opacity": 0.75,
          "symbol": "circle"
         },
         "mode": "markers",
         "name": "Ireland",
         "orientation": "v",
         "showlegend": true,
         "type": "scatter",
         "x": [
          1950,
          1951,
          1952,
          1953,
          1954,
          1955,
          1956,
          1957,
          1958,
          1959,
          1960,
          1961,
          1962,
          1963,
          1964,
          1965,
          1966,
          1967,
          1968,
          1969,
          1970,
          1971,
          1972,
          1973,
          1974,
          1975,
          1976,
          1977,
          1978,
          1979,
          1980,
          1981,
          1982,
          1983,
          1984,
          1985,
          1986,
          1987,
          1988,
          1989,
          1990,
          1991,
          1992,
          1993,
          1994,
          1995,
          1996,
          1997,
          1998,
          1999,
          2000,
          2001,
          2002,
          2003,
          2004,
          2005,
          2006,
          2007,
          2008,
          2009,
          2010,
          2011,
          2012,
          2013,
          2014,
          2015,
          2016,
          2017,
          2018,
          2019
         ],
         "xaxis": "x",
         "y": [
          20654.41173068989,
          21575.477793697857,
          21444.535129316057,
          22472.303871554228,
          22931.321117467967,
          24381.304582345216,
          23934.65203092741,
          24130.70559264707,
          24416.33812099535,
          26002.61478850789,
          27140.033560770626,
          28627.594407405948,
          29447.572546939948,
          30740.52673878801,
          31935.175687571296,
          32760.299302550848,
          32939.23394285832,
          34816.76398276116,
          37876.784687178486,
          40452.246293400785,
          41684.18782932545,
          42526.68143441807,
          45897.98854566395,
          47396.14160370905,
          48722.6525479104,
          51888.387304912125,
          53039.78403264441,
          55468.0124454476,
          58628.30847091468,
          57596.92636100107,
          59739.39235586732,
          61997.226332409016,
          63751.887862914526,
          64126.4574097166,
          68282.9648008611,
          70668.97941400764,
          70699.57758090661,
          73557.08601797231,
          77221.93939559723,
          81488.90843194083,
          84530.33947001475,
          86770.66289168975,
          89661.15260756221,
          90725.35099456845,
          92872.66568546822,
          97363.6317664252,
          100850.27439975337,
          107895.83989474234,
          110110.37251098696,
          114226.91569380219,
          119568.952220382,
          122167.5033239281,
          127357.00420139258,
          128532.61533882082,
          132595.7335270712,
          133841.30997469716,
          135086.0062771845,
          137242.7212948005,
          131917.6654032879,
          134860.56410640248,
          141965.47382366206,
          145430.2218366098,
          146492.93577278082,
          144576.98061859576,
          153681.25636687325,
          186387.79015135064,
          183660.61371044707,
          194314.34728180984,
          204129.17968848077,
          209111.51705457387
         ],
         "yaxis": "y"
        },
        {
         "hovertemplate": "<b>OLS trendline</b><br>Real GDP per Capita = 2456.64 * Year + -4.7932e+06<br>R<sup>2</sup>=0.935620<br><br>Country=Ireland<br>Year=%{x}<br>Real GDP per Capita=%{y} <b>(trend)</b><extra></extra>",
         "legendgroup": "Ireland",
         "line": {
          "color": "#D3D3D3"
         },
         "marker": {
          "color": "#FF97FF",
          "opacity": 0.75,
          "symbol": "circle"
         },
         "mode": "lines",
         "name": "Ireland",
         "showlegend": false,
         "type": "scatter",
         "x": [
          1950,
          1951,
          1952,
          1953,
          1954,
          1955,
          1956,
          1957,
          1958,
          1959,
          1960,
          1961,
          1962,
          1963,
          1964,
          1965,
          1966,
          1967,
          1968,
          1969,
          1970,
          1971,
          1972,
          1973,
          1974,
          1975,
          1976,
          1977,
          1978,
          1979,
          1980,
          1981,
          1982,
          1983,
          1984,
          1985,
          1986,
          1987,
          1988,
          1989,
          1990,
          1991,
          1992,
          1993,
          1994,
          1995,
          1996,
          1997,
          1998,
          1999,
          2000,
          2001,
          2002,
          2003,
          2004,
          2005,
          2006,
          2007,
          2008,
          2009,
          2010,
          2011,
          2012,
          2013,
          2014,
          2015,
          2016,
          2017,
          2018,
          2019
         ],
         "xaxis": "x",
         "y": [
          -2740.0777737694607,
          -283.4332900682575,
          2173.2111936329457,
          4629.855677334149,
          7086.500161035352,
          9543.144644736556,
          11999.789128437758,
          14456.43361213896,
          16913.078095840166,
          19369.72257954137,
          21826.36706324257,
          24283.011546943773,
          26739.656030644976,
          29196.30051434618,
          31652.944998047384,
          34109.58948174859,
          36566.23396544979,
          39022.878449150994,
          41479.5229328522,
          43936.1674165534,
          46392.8119002546,
          48849.4563839558,
          51306.100867657005,
          53762.745351358215,
          56219.38983505942,
          58676.03431876062,
          61132.67880246182,
          63589.323286163024,
          66045.96776986423,
          68502.61225356543,
          70959.25673726664,
          73415.90122096783,
          75872.54570466904,
          78329.19018837024,
          80785.83467207145,
          83242.47915577266,
          85699.12363947385,
          88155.76812317506,
          90612.41260687626,
          93069.05709057747,
          95525.70157427866,
          97982.34605797987,
          100438.99054168107,
          102895.63502538227,
          105352.27950908348,
          107808.92399278468,
          110265.56847648589,
          112722.21296018708,
          115178.8574438883,
          117635.50192758949,
          120092.1464112907,
          122548.79089499191,
          125005.4353786931,
          127462.07986239431,
          129918.7243460955,
          132375.3688297967,
          134832.0133134979,
          137288.65779719912,
          139745.30228090033,
          142201.94676460154,
          144658.59124830272,
          147115.23573200393,
          149571.88021570514,
          152028.52469940635,
          154485.16918310753,
          156941.81366680874,
          159398.45815050995,
          161855.10263421116,
          164311.74711791237,
          166768.39160161355
         ],
         "yaxis": "y"
        },
        {
         "hovertemplate": "Country=Italy<br>Year=%{x}<br>Real GDP per Capita=%{y}<extra></extra>",
         "legendgroup": "Italy",
         "marker": {
          "color": "#FECB52",
          "opacity": 0.75,
          "symbol": "circle"
         },
         "mode": "markers",
         "name": "Italy",
         "orientation": "v",
         "showlegend": true,
         "type": "scatter",
         "x": [
          1950,
          1951,
          1952,
          1953,
          1954,
          1955,
          1956,
          1957,
          1958,
          1959,
          1960,
          1961,
          1962,
          1963,
          1964,
          1965,
          1966,
          1967,
          1968,
          1969,
          1970,
          1971,
          1972,
          1973,
          1974,
          1975,
          1976,
          1977,
          1978,
          1979,
          1980,
          1981,
          1982,
          1983,
          1984,
          1985,
          1986,
          1987,
          1988,
          1989,
          1990,
          1991,
          1992,
          1993,
          1994,
          1995,
          1996,
          1997,
          1998,
          1999,
          2000,
          2001,
          2002,
          2003,
          2004,
          2005,
          2006,
          2007,
          2008,
          2009,
          2010,
          2011,
          2012,
          2013,
          2014,
          2015,
          2016,
          2017,
          2018,
          2019
         ],
         "xaxis": "x",
         "y": [
          17103.06071773493,
          18573.094531364408,
          19212.504022351073,
          20182.093048232244,
          20726.24655023579,
          21843.84131753779,
          22666.511991429034,
          23424.944335187927,
          24438.545500647273,
          25994.9818057082,
          28020.229787744232,
          30156.88176792399,
          32101.63158352532,
          34452.15731812422,
          35519.38014328283,
          37620.94696191716,
          40548.30558364324,
          42893.05521457417,
          45759.78803442548,
          48873.95909977219,
          54759.475702145,
          55710.123633270654,
          57904.40734728146,
          61242.78699738888,
          63726.433060165364,
          62387.80450897363,
          66154.74325851884,
          67616.11300711779,
          69537.48355955478,
          72790.75691704544,
          74098.30377376919,
          74645.45854970484,
          74660.83179144336,
          75256.8949355341,
          77646.69762460358,
          79016.31215080564,
          80657.69095516166,
          83001.9916167446,
          85555.97716224808,
          87844.3905207463,
          88219.58381834952,
          87926.65916450671,
          89225.07461671697,
          90845.98928285464,
          94346.25517569216,
          97276.9136153729,
          98124.41184719397,
          99934.28779358436,
          101030.94959257224,
          101737.95438079738,
          103538.2444179308,
          103249.83961582194,
          101405.78279103836,
          99854.605001717,
          100647.39308833898,
          100819.36743604329,
          100491.2673523038,
          100895.64366241948,
          100069.8489972012,
          96512.84320266933,
          98733.7224913924,
          98895.268190049,
          95998.91151299526,
          96604.9158514121,
          97025.33704904722,
          96782.59637400635,
          96423.87093437994,
          96740.65428327564,
          96757.9541790432,
          96412.79128407416
         ],
         "yaxis": "y"
        },
        {
         "hovertemplate": "<b>OLS trendline</b><br>Real GDP per Capita = 1369.02 * Year + -2.64623e+06<br>R<sup>2</sup>=0.897351<br><br>Country=Italy<br>Year=%{x}<br>Real GDP per Capita=%{y} <b>(trend)</b><extra></extra>",
         "legendgroup": "Italy",
         "line": {
          "color": "#D3D3D3"
         },
         "marker": {
          "color": "#FECB52",
          "opacity": 0.75,
          "symbol": "circle"
         },
         "mode": "lines",
         "name": "Italy",
         "showlegend": false,
         "type": "scatter",
         "x": [
          1950,
          1951,
          1952,
          1953,
          1954,
          1955,
          1956,
          1957,
          1958,
          1959,
          1960,
          1961,
          1962,
          1963,
          1964,
          1965,
          1966,
          1967,
          1968,
          1969,
          1970,
          1971,
          1972,
          1973,
          1974,
          1975,
          1976,
          1977,
          1978,
          1979,
          1980,
          1981,
          1982,
          1983,
          1984,
          1985,
          1986,
          1987,
          1988,
          1989,
          1990,
          1991,
          1992,
          1993,
          1994,
          1995,
          1996,
          1997,
          1998,
          1999,
          2000,
          2001,
          2002,
          2003,
          2004,
          2005,
          2006,
          2007,
          2008,
          2009,
          2010,
          2011,
          2012,
          2013,
          2014,
          2015,
          2016,
          2017,
          2018,
          2019
         ],
         "xaxis": "x",
         "y": [
          23352.608329680083,
          24721.624143474164,
          26090.639957268242,
          27459.65577106232,
          28828.6715848564,
          30197.68739865048,
          31566.70321244456,
          32935.719026238636,
          34304.73484003272,
          35673.7506538268,
          37042.76646762088,
          38411.782281414955,
          39780.79809520904,
          41149.81390900312,
          42518.82972279719,
          43887.845536591274,
          45256.861350385356,
          46625.87716417943,
          47994.89297797351,
          49363.90879176759,
          50732.92460556167,
          52101.94041935575,
          53470.95623314983,
          54839.972046943905,
          56208.98786073799,
          57578.00367453207,
          58947.01948832614,
          60316.035302120225,
          61685.051115914306,
          63054.06692970839,
          64423.08274350246,
          65792.09855729654,
          67161.11437109062,
          68530.1301848847,
          69899.14599867878,
          71268.16181247286,
          72637.17762626694,
          74006.19344006102,
          75375.2092538551,
          76744.22506764918,
          78113.24088144326,
          79482.25669523733,
          80851.27250903142,
          82220.2883228255,
          83589.30413661957,
          84958.31995041366,
          86327.33576420773,
          87696.3515780018,
          89065.3673917959,
          90434.38320558997,
          91803.39901938406,
          93172.41483317813,
          94541.4306469722,
          95910.4464607663,
          97279.46227456037,
          98648.47808835444,
          100017.49390214853,
          101386.50971594261,
          102755.52552973668,
          104124.54134353077,
          105493.55715732485,
          106862.57297111892,
          108231.58878491301,
          109600.60459870708,
          110969.62041250116,
          112338.63622629525,
          113707.65204008932,
          115076.6678538834,
          116445.68366767748,
          117814.69948147156
         ],
         "yaxis": "y"
        },
        {
         "hovertemplate": "Country=Luxembourg<br>Year=%{x}<br>Real GDP per Capita=%{y}<extra></extra>",
         "legendgroup": "Luxembourg",
         "marker": {
          "color": "#636efa",
          "opacity": 0.75,
          "symbol": "circle"
         },
         "mode": "markers",
         "name": "Luxembourg",
         "orientation": "v",
         "showlegend": true,
         "type": "scatter",
         "x": [
          1950,
          1951,
          1952,
          1953,
          1954,
          1955,
          1956,
          1957,
          1958,
          1959,
          1960,
          1961,
          1962,
          1963,
          1964,
          1965,
          1966,
          1967,
          1968,
          1969,
          1970,
          1971,
          1972,
          1973,
          1974,
          1975,
          1976,
          1977,
          1978,
          1979,
          1980,
          1981,
          1982,
          1983,
          1984,
          1985,
          1986,
          1987,
          1988,
          1989,
          1990,
          1991,
          1992,
          1993,
          1994,
          1995,
          1996,
          1997,
          1998,
          1999,
          2000,
          2001,
          2002,
          2003,
          2004,
          2005,
          2006,
          2007,
          2008,
          2009,
          2010,
          2011,
          2012,
          2013,
          2014,
          2015,
          2016,
          2017,
          2018,
          2019
         ],
         "xaxis": "x",
         "y": [
          40977.61436713946,
          39289.117560933446,
          41611.1087891881,
          42704.393724765054,
          42479.9882627604,
          44661.38038551834,
          46709.58509124412,
          49241.24915433418,
          50043.0071673729,
          50005.413427815016,
          52062.14895922596,
          53325.35333650045,
          53831.05960606838,
          55085.43339274562,
          59027.2331118365,
          59527.12583604907,
          59930.75225544598,
          61066.016830981716,
          64493.160569593725,
          70441.68519018474,
          69784.19354071442,
          69553.80181590338,
          72473.46966951419,
          77215.41741636481,
          78642.22849430208,
          72806.09494742865,
          74577.36694167355,
          75434.8061367614,
          78641.3782146572,
          79895.83063056518,
          80040.08673056468,
          79404.12039053727,
          80505.23719983528,
          83165.55772586513,
          87785.04394776469,
          89343.57004672964,
          96016.83037519983,
          97218.06454768972,
          102615.33992371771,
          108463.1037943511,
          109980.00368699119,
          115080.20113420604,
          114062.54639987888,
          116725.41918027427,
          117959.78720229481,
          116644.50664098246,
          115194.93318329209,
          117566.47205025482,
          119267.82112019135,
          123568.28594272313,
          127307.93118918625,
          123795.70465941937,
          125224.58402540223,
          125469.79314522864,
          127546.08001694037,
          128306.47116937806,
          129856.96862227353,
          134186.62914487522,
          125937.14855384802,
          118707.69722997423,
          121720.00109128167,
          121235.8388485711,
          118185.45553429463,
          120462.50455821097,
          122720.97967166275,
          125024.2002140226,
          127185.74549245469,
          125221.22874608923,
          124326.78983206332,
          122788.02994368997
         ],
         "yaxis": "y"
        },
        {
         "hovertemplate": "<b>OLS trendline</b><br>Real GDP per Capita = 1465.51 * Year + -2.81757e+06<br>R<sup>2</sup>=0.936815<br><br>Country=Luxembourg<br>Year=%{x}<br>Real GDP per Capita=%{y} <b>(trend)</b><extra></extra>",
         "legendgroup": "Luxembourg",
         "line": {
          "color": "#D3D3D3"
         },
         "marker": {
          "color": "#636efa",
          "opacity": 0.75,
          "symbol": "circle"
         },
         "mode": "lines",
         "name": "Luxembourg",
         "showlegend": false,
         "type": "scatter",
         "x": [
          1950,
          1951,
          1952,
          1953,
          1954,
          1955,
          1956,
          1957,
          1958,
          1959,
          1960,
          1961,
          1962,
          1963,
          1964,
          1965,
          1966,
          1967,
          1968,
          1969,
          1970,
          1971,
          1972,
          1973,
          1974,
          1975,
          1976,
          1977,
          1978,
          1979,
          1980,
          1981,
          1982,
          1983,
          1984,
          1985,
          1986,
          1987,
          1988,
          1989,
          1990,
          1991,
          1992,
          1993,
          1994,
          1995,
          1996,
          1997,
          1998,
          1999,
          2000,
          2001,
          2002,
          2003,
          2004,
          2005,
          2006,
          2007,
          2008,
          2009,
          2010,
          2011,
          2012,
          2013,
          2014,
          2015,
          2016,
          2017,
          2018,
          2019
         ],
         "xaxis": "x",
         "y": [
          40173.61120623871,
          41639.11900884868,
          43104.626811458635,
          44570.13461406859,
          46035.64241667856,
          47501.15021928852,
          48966.65802189848,
          50432.16582450844,
          51897.673627118405,
          53363.18142972836,
          54828.68923233833,
          56294.19703494829,
          57759.70483755825,
          59225.21264016821,
          60690.720442778176,
          62156.228245388134,
          63621.7360479981,
          65087.24385060806,
          66552.75165321802,
          68018.25945582798,
          69483.76725843795,
          70949.2750610479,
          72414.78286365786,
          73880.29066626783,
          75345.7984688778,
          76811.30627148775,
          78276.81407409771,
          79742.32187670768,
          81207.82967931764,
          82673.33748192759,
          84138.84528453756,
          85604.35308714752,
          87069.86088975749,
          88535.36869236744,
          90000.8764949774,
          91466.38429758737,
          92931.89210019732,
          94397.39990280729,
          95862.90770541725,
          97328.41550802722,
          98793.92331063717,
          100259.43111324713,
          101724.9389158571,
          103190.44671846706,
          104655.95452107702,
          106121.46232368698,
          107586.97012629695,
          109052.47792890691,
          110517.98573151686,
          111983.49353412683,
          113449.0013367368,
          114914.50913934674,
          116380.01694195671,
          117845.52474456668,
          119311.03254717664,
          120776.54034978659,
          122242.04815239656,
          123707.55595500652,
          125173.06375761649,
          126638.57156022644,
          128104.0793628364,
          129569.58716544637,
          131035.09496805634,
          132500.6027706663,
          133966.11057327627,
          135431.6183758862,
          136897.12617849617,
          138362.63398110613,
          139828.1417837161,
          141293.64958632606
         ],
         "yaxis": "y"
        },
        {
         "hovertemplate": "Country=Malta<br>Year=%{x}<br>Real GDP per Capita=%{y}<extra></extra>",
         "legendgroup": "Malta",
         "marker": {
          "color": "#EF553B",
          "opacity": 0.75,
          "symbol": "circle"
         },
         "mode": "markers",
         "name": "Malta",
         "orientation": "v",
         "showlegend": true,
         "type": "scatter",
         "x": [
          1954,
          1955,
          1956,
          1957,
          1958,
          1959,
          1960,
          1961,
          1962,
          1963,
          1964,
          1965,
          1966,
          1967,
          1968,
          1969,
          1970,
          1971,
          1972,
          1973,
          1974,
          1975,
          1976,
          1977,
          1978,
          1979,
          1980,
          1981,
          1982,
          1983,
          1984,
          1985,
          1986,
          1987,
          1988,
          1989,
          1990,
          1991,
          1992,
          1993,
          1994,
          1995,
          1996,
          1997,
          1998,
          1999,
          2000,
          2001,
          2002,
          2003,
          2004,
          2005,
          2006,
          2007,
          2008,
          2009,
          2010,
          2011,
          2012,
          2013,
          2014,
          2015,
          2016,
          2017,
          2018,
          2019
         ],
         "xaxis": "x",
         "y": [
          7167.253995555191,
          7229.437357476325,
          8165.148718691103,
          8214.673667246829,
          8748.318287666607,
          8780.853750511531,
          9407.05848461437,
          9249.5966505552,
          8807.897315755254,
          8716.315123532682,
          8845.442031130819,
          9390.838855714064,
          10308.313586651966,
          10910.456660059062,
          11910.450436600078,
          12536.304356018109,
          13963.699209631746,
          14182.279400449373,
          14868.786468170458,
          15327.725853592676,
          16680.249218535355,
          19708.474699537288,
          22771.685728349934,
          25201.607995504375,
          27613.20125584906,
          30050.937566368582,
          31665.25838882834,
          32548.82329716704,
          34041.04055890725,
          33084.68865736414,
          32488.52636911846,
          32193.312278683614,
          32405.08505598469,
          31678.965774448432,
          33463.09774827844,
          35901.75164676426,
          37932.61235440286,
          39705.09355330916,
          41252.246098815485,
          42978.691440864735,
          44923.66755927684,
          45701.89806268773,
          46592.252020647116,
          48833.12526494969,
          51304.23470093175,
          53229.27033139215,
          57456.38196162519,
          56845.66733603153,
          58464.82788642469,
          60255.242692443906,
          60410.849230745254,
          62026.39566953068,
          62204.6075292998,
          63250.50100809638,
          63905.930030020056,
          62466.21224062528,
          63473.997470371505,
          62268.90714619712,
          62240.918341510005,
          63107.32167214196,
          65956.50192476137,
          71454.31480077477,
          73758.52693290992,
          74399.96334838856,
          77783.80848159932,
          78544.90088967555
         ],
         "yaxis": "y"
        },
        {
         "hovertemplate": "<b>OLS trendline</b><br>Real GDP per Capita = 1161.43 * Year + -2.27036e+06<br>R<sup>2</sup>=0.975569<br><br>Country=Malta<br>Year=%{x}<br>Real GDP per Capita=%{y} <b>(trend)</b><extra></extra>",
         "legendgroup": "Malta",
         "line": {
          "color": "#D3D3D3"
         },
         "marker": {
          "color": "#EF553B",
          "opacity": 0.75,
          "symbol": "circle"
         },
         "mode": "lines",
         "name": "Malta",
         "showlegend": false,
         "type": "scatter",
         "x": [
          1954,
          1955,
          1956,
          1957,
          1958,
          1959,
          1960,
          1961,
          1962,
          1963,
          1964,
          1965,
          1966,
          1967,
          1968,
          1969,
          1970,
          1971,
          1972,
          1973,
          1974,
          1975,
          1976,
          1977,
          1978,
          1979,
          1980,
          1981,
          1982,
          1983,
          1984,
          1985,
          1986,
          1987,
          1988,
          1989,
          1990,
          1991,
          1992,
          1993,
          1994,
          1995,
          1996,
          1997,
          1998,
          1999,
          2000,
          2001,
          2002,
          2003,
          2004,
          2005,
          2006,
          2007,
          2008,
          2009,
          2010,
          2011,
          2012,
          2013,
          2014,
          2015,
          2016,
          2017,
          2018,
          2019
         ],
         "xaxis": "x",
         "y": [
          -913.9605996584401,
          247.47428332857203,
          1408.9091663155841,
          2570.3440493025964,
          3731.7789322896083,
          4893.21381527662,
          6054.6486982636325,
          7216.083581250645,
          8377.518464237657,
          9538.95334722467,
          10700.38823021168,
          11861.823113198692,
          13023.257996185705,
          14184.692879172717,
          15346.12776215973,
          16507.56264514674,
          17668.997528133754,
          18830.432411120764,
          19991.86729410778,
          21153.30217709479,
          22314.737060081803,
          23476.171943068814,
          24637.606826055824,
          25799.04170904284,
          26960.47659202985,
          28121.911475016863,
          29283.346358003873,
          30444.781240990887,
          31606.216123977898,
          32767.651006964912,
          33929.08588995192,
          35090.52077293894,
          36251.95565592594,
          37413.39053891296,
          38574.82542189997,
          39736.260304886986,
          40897.69518787399,
          42059.13007086101,
          43220.56495384802,
          44381.99983683503,
          45543.43471982204,
          46704.869602809056,
          47866.30448579607,
          49027.73936878308,
          50189.17425177009,
          51350.609134757105,
          52512.04401774412,
          53673.47890073113,
          54834.91378371814,
          55996.348666705155,
          57157.78354969216,
          58319.218432679176,
          59480.65331566619,
          60642.088198653204,
          61803.52308164021,
          62964.957964627225,
          64126.39284761424,
          65287.827730601246,
          66449.26261358826,
          67610.69749657527,
          68772.13237956229,
          69933.5672625493,
          71095.0021455363,
          72256.43702852332,
          73417.87191151033,
          74579.30679449734
         ],
         "yaxis": "y"
        },
        {
         "hovertemplate": "Country=Netherlands<br>Year=%{x}<br>Real GDP per Capita=%{y}<extra></extra>",
         "legendgroup": "Netherlands",
         "marker": {
          "color": "#00cc96",
          "opacity": 0.75,
          "symbol": "circle"
         },
         "mode": "markers",
         "name": "Netherlands",
         "orientation": "v",
         "showlegend": true,
         "type": "scatter",
         "x": [
          1950,
          1951,
          1952,
          1953,
          1954,
          1955,
          1956,
          1957,
          1958,
          1959,
          1960,
          1961,
          1962,
          1963,
          1964,
          1965,
          1966,
          1967,
          1968,
          1969,
          1970,
          1971,
          1972,
          1973,
          1974,
          1975,
          1976,
          1977,
          1978,
          1979,
          1980,
          1981,
          1982,
          1983,
          1984,
          1985,
          1986,
          1987,
          1988,
          1989,
          1990,
          1991,
          1992,
          1993,
          1994,
          1995,
          1996,
          1997,
          1998,
          1999,
          2000,
          2001,
          2002,
          2003,
          2004,
          2005,
          2006,
          2007,
          2008,
          2009,
          2010,
          2011,
          2012,
          2013,
          2014,
          2015,
          2016,
          2017,
          2018,
          2019
         ],
         "xaxis": "x",
         "y": [
          26702.88910496928,
          27258.604044177748,
          27847.70756180984,
          29854.967297091356,
          31222.508856952823,
          33006.57363897096,
          34036.474886005955,
          34900.80441224753,
          34877.81556636139,
          36223.466668262496,
          39063.276963003715,
          39651.73696035052,
          40619.780439436945,
          41441.378622598604,
          44558.916651955835,
          46655.22373688364,
          47628.57990529669,
          50449.72925537378,
          53575.02113780083,
          53785.352628990804,
          56401.56427674319,
          58311.212036034376,
          60077.601052775055,
          62976.74602668274,
          65078.08646233735,
          65166.11436410878,
          67791.97137489318,
          68943.12995963941,
          69597.41102099289,
          69573.2511349224,
          70686.29827104109,
          70580.2083180215,
          70728.26563397076,
          72745.22202541635,
          74289.18363525197,
          74779.52341501646,
          75087.5337998785,
          74967.57190147198,
          76194.90764533111,
          77446.30351484056,
          78328.45371580095,
          78828.89983483822,
          79129.38384292662,
          79809.63212042277,
          81560.24047018013,
          82130.35922129313,
          83134.87363656372,
          84084.17944337713,
          85996.57813954585,
          87887.23054788636,
          90051.9121108359,
          90503.35058534452,
          90111.93959553922,
          90677.68622202335,
          93366.62909572865,
          94410.93415354079,
          95332.47793762367,
          95919.40575065187,
          96446.28103616045,
          93861.63500812041,
          95938.27597110375,
          96721.38812363209,
          95967.82483262822,
          96972.28849668748,
          98510.9296068826,
          99665.14999415273,
          100593.14226948425,
          101462.17220438132,
          101580.58130122685,
          101594.60703628283
         ],
         "yaxis": "y"
        },
        {
         "hovertemplate": "<b>OLS trendline</b><br>Real GDP per Capita = 1122.27 * Year + -2.15722e+06<br>R<sup>2</sup>=0.970697<br><br>Country=Netherlands<br>Year=%{x}<br>Real GDP per Capita=%{y} <b>(trend)</b><extra></extra>",
         "legendgroup": "Netherlands",
         "line": {
          "color": "#D3D3D3"
         },
         "marker": {
          "color": "#00cc96",
          "opacity": 0.75,
          "symbol": "circle"
         },
         "mode": "lines",
         "name": "Netherlands",
         "showlegend": false,
         "type": "scatter",
         "x": [
          1950,
          1951,
          1952,
          1953,
          1954,
          1955,
          1956,
          1957,
          1958,
          1959,
          1960,
          1961,
          1962,
          1963,
          1964,
          1965,
          1966,
          1967,
          1968,
          1969,
          1970,
          1971,
          1972,
          1973,
          1974,
          1975,
          1976,
          1977,
          1978,
          1979,
          1980,
          1981,
          1982,
          1983,
          1984,
          1985,
          1986,
          1987,
          1988,
          1989,
          1990,
          1991,
          1992,
          1993,
          1994,
          1995,
          1996,
          1997,
          1998,
          1999,
          2000,
          2001,
          2002,
          2003,
          2004,
          2005,
          2006,
          2007,
          2008,
          2009,
          2010,
          2011,
          2012,
          2013,
          2014,
          2015,
          2016,
          2017,
          2018,
          2019
         ],
         "xaxis": "x",
         "y": [
          31215.2784550101,
          32337.552519052348,
          33459.8265830946,
          34582.100647136846,
          35704.374711179094,
          36826.64877522134,
          37948.92283926359,
          39071.19690330584,
          40193.4709673481,
          41315.74503139035,
          42438.019095432595,
          43560.293159474844,
          44682.56722351709,
          45804.84128755934,
          46927.11535160159,
          48049.38941564384,
          49171.66347968609,
          50293.93754372834,
          51416.21160777059,
          52538.48567181284,
          53660.75973585509,
          54783.03379989734,
          55905.30786393959,
          57027.58192798184,
          58149.85599202409,
          59272.13005606634,
          60394.404120108586,
          61516.678184150835,
          62638.95224819308,
          63761.22631223534,
          64883.50037627759,
          66005.77444031983,
          67128.04850436209,
          68250.32256840433,
          69372.59663244658,
          70494.87069648884,
          71617.14476053108,
          72739.41882457334,
          73861.69288861558,
          74983.96695265784,
          76106.24101670008,
          77228.51508074233,
          78350.78914478458,
          79473.06320882683,
          80595.33727286907,
          81717.61133691133,
          82839.88540095359,
          83962.15946499583,
          85084.43352903808,
          86206.70759308033,
          87328.98165712258,
          88451.25572116482,
          89573.52978520708,
          90695.80384924932,
          91818.07791329158,
          92940.35197733382,
          94062.62604137608,
          95184.90010541833,
          96307.17416946057,
          97429.44823350283,
          98551.72229754507,
          99673.99636158733,
          100796.27042562957,
          101918.54448967183,
          103040.81855371407,
          104163.09261775632,
          105285.36668179856,
          106407.64074584082,
          107529.91480988308,
          108652.18887392532
         ],
         "yaxis": "y"
        },
        {
         "hovertemplate": "Country=Portugal<br>Year=%{x}<br>Real GDP per Capita=%{y}<extra></extra>",
         "legendgroup": "Portugal",
         "marker": {
          "color": "#ab63fa",
          "opacity": 0.75,
          "symbol": "circle"
         },
         "mode": "markers",
         "name": "Portugal",
         "orientation": "v",
         "showlegend": true,
         "type": "scatter",
         "x": [
          1950,
          1951,
          1952,
          1953,
          1954,
          1955,
          1956,
          1957,
          1958,
          1959,
          1960,
          1961,
          1962,
          1963,
          1964,
          1965,
          1966,
          1967,
          1968,
          1969,
          1970,
          1971,
          1972,
          1973,
          1974,
          1975,
          1976,
          1977,
          1978,
          1979,
          1980,
          1981,
          1982,
          1983,
          1984,
          1985,
          1986,
          1987,
          1988,
          1989,
          1990,
          1991,
          1992,
          1993,
          1994,
          1995,
          1996,
          1997,
          1998,
          1999,
          2000,
          2001,
          2002,
          2003,
          2004,
          2005,
          2006,
          2007,
          2008,
          2009,
          2010,
          2011,
          2012,
          2013,
          2014,
          2015,
          2016,
          2017,
          2018,
          2019
         ],
         "xaxis": "x",
         "y": [
          10720.593642689093,
          11713.307723354512,
          12213.124892911124,
          12854.891608320344,
          13428.186597301412,
          13962.903295684864,
          14594.995967389508,
          15622.256867311311,
          15211.4266599898,
          15961.616495530423,
          16915.131203318113,
          18074.808033653288,
          19149.051485316293,
          20312.36799783166,
          21424.05789526279,
          23005.560374528588,
          23864.88901564189,
          25715.172974570894,
          29213.00519027764,
          30239.011175968077,
          31456.94288807574,
          32574.261836627516,
          34926.76741716759,
          38637.8577514672,
          36460.057421542544,
          33970.029073073056,
          36104.206394364104,
          37553.32686872653,
          38357.193793555045,
          39681.82228569089,
          40450.064557829864,
          40919.962646577624,
          41643.8749792332,
          39661.26226769071,
          38993.46967801385,
          40289.316500465386,
          41937.76291507056,
          43560.77992945301,
          45718.219208858114,
          47642.251478660444,
          48423.3353805638,
          48864.35297569564,
          48744.76645046358,
          48576.52000659366,
          48998.40685252147,
          51324.92279354389,
          52223.84446906142,
          53154.85434212579,
          54254.159159686045,
          55610.07502222576,
          56651.45055790689,
          56915.910425410424,
          57201.17640439469,
          57196.55101403719,
          58542.13693147579,
          59169.36713434737,
          59807.130815249526,
          61241.8855176352,
          61173.115789379735,
          60931.32579075058,
          62961.80827382602,
          63185.96043259015,
          63208.135721007,
          64445.767511263875,
          64042.80536883198,
          64337.591623608736,
          64655.271262650305,
          64868.61874603511,
          65299.290737281604,
          66349.85841838611
         ],
         "yaxis": "y"
        },
        {
         "hovertemplate": "<b>OLS trendline</b><br>Real GDP per Capita = 852.598 * Year + -1.65074e+06<br>R<sup>2</sup>=0.981395<br><br>Country=Portugal<br>Year=%{x}<br>Real GDP per Capita=%{y} <b>(trend)</b><extra></extra>",
         "legendgroup": "Portugal",
         "line": {
          "color": "#D3D3D3"
         },
         "marker": {
          "color": "#ab63fa",
          "opacity": 0.75,
          "symbol": "circle"
         },
         "mode": "lines",
         "name": "Portugal",
         "showlegend": false,
         "type": "scatter",
         "x": [
          1950,
          1951,
          1952,
          1953,
          1954,
          1955,
          1956,
          1957,
          1958,
          1959,
          1960,
          1961,
          1962,
          1963,
          1964,
          1965,
          1966,
          1967,
          1968,
          1969,
          1970,
          1971,
          1972,
          1973,
          1974,
          1975,
          1976,
          1977,
          1978,
          1979,
          1980,
          1981,
          1982,
          1983,
          1984,
          1985,
          1986,
          1987,
          1988,
          1989,
          1990,
          1991,
          1992,
          1993,
          1994,
          1995,
          1996,
          1997,
          1998,
          1999,
          2000,
          2001,
          2002,
          2003,
          2004,
          2005,
          2006,
          2007,
          2008,
          2009,
          2010,
          2011,
          2012,
          2013,
          2014,
          2015,
          2016,
          2017,
          2018,
          2019
         ],
         "xaxis": "x",
         "y": [
          11829.594993705532,
          12682.193144992543,
          13534.791296279553,
          14387.389447566562,
          15239.987598853573,
          16092.585750140584,
          16945.183901427594,
          17797.782052714603,
          18650.380204001616,
          19502.978355288626,
          20355.576506575635,
          21208.174657862644,
          22060.772809149654,
          22913.370960436667,
          23765.969111723676,
          24618.567263010686,
          25471.1654142977,
          26323.763565584708,
          27176.361716871717,
          28028.959868158727,
          28881.558019445736,
          29734.15617073275,
          30586.75432201976,
          31439.352473306768,
          32291.95062459378,
          33144.54877588079,
          33997.1469271678,
          34849.74507845481,
          35702.34322974182,
          36554.94138102883,
          37407.539532315845,
          38260.13768360285,
          39112.73583488986,
          39965.33398617687,
          40817.93213746388,
          41670.530288750895,
          42523.1284400379,
          43375.726591324914,
          44228.32474261192,
          45080.92289389893,
          45933.521045185946,
          46786.11919647295,
          47638.717347759964,
          48491.31549904698,
          49343.91365033398,
          50196.511801620996,
          51049.10995290801,
          51901.708104195015,
          52754.30625548203,
          53606.904406769034,
          54459.50255805605,
          55312.10070934306,
          56164.698860630066,
          57017.29701191708,
          57869.895163204084,
          58722.4933144911,
          59575.09146577811,
          60427.689617065116,
          61280.28776835213,
          62132.88591963914,
          62985.48407092615,
          63838.08222221316,
          64690.680373500174,
          65543.27852478718,
          66395.87667607419,
          67248.4748273612,
          68101.07297864821,
          68953.67112993522,
          69806.26928122224,
          70658.86743250924
         ],
         "yaxis": "y"
        }
       ],
       "layout": {
        "legend": {
         "title": {
          "text": "Country"
         },
         "tracegroupgap": 0
        },
        "plot_bgcolor": "rgba(0,0,0,0)",
        "template": {
         "data": {
          "bar": [
           {
            "error_x": {
             "color": "#2a3f5f"
            },
            "error_y": {
             "color": "#2a3f5f"
            },
            "marker": {
             "line": {
              "color": "#E5ECF6",
              "width": 0.5
             },
             "pattern": {
              "fillmode": "overlay",
              "size": 10,
              "solidity": 0.2
             }
            },
            "type": "bar"
           }
          ],
          "barpolar": [
           {
            "marker": {
             "line": {
              "color": "#E5ECF6",
              "width": 0.5
             },
             "pattern": {
              "fillmode": "overlay",
              "size": 10,
              "solidity": 0.2
             }
            },
            "type": "barpolar"
           }
          ],
          "carpet": [
           {
            "aaxis": {
             "endlinecolor": "#2a3f5f",
             "gridcolor": "white",
             "linecolor": "white",
             "minorgridcolor": "white",
             "startlinecolor": "#2a3f5f"
            },
            "baxis": {
             "endlinecolor": "#2a3f5f",
             "gridcolor": "white",
             "linecolor": "white",
             "minorgridcolor": "white",
             "startlinecolor": "#2a3f5f"
            },
            "type": "carpet"
           }
          ],
          "choropleth": [
           {
            "colorbar": {
             "outlinewidth": 0,
             "ticks": ""
            },
            "type": "choropleth"
           }
          ],
          "contour": [
           {
            "colorbar": {
             "outlinewidth": 0,
             "ticks": ""
            },
            "colorscale": [
             [
              0,
              "#0d0887"
             ],
             [
              0.1111111111111111,
              "#46039f"
             ],
             [
              0.2222222222222222,
              "#7201a8"
             ],
             [
              0.3333333333333333,
              "#9c179e"
             ],
             [
              0.4444444444444444,
              "#bd3786"
             ],
             [
              0.5555555555555556,
              "#d8576b"
             ],
             [
              0.6666666666666666,
              "#ed7953"
             ],
             [
              0.7777777777777778,
              "#fb9f3a"
             ],
             [
              0.8888888888888888,
              "#fdca26"
             ],
             [
              1,
              "#f0f921"
             ]
            ],
            "type": "contour"
           }
          ],
          "contourcarpet": [
           {
            "colorbar": {
             "outlinewidth": 0,
             "ticks": ""
            },
            "type": "contourcarpet"
           }
          ],
          "heatmap": [
           {
            "colorbar": {
             "outlinewidth": 0,
             "ticks": ""
            },
            "colorscale": [
             [
              0,
              "#0d0887"
             ],
             [
              0.1111111111111111,
              "#46039f"
             ],
             [
              0.2222222222222222,
              "#7201a8"
             ],
             [
              0.3333333333333333,
              "#9c179e"
             ],
             [
              0.4444444444444444,
              "#bd3786"
             ],
             [
              0.5555555555555556,
              "#d8576b"
             ],
             [
              0.6666666666666666,
              "#ed7953"
             ],
             [
              0.7777777777777778,
              "#fb9f3a"
             ],
             [
              0.8888888888888888,
              "#fdca26"
             ],
             [
              1,
              "#f0f921"
             ]
            ],
            "type": "heatmap"
           }
          ],
          "heatmapgl": [
           {
            "colorbar": {
             "outlinewidth": 0,
             "ticks": ""
            },
            "colorscale": [
             [
              0,
              "#0d0887"
             ],
             [
              0.1111111111111111,
              "#46039f"
             ],
             [
              0.2222222222222222,
              "#7201a8"
             ],
             [
              0.3333333333333333,
              "#9c179e"
             ],
             [
              0.4444444444444444,
              "#bd3786"
             ],
             [
              0.5555555555555556,
              "#d8576b"
             ],
             [
              0.6666666666666666,
              "#ed7953"
             ],
             [
              0.7777777777777778,
              "#fb9f3a"
             ],
             [
              0.8888888888888888,
              "#fdca26"
             ],
             [
              1,
              "#f0f921"
             ]
            ],
            "type": "heatmapgl"
           }
          ],
          "histogram": [
           {
            "marker": {
             "pattern": {
              "fillmode": "overlay",
              "size": 10,
              "solidity": 0.2
             }
            },
            "type": "histogram"
           }
          ],
          "histogram2d": [
           {
            "colorbar": {
             "outlinewidth": 0,
             "ticks": ""
            },
            "colorscale": [
             [
              0,
              "#0d0887"
             ],
             [
              0.1111111111111111,
              "#46039f"
             ],
             [
              0.2222222222222222,
              "#7201a8"
             ],
             [
              0.3333333333333333,
              "#9c179e"
             ],
             [
              0.4444444444444444,
              "#bd3786"
             ],
             [
              0.5555555555555556,
              "#d8576b"
             ],
             [
              0.6666666666666666,
              "#ed7953"
             ],
             [
              0.7777777777777778,
              "#fb9f3a"
             ],
             [
              0.8888888888888888,
              "#fdca26"
             ],
             [
              1,
              "#f0f921"
             ]
            ],
            "type": "histogram2d"
           }
          ],
          "histogram2dcontour": [
           {
            "colorbar": {
             "outlinewidth": 0,
             "ticks": ""
            },
            "colorscale": [
             [
              0,
              "#0d0887"
             ],
             [
              0.1111111111111111,
              "#46039f"
             ],
             [
              0.2222222222222222,
              "#7201a8"
             ],
             [
              0.3333333333333333,
              "#9c179e"
             ],
             [
              0.4444444444444444,
              "#bd3786"
             ],
             [
              0.5555555555555556,
              "#d8576b"
             ],
             [
              0.6666666666666666,
              "#ed7953"
             ],
             [
              0.7777777777777778,
              "#fb9f3a"
             ],
             [
              0.8888888888888888,
              "#fdca26"
             ],
             [
              1,
              "#f0f921"
             ]
            ],
            "type": "histogram2dcontour"
           }
          ],
          "mesh3d": [
           {
            "colorbar": {
             "outlinewidth": 0,
             "ticks": ""
            },
            "type": "mesh3d"
           }
          ],
          "parcoords": [
           {
            "line": {
             "colorbar": {
              "outlinewidth": 0,
              "ticks": ""
             }
            },
            "type": "parcoords"
           }
          ],
          "pie": [
           {
            "automargin": true,
            "type": "pie"
           }
          ],
          "scatter": [
           {
            "fillpattern": {
             "fillmode": "overlay",
             "size": 10,
             "solidity": 0.2
            },
            "type": "scatter"
           }
          ],
          "scatter3d": [
           {
            "line": {
             "colorbar": {
              "outlinewidth": 0,
              "ticks": ""
             }
            },
            "marker": {
             "colorbar": {
              "outlinewidth": 0,
              "ticks": ""
             }
            },
            "type": "scatter3d"
           }
          ],
          "scattercarpet": [
           {
            "marker": {
             "colorbar": {
              "outlinewidth": 0,
              "ticks": ""
             }
            },
            "type": "scattercarpet"
           }
          ],
          "scattergeo": [
           {
            "marker": {
             "colorbar": {
              "outlinewidth": 0,
              "ticks": ""
             }
            },
            "type": "scattergeo"
           }
          ],
          "scattergl": [
           {
            "marker": {
             "colorbar": {
              "outlinewidth": 0,
              "ticks": ""
             }
            },
            "type": "scattergl"
           }
          ],
          "scattermapbox": [
           {
            "marker": {
             "colorbar": {
              "outlinewidth": 0,
              "ticks": ""
             }
            },
            "type": "scattermapbox"
           }
          ],
          "scatterpolar": [
           {
            "marker": {
             "colorbar": {
              "outlinewidth": 0,
              "ticks": ""
             }
            },
            "type": "scatterpolar"
           }
          ],
          "scatterpolargl": [
           {
            "marker": {
             "colorbar": {
              "outlinewidth": 0,
              "ticks": ""
             }
            },
            "type": "scatterpolargl"
           }
          ],
          "scatterternary": [
           {
            "marker": {
             "colorbar": {
              "outlinewidth": 0,
              "ticks": ""
             }
            },
            "type": "scatterternary"
           }
          ],
          "surface": [
           {
            "colorbar": {
             "outlinewidth": 0,
             "ticks": ""
            },
            "colorscale": [
             [
              0,
              "#0d0887"
             ],
             [
              0.1111111111111111,
              "#46039f"
             ],
             [
              0.2222222222222222,
              "#7201a8"
             ],
             [
              0.3333333333333333,
              "#9c179e"
             ],
             [
              0.4444444444444444,
              "#bd3786"
             ],
             [
              0.5555555555555556,
              "#d8576b"
             ],
             [
              0.6666666666666666,
              "#ed7953"
             ],
             [
              0.7777777777777778,
              "#fb9f3a"
             ],
             [
              0.8888888888888888,
              "#fdca26"
             ],
             [
              1,
              "#f0f921"
             ]
            ],
            "type": "surface"
           }
          ],
          "table": [
           {
            "cells": {
             "fill": {
              "color": "#EBF0F8"
             },
             "line": {
              "color": "white"
             }
            },
            "header": {
             "fill": {
              "color": "#C8D4E3"
             },
             "line": {
              "color": "white"
             }
            },
            "type": "table"
           }
          ]
         },
         "layout": {
          "annotationdefaults": {
           "arrowcolor": "#2a3f5f",
           "arrowhead": 0,
           "arrowwidth": 1
          },
          "autotypenumbers": "strict",
          "coloraxis": {
           "colorbar": {
            "outlinewidth": 0,
            "ticks": ""
           }
          },
          "colorscale": {
           "diverging": [
            [
             0,
             "#8e0152"
            ],
            [
             0.1,
             "#c51b7d"
            ],
            [
             0.2,
             "#de77ae"
            ],
            [
             0.3,
             "#f1b6da"
            ],
            [
             0.4,
             "#fde0ef"
            ],
            [
             0.5,
             "#f7f7f7"
            ],
            [
             0.6,
             "#e6f5d0"
            ],
            [
             0.7,
             "#b8e186"
            ],
            [
             0.8,
             "#7fbc41"
            ],
            [
             0.9,
             "#4d9221"
            ],
            [
             1,
             "#276419"
            ]
           ],
           "sequential": [
            [
             0,
             "#0d0887"
            ],
            [
             0.1111111111111111,
             "#46039f"
            ],
            [
             0.2222222222222222,
             "#7201a8"
            ],
            [
             0.3333333333333333,
             "#9c179e"
            ],
            [
             0.4444444444444444,
             "#bd3786"
            ],
            [
             0.5555555555555556,
             "#d8576b"
            ],
            [
             0.6666666666666666,
             "#ed7953"
            ],
            [
             0.7777777777777778,
             "#fb9f3a"
            ],
            [
             0.8888888888888888,
             "#fdca26"
            ],
            [
             1,
             "#f0f921"
            ]
           ],
           "sequentialminus": [
            [
             0,
             "#0d0887"
            ],
            [
             0.1111111111111111,
             "#46039f"
            ],
            [
             0.2222222222222222,
             "#7201a8"
            ],
            [
             0.3333333333333333,
             "#9c179e"
            ],
            [
             0.4444444444444444,
             "#bd3786"
            ],
            [
             0.5555555555555556,
             "#d8576b"
            ],
            [
             0.6666666666666666,
             "#ed7953"
            ],
            [
             0.7777777777777778,
             "#fb9f3a"
            ],
            [
             0.8888888888888888,
             "#fdca26"
            ],
            [
             1,
             "#f0f921"
            ]
           ]
          },
          "colorway": [
           "#636efa",
           "#EF553B",
           "#00cc96",
           "#ab63fa",
           "#FFA15A",
           "#19d3f3",
           "#FF6692",
           "#B6E880",
           "#FF97FF",
           "#FECB52"
          ],
          "font": {
           "color": "#2a3f5f"
          },
          "geo": {
           "bgcolor": "white",
           "lakecolor": "white",
           "landcolor": "#E5ECF6",
           "showlakes": true,
           "showland": true,
           "subunitcolor": "white"
          },
          "hoverlabel": {
           "align": "left"
          },
          "hovermode": "closest",
          "mapbox": {
           "style": "light"
          },
          "paper_bgcolor": "white",
          "plot_bgcolor": "#E5ECF6",
          "polar": {
           "angularaxis": {
            "gridcolor": "white",
            "linecolor": "white",
            "ticks": ""
           },
           "bgcolor": "#E5ECF6",
           "radialaxis": {
            "gridcolor": "white",
            "linecolor": "white",
            "ticks": ""
           }
          },
          "scene": {
           "xaxis": {
            "backgroundcolor": "#E5ECF6",
            "gridcolor": "white",
            "gridwidth": 2,
            "linecolor": "white",
            "showbackground": true,
            "ticks": "",
            "zerolinecolor": "white"
           },
           "yaxis": {
            "backgroundcolor": "#E5ECF6",
            "gridcolor": "white",
            "gridwidth": 2,
            "linecolor": "white",
            "showbackground": true,
            "ticks": "",
            "zerolinecolor": "white"
           },
           "zaxis": {
            "backgroundcolor": "#E5ECF6",
            "gridcolor": "white",
            "gridwidth": 2,
            "linecolor": "white",
            "showbackground": true,
            "ticks": "",
            "zerolinecolor": "white"
           }
          },
          "shapedefaults": {
           "line": {
            "color": "#2a3f5f"
           }
          },
          "ternary": {
           "aaxis": {
            "gridcolor": "white",
            "linecolor": "white",
            "ticks": ""
           },
           "baxis": {
            "gridcolor": "white",
            "linecolor": "white",
            "ticks": ""
           },
           "bgcolor": "#E5ECF6",
           "caxis": {
            "gridcolor": "white",
            "linecolor": "white",
            "ticks": ""
           }
          },
          "title": {
           "x": 0.05
          },
          "xaxis": {
           "automargin": true,
           "gridcolor": "white",
           "linecolor": "white",
           "ticks": "",
           "title": {
            "standoff": 15
           },
           "zerolinecolor": "white",
           "zerolinewidth": 2
          },
          "yaxis": {
           "automargin": true,
           "gridcolor": "white",
           "linecolor": "white",
           "ticks": "",
           "title": {
            "standoff": 15
           },
           "zerolinecolor": "white",
           "zerolinewidth": 2
          }
         }
        },
        "title": {
         "font": {
          "color": "black",
          "family": "sans-serif",
          "size": 20,
          "weight": "bold"
         },
         "text": "Real GDP per Capita Over Time (EUR)"
        },
        "xaxis": {
         "anchor": "y",
         "domain": [
          0,
          1
         ],
         "title": {
          "text": "Year"
         }
        },
        "yaxis": {
         "anchor": "x",
         "domain": [
          0,
          1
         ],
         "title": {
          "text": "Real GDP per Capita"
         }
        }
       }
      }
     },
     "metadata": {},
     "output_type": "display_data"
    }
   ],
   "source": [
    "# Real GDP per capita over time\n",
    "euro_df.loc[:, 'Real GDP per Capita'] = euro_df['Real GDP'] / euro_df['Labour']\n",
    "\n",
    "fig = px.scatter(euro_df, x='Year', y='Real GDP per Capita', \n",
    "                 title = 'Real GDP per Capita Over Time (EUR)', \n",
    "                 labels={'Year': 'Year', 'Real GDP per Capita': 'Real GDP per Capita'}, \n",
    "                 trendline='ols',\n",
    "                 color = 'Country',\n",
    "                 color_continuous_scale='Blues')\n",
    "\n",
    "fig.update_layout(\n",
    "    plot_bgcolor='rgba(0,0,0,0)',\n",
    "    title_font=dict(family='sans-serif', size=20, color='black', weight='bold')\n",
    ")\n",
    "\n",
    "fig.update_traces(line=dict(color='#D3D3D3'), selector=dict(mode='lines'))\n",
    "fig.update_traces(marker=dict(opacity=0.75))\n",
    "\n",
    "fig.show()"
   ]
  },
  {
   "cell_type": "markdown",
   "metadata": {},
   "source": [
    "### **Regressions**"
   ]
  },
  {
   "cell_type": "code",
   "execution_count": 13,
   "metadata": {
    "vscode": {
     "languageId": "ruby"
    }
   },
   "outputs": [],
   "source": [
    "# Group every 5 rows and calculate the average\n",
    "df.loc[:, 'Real GDP per Capita'] = df['Real GDP'] / df['Labour']\n",
    "grouped_df = df.groupby(df.index // 5).agg({'Country': 'first', 'Currency Unit': 'first', 'Year': 'first', 'Real GDP': 'mean', 'Capital': 'mean', 'Labour': 'mean', 'Human Capital': 'mean', 'Real GDP per Capita': 'mean'})\n",
    "\n",
    "# Update the Year column to represent the grouped years\n",
    "grouped_df['Year'] = grouped_df['Year'].astype(str) + '-' + (grouped_df['Year'] + 4).astype(str)\n",
    "\n",
    "# Reset the index\n",
    "grouped_df.reset_index(drop=True, inplace=True)"
   ]
  },
  {
   "cell_type": "code",
   "execution_count": 14,
   "metadata": {},
   "outputs": [],
   "source": [
    "grouped_df['log_Real_GDP'] = np.log(grouped_df['Real GDP'])\n",
    "grouped_df['log_Capital'] = np.log(grouped_df['Capital']) \n",
    "grouped_df['log_Labour'] = np.log(grouped_df['Labour']) \n",
    "grouped_df['log_Human Capital'] = np.log(grouped_df['Human Capital'])"
   ]
  },
  {
   "cell_type": "code",
   "execution_count": 15,
   "metadata": {},
   "outputs": [
    {
     "name": "stdout",
     "output_type": "stream",
     "text": [
      "                                 OLS Regression Results                                \n",
      "=======================================================================================\n",
      "Dep. Variable:           log_Real_GDP   R-squared (uncentered):                   0.998\n",
      "Model:                            OLS   Adj. R-squared (uncentered):              0.998\n",
      "Method:                 Least Squares   F-statistic:                          4.261e+05\n",
      "Date:                Fri, 21 Feb 2025   Prob (F-statistic):                        0.00\n",
      "Time:                        17:27:36   Log-Likelihood:                         -1061.5\n",
      "No. Observations:                1544   AIC:                                      2127.\n",
      "Df Residuals:                    1542   BIC:                                      2138.\n",
      "Df Model:                           2                                                  \n",
      "Covariance Type:            nonrobust                                                  \n",
      "===============================================================================\n",
      "                  coef    std err          t      P>|t|      [0.025      0.975]\n",
      "-------------------------------------------------------------------------------\n",
      "log_Capital     0.8793      0.001    652.648      0.000       0.877       0.882\n",
      "log_Labour      0.1501      0.008     18.667      0.000       0.134       0.166\n",
      "==============================================================================\n",
      "Omnibus:                       47.826   Durbin-Watson:                   0.267\n",
      "Prob(Omnibus):                  0.000   Jarque-Bera (JB):               92.440\n",
      "Skew:                           0.206   Prob(JB):                     8.45e-21\n",
      "Kurtosis:                       4.126   Cond. No.                         8.39\n",
      "==============================================================================\n",
      "\n",
      "Notes:\n",
      "[1] R² is computed without centering (uncentered) since the model does not contain a constant.\n",
      "[2] Standard Errors assume that the covariance matrix of the errors is correctly specified.\n"
     ]
    }
   ],
   "source": [
    "formula = 'log_Real_GDP ~ log_Capital + log_Labour - 1'\n",
    "model = smf.ols(formula=formula, data=grouped_df).fit()\n",
    "print(model.summary())"
   ]
  },
  {
   "cell_type": "markdown",
   "metadata": {},
   "source": [
    "**α = 0.8793**  \n",
    "**β = 0.1501**"
   ]
  },
  {
   "cell_type": "code",
   "execution_count": 16,
   "metadata": {},
   "outputs": [],
   "source": [
    "grouped_df['Predicted_log_Real_GDP'] = model.predict(grouped_df[['log_Capital', 'log_Labour']])\n",
    "grouped_df['Predicted_Real_GDP'] = np.exp(grouped_df['Predicted_log_Real_GDP'])"
   ]
  },
  {
   "cell_type": "code",
   "execution_count": 17,
   "metadata": {},
   "outputs": [],
   "source": [
    "# I am looking at Australia\n",
    "aus_grouped_df = grouped_df[grouped_df['Country'] == 'Australia'].reset_index(drop=True).drop(columns=['Country', 'Currency Unit'])"
   ]
  },
  {
   "cell_type": "code",
   "execution_count": 18,
   "metadata": {},
   "outputs": [
    {
     "data": {
      "application/vnd.plotly.v1+json": {
       "config": {
        "plotlyServerURL": "https://plot.ly"
       },
       "data": [
        {
         "marker": {
          "color": "#4682B4"
         },
         "mode": "markers",
         "name": "Real GDP",
         "type": "scatter",
         "x": [
          "1950-1954",
          "1955-1959",
          "1960-1964",
          "1965-1969",
          "1970-1974",
          "1975-1979",
          "1980-1984",
          "1985-1989",
          "1990-1994",
          "1995-1999",
          "2000-2004",
          "2005-2009",
          "2010-2014",
          "2015-2019"
         ],
         "y": [
          134521.70625,
          164764.728125,
          202461.915625,
          262088.815625,
          330129.70625,
          377363.5375,
          430603.1375,
          516400.325,
          584448.25,
          709984.125,
          846538.0125,
          992777.7125,
          1135662.8,
          1281551.5
         ]
        },
        {
         "marker": {
          "color": "#ADD8E6",
          "opacity": 0.75
         },
         "mode": "markers",
         "name": "Predicted Real GDP",
         "type": "scatter",
         "x": [
          "1950-1954",
          "1955-1959",
          "1960-1964",
          "1965-1969",
          "1970-1974",
          "1975-1979",
          "1980-1984",
          "1985-1989",
          "1990-1994",
          "1995-1999",
          "2000-2004",
          "2005-2009",
          "2010-2014",
          "2015-2019"
         ],
         "y": [
          168717.75319478512,
          205872.628110099,
          248450.6949042943,
          302652.9156412476,
          368694.87856993836,
          428787.79083185527,
          499309.019004422,
          579192.4321109192,
          650205.0271229042,
          731920.5395910811,
          830752.1614004527,
          969866.0304686893,
          1128042.6324915937,
          1269392.82026553
         ]
        }
       ],
       "layout": {
        "plot_bgcolor": "rgba(0,0,0,0)",
        "template": {
         "data": {
          "bar": [
           {
            "error_x": {
             "color": "#2a3f5f"
            },
            "error_y": {
             "color": "#2a3f5f"
            },
            "marker": {
             "line": {
              "color": "#E5ECF6",
              "width": 0.5
             },
             "pattern": {
              "fillmode": "overlay",
              "size": 10,
              "solidity": 0.2
             }
            },
            "type": "bar"
           }
          ],
          "barpolar": [
           {
            "marker": {
             "line": {
              "color": "#E5ECF6",
              "width": 0.5
             },
             "pattern": {
              "fillmode": "overlay",
              "size": 10,
              "solidity": 0.2
             }
            },
            "type": "barpolar"
           }
          ],
          "carpet": [
           {
            "aaxis": {
             "endlinecolor": "#2a3f5f",
             "gridcolor": "white",
             "linecolor": "white",
             "minorgridcolor": "white",
             "startlinecolor": "#2a3f5f"
            },
            "baxis": {
             "endlinecolor": "#2a3f5f",
             "gridcolor": "white",
             "linecolor": "white",
             "minorgridcolor": "white",
             "startlinecolor": "#2a3f5f"
            },
            "type": "carpet"
           }
          ],
          "choropleth": [
           {
            "colorbar": {
             "outlinewidth": 0,
             "ticks": ""
            },
            "type": "choropleth"
           }
          ],
          "contour": [
           {
            "colorbar": {
             "outlinewidth": 0,
             "ticks": ""
            },
            "colorscale": [
             [
              0,
              "#0d0887"
             ],
             [
              0.1111111111111111,
              "#46039f"
             ],
             [
              0.2222222222222222,
              "#7201a8"
             ],
             [
              0.3333333333333333,
              "#9c179e"
             ],
             [
              0.4444444444444444,
              "#bd3786"
             ],
             [
              0.5555555555555556,
              "#d8576b"
             ],
             [
              0.6666666666666666,
              "#ed7953"
             ],
             [
              0.7777777777777778,
              "#fb9f3a"
             ],
             [
              0.8888888888888888,
              "#fdca26"
             ],
             [
              1,
              "#f0f921"
             ]
            ],
            "type": "contour"
           }
          ],
          "contourcarpet": [
           {
            "colorbar": {
             "outlinewidth": 0,
             "ticks": ""
            },
            "type": "contourcarpet"
           }
          ],
          "heatmap": [
           {
            "colorbar": {
             "outlinewidth": 0,
             "ticks": ""
            },
            "colorscale": [
             [
              0,
              "#0d0887"
             ],
             [
              0.1111111111111111,
              "#46039f"
             ],
             [
              0.2222222222222222,
              "#7201a8"
             ],
             [
              0.3333333333333333,
              "#9c179e"
             ],
             [
              0.4444444444444444,
              "#bd3786"
             ],
             [
              0.5555555555555556,
              "#d8576b"
             ],
             [
              0.6666666666666666,
              "#ed7953"
             ],
             [
              0.7777777777777778,
              "#fb9f3a"
             ],
             [
              0.8888888888888888,
              "#fdca26"
             ],
             [
              1,
              "#f0f921"
             ]
            ],
            "type": "heatmap"
           }
          ],
          "heatmapgl": [
           {
            "colorbar": {
             "outlinewidth": 0,
             "ticks": ""
            },
            "colorscale": [
             [
              0,
              "#0d0887"
             ],
             [
              0.1111111111111111,
              "#46039f"
             ],
             [
              0.2222222222222222,
              "#7201a8"
             ],
             [
              0.3333333333333333,
              "#9c179e"
             ],
             [
              0.4444444444444444,
              "#bd3786"
             ],
             [
              0.5555555555555556,
              "#d8576b"
             ],
             [
              0.6666666666666666,
              "#ed7953"
             ],
             [
              0.7777777777777778,
              "#fb9f3a"
             ],
             [
              0.8888888888888888,
              "#fdca26"
             ],
             [
              1,
              "#f0f921"
             ]
            ],
            "type": "heatmapgl"
           }
          ],
          "histogram": [
           {
            "marker": {
             "pattern": {
              "fillmode": "overlay",
              "size": 10,
              "solidity": 0.2
             }
            },
            "type": "histogram"
           }
          ],
          "histogram2d": [
           {
            "colorbar": {
             "outlinewidth": 0,
             "ticks": ""
            },
            "colorscale": [
             [
              0,
              "#0d0887"
             ],
             [
              0.1111111111111111,
              "#46039f"
             ],
             [
              0.2222222222222222,
              "#7201a8"
             ],
             [
              0.3333333333333333,
              "#9c179e"
             ],
             [
              0.4444444444444444,
              "#bd3786"
             ],
             [
              0.5555555555555556,
              "#d8576b"
             ],
             [
              0.6666666666666666,
              "#ed7953"
             ],
             [
              0.7777777777777778,
              "#fb9f3a"
             ],
             [
              0.8888888888888888,
              "#fdca26"
             ],
             [
              1,
              "#f0f921"
             ]
            ],
            "type": "histogram2d"
           }
          ],
          "histogram2dcontour": [
           {
            "colorbar": {
             "outlinewidth": 0,
             "ticks": ""
            },
            "colorscale": [
             [
              0,
              "#0d0887"
             ],
             [
              0.1111111111111111,
              "#46039f"
             ],
             [
              0.2222222222222222,
              "#7201a8"
             ],
             [
              0.3333333333333333,
              "#9c179e"
             ],
             [
              0.4444444444444444,
              "#bd3786"
             ],
             [
              0.5555555555555556,
              "#d8576b"
             ],
             [
              0.6666666666666666,
              "#ed7953"
             ],
             [
              0.7777777777777778,
              "#fb9f3a"
             ],
             [
              0.8888888888888888,
              "#fdca26"
             ],
             [
              1,
              "#f0f921"
             ]
            ],
            "type": "histogram2dcontour"
           }
          ],
          "mesh3d": [
           {
            "colorbar": {
             "outlinewidth": 0,
             "ticks": ""
            },
            "type": "mesh3d"
           }
          ],
          "parcoords": [
           {
            "line": {
             "colorbar": {
              "outlinewidth": 0,
              "ticks": ""
             }
            },
            "type": "parcoords"
           }
          ],
          "pie": [
           {
            "automargin": true,
            "type": "pie"
           }
          ],
          "scatter": [
           {
            "fillpattern": {
             "fillmode": "overlay",
             "size": 10,
             "solidity": 0.2
            },
            "type": "scatter"
           }
          ],
          "scatter3d": [
           {
            "line": {
             "colorbar": {
              "outlinewidth": 0,
              "ticks": ""
             }
            },
            "marker": {
             "colorbar": {
              "outlinewidth": 0,
              "ticks": ""
             }
            },
            "type": "scatter3d"
           }
          ],
          "scattercarpet": [
           {
            "marker": {
             "colorbar": {
              "outlinewidth": 0,
              "ticks": ""
             }
            },
            "type": "scattercarpet"
           }
          ],
          "scattergeo": [
           {
            "marker": {
             "colorbar": {
              "outlinewidth": 0,
              "ticks": ""
             }
            },
            "type": "scattergeo"
           }
          ],
          "scattergl": [
           {
            "marker": {
             "colorbar": {
              "outlinewidth": 0,
              "ticks": ""
             }
            },
            "type": "scattergl"
           }
          ],
          "scattermapbox": [
           {
            "marker": {
             "colorbar": {
              "outlinewidth": 0,
              "ticks": ""
             }
            },
            "type": "scattermapbox"
           }
          ],
          "scatterpolar": [
           {
            "marker": {
             "colorbar": {
              "outlinewidth": 0,
              "ticks": ""
             }
            },
            "type": "scatterpolar"
           }
          ],
          "scatterpolargl": [
           {
            "marker": {
             "colorbar": {
              "outlinewidth": 0,
              "ticks": ""
             }
            },
            "type": "scatterpolargl"
           }
          ],
          "scatterternary": [
           {
            "marker": {
             "colorbar": {
              "outlinewidth": 0,
              "ticks": ""
             }
            },
            "type": "scatterternary"
           }
          ],
          "surface": [
           {
            "colorbar": {
             "outlinewidth": 0,
             "ticks": ""
            },
            "colorscale": [
             [
              0,
              "#0d0887"
             ],
             [
              0.1111111111111111,
              "#46039f"
             ],
             [
              0.2222222222222222,
              "#7201a8"
             ],
             [
              0.3333333333333333,
              "#9c179e"
             ],
             [
              0.4444444444444444,
              "#bd3786"
             ],
             [
              0.5555555555555556,
              "#d8576b"
             ],
             [
              0.6666666666666666,
              "#ed7953"
             ],
             [
              0.7777777777777778,
              "#fb9f3a"
             ],
             [
              0.8888888888888888,
              "#fdca26"
             ],
             [
              1,
              "#f0f921"
             ]
            ],
            "type": "surface"
           }
          ],
          "table": [
           {
            "cells": {
             "fill": {
              "color": "#EBF0F8"
             },
             "line": {
              "color": "white"
             }
            },
            "header": {
             "fill": {
              "color": "#C8D4E3"
             },
             "line": {
              "color": "white"
             }
            },
            "type": "table"
           }
          ]
         },
         "layout": {
          "annotationdefaults": {
           "arrowcolor": "#2a3f5f",
           "arrowhead": 0,
           "arrowwidth": 1
          },
          "autotypenumbers": "strict",
          "coloraxis": {
           "colorbar": {
            "outlinewidth": 0,
            "ticks": ""
           }
          },
          "colorscale": {
           "diverging": [
            [
             0,
             "#8e0152"
            ],
            [
             0.1,
             "#c51b7d"
            ],
            [
             0.2,
             "#de77ae"
            ],
            [
             0.3,
             "#f1b6da"
            ],
            [
             0.4,
             "#fde0ef"
            ],
            [
             0.5,
             "#f7f7f7"
            ],
            [
             0.6,
             "#e6f5d0"
            ],
            [
             0.7,
             "#b8e186"
            ],
            [
             0.8,
             "#7fbc41"
            ],
            [
             0.9,
             "#4d9221"
            ],
            [
             1,
             "#276419"
            ]
           ],
           "sequential": [
            [
             0,
             "#0d0887"
            ],
            [
             0.1111111111111111,
             "#46039f"
            ],
            [
             0.2222222222222222,
             "#7201a8"
            ],
            [
             0.3333333333333333,
             "#9c179e"
            ],
            [
             0.4444444444444444,
             "#bd3786"
            ],
            [
             0.5555555555555556,
             "#d8576b"
            ],
            [
             0.6666666666666666,
             "#ed7953"
            ],
            [
             0.7777777777777778,
             "#fb9f3a"
            ],
            [
             0.8888888888888888,
             "#fdca26"
            ],
            [
             1,
             "#f0f921"
            ]
           ],
           "sequentialminus": [
            [
             0,
             "#0d0887"
            ],
            [
             0.1111111111111111,
             "#46039f"
            ],
            [
             0.2222222222222222,
             "#7201a8"
            ],
            [
             0.3333333333333333,
             "#9c179e"
            ],
            [
             0.4444444444444444,
             "#bd3786"
            ],
            [
             0.5555555555555556,
             "#d8576b"
            ],
            [
             0.6666666666666666,
             "#ed7953"
            ],
            [
             0.7777777777777778,
             "#fb9f3a"
            ],
            [
             0.8888888888888888,
             "#fdca26"
            ],
            [
             1,
             "#f0f921"
            ]
           ]
          },
          "colorway": [
           "#636efa",
           "#EF553B",
           "#00cc96",
           "#ab63fa",
           "#FFA15A",
           "#19d3f3",
           "#FF6692",
           "#B6E880",
           "#FF97FF",
           "#FECB52"
          ],
          "font": {
           "color": "#2a3f5f"
          },
          "geo": {
           "bgcolor": "white",
           "lakecolor": "white",
           "landcolor": "#E5ECF6",
           "showlakes": true,
           "showland": true,
           "subunitcolor": "white"
          },
          "hoverlabel": {
           "align": "left"
          },
          "hovermode": "closest",
          "mapbox": {
           "style": "light"
          },
          "paper_bgcolor": "white",
          "plot_bgcolor": "#E5ECF6",
          "polar": {
           "angularaxis": {
            "gridcolor": "white",
            "linecolor": "white",
            "ticks": ""
           },
           "bgcolor": "#E5ECF6",
           "radialaxis": {
            "gridcolor": "white",
            "linecolor": "white",
            "ticks": ""
           }
          },
          "scene": {
           "xaxis": {
            "backgroundcolor": "#E5ECF6",
            "gridcolor": "white",
            "gridwidth": 2,
            "linecolor": "white",
            "showbackground": true,
            "ticks": "",
            "zerolinecolor": "white"
           },
           "yaxis": {
            "backgroundcolor": "#E5ECF6",
            "gridcolor": "white",
            "gridwidth": 2,
            "linecolor": "white",
            "showbackground": true,
            "ticks": "",
            "zerolinecolor": "white"
           },
           "zaxis": {
            "backgroundcolor": "#E5ECF6",
            "gridcolor": "white",
            "gridwidth": 2,
            "linecolor": "white",
            "showbackground": true,
            "ticks": "",
            "zerolinecolor": "white"
           }
          },
          "shapedefaults": {
           "line": {
            "color": "#2a3f5f"
           }
          },
          "ternary": {
           "aaxis": {
            "gridcolor": "white",
            "linecolor": "white",
            "ticks": ""
           },
           "baxis": {
            "gridcolor": "white",
            "linecolor": "white",
            "ticks": ""
           },
           "bgcolor": "#E5ECF6",
           "caxis": {
            "gridcolor": "white",
            "linecolor": "white",
            "ticks": ""
           }
          },
          "title": {
           "x": 0.05
          },
          "xaxis": {
           "automargin": true,
           "gridcolor": "white",
           "linecolor": "white",
           "ticks": "",
           "title": {
            "standoff": 15
           },
           "zerolinecolor": "white",
           "zerolinewidth": 2
          },
          "yaxis": {
           "automargin": true,
           "gridcolor": "white",
           "linecolor": "white",
           "ticks": "",
           "title": {
            "standoff": 15
           },
           "zerolinecolor": "white",
           "zerolinewidth": 2
          }
         }
        },
        "title": {
         "font": {
          "color": "black",
          "family": "sans-serif",
          "size": 20,
          "weight": "bold"
         },
         "text": "Real GDP vs Predicted Real GDP"
        },
        "xaxis": {
         "tickformat": "%Y",
         "title": {
          "text": "Year"
         }
        },
        "yaxis": {
         "title": {
          "text": "GDP"
         }
        }
       }
      }
     },
     "metadata": {},
     "output_type": "display_data"
    }
   ],
   "source": [
    "# Actual Real GDP vs Predicted Real GDP \n",
    "import plotly.graph_objs as go\n",
    "\n",
    "# Scatter plot for Real GDP\n",
    "scatter_real_gdp = go.Scatter(\n",
    "    x=aus_grouped_df['Year'],\n",
    "    y=aus_grouped_df['Real GDP'],\n",
    "    mode='markers',\n",
    "    name='Real GDP',\n",
    "    marker=dict(color='#4682B4')\n",
    ")\n",
    "\n",
    "# Scatter plot for Predicted Real GDP\n",
    "scatter_predicted_gdp = go.Scatter(\n",
    "    x=aus_grouped_df['Year'],\n",
    "    y=aus_grouped_df['Predicted_Real_GDP'],\n",
    "    mode='markers',\n",
    "    name='Predicted Real GDP',\n",
    "    marker=dict(color='#ADD8E6', opacity=0.75)\n",
    ")\n",
    "\n",
    "# Create layout\n",
    "layout = go.Layout(\n",
    "    title='Real GDP vs Predicted Real GDP',\n",
    "    xaxis=dict(title='Year', tickformat='%Y'),\n",
    "    yaxis=dict(title='GDP')\n",
    ")\n",
    "\n",
    "# Create figure and add scatter plots\n",
    "fig = go.Figure(data=[scatter_real_gdp, scatter_predicted_gdp], layout=layout)\n",
    "\n",
    "fig.update_layout(\n",
    "    plot_bgcolor='rgba(0,0,0,0)',\n",
    "    title_font=dict(family='sans-serif', size=20, color='black', weight='bold')\n",
    ")\n",
    "\n",
    "# Show the figure\n",
    "fig.show()"
   ]
  },
  {
   "cell_type": "markdown",
   "metadata": {},
   "source": [
    "Quite accurate actually! Becomes more accurate recently"
   ]
  },
  {
   "cell_type": "code",
   "execution_count": 21,
   "metadata": {},
   "outputs": [],
   "source": [
    "# I am looking at Zimbabwe\n",
    "zim_grouped_df = grouped_df[grouped_df['Country'] == 'Zimbabwe'].reset_index(drop=True).drop(columns=['Country', 'Currency Unit'])"
   ]
  },
  {
   "cell_type": "code",
   "execution_count": 22,
   "metadata": {},
   "outputs": [
    {
     "data": {
      "application/vnd.plotly.v1+json": {
       "config": {
        "plotlyServerURL": "https://plot.ly"
       },
       "data": [
        {
         "marker": {
          "color": "#4682B4"
         },
         "mode": "markers",
         "name": "Real GDP",
         "type": "scatter",
         "x": [
          "1955-1959",
          "1960-1964",
          "1965-1969",
          "1970-1974",
          "1975-1979",
          "1980-1984",
          "1985-1989",
          "1990-1994",
          "1995-1999",
          "2000-2004",
          "2005-2009",
          "2010-2014",
          "2015-2019"
         ],
         "y": [
          5065.42509765625,
          6276.55869140625,
          7184.95400390625,
          11754.0908203125,
          12323.430859375,
          15101.99765625,
          17687.663671875,
          21136.76953125,
          23798.83125,
          20233.415234375,
          18202.6455078125,
          36934.174609375,
          43560.3671875
         ]
        },
        {
         "marker": {
          "color": "#ADD8E6",
          "opacity": 0.75
         },
         "mode": "markers",
         "name": "Predicted Real GDP",
         "type": "scatter",
         "x": [
          "1955-1959",
          "1960-1964",
          "1965-1969",
          "1970-1974",
          "1975-1979",
          "1980-1984",
          "1985-1989",
          "1990-1994",
          "1995-1999",
          "2000-2004",
          "2005-2009",
          "2010-2014",
          "2015-2019"
         ],
         "y": [
          14842.346456499918,
          14302.676939134168,
          13923.155360213956,
          14632.024102156303,
          15829.942464732892,
          16325.091093627716,
          16918.05816975674,
          18225.65837591614,
          19345.838975998726,
          20386.373816086165,
          19064.708518800588,
          20836.437231339383,
          23438.813191935507
         ]
        }
       ],
       "layout": {
        "plot_bgcolor": "rgba(0,0,0,0)",
        "template": {
         "data": {
          "bar": [
           {
            "error_x": {
             "color": "#2a3f5f"
            },
            "error_y": {
             "color": "#2a3f5f"
            },
            "marker": {
             "line": {
              "color": "#E5ECF6",
              "width": 0.5
             },
             "pattern": {
              "fillmode": "overlay",
              "size": 10,
              "solidity": 0.2
             }
            },
            "type": "bar"
           }
          ],
          "barpolar": [
           {
            "marker": {
             "line": {
              "color": "#E5ECF6",
              "width": 0.5
             },
             "pattern": {
              "fillmode": "overlay",
              "size": 10,
              "solidity": 0.2
             }
            },
            "type": "barpolar"
           }
          ],
          "carpet": [
           {
            "aaxis": {
             "endlinecolor": "#2a3f5f",
             "gridcolor": "white",
             "linecolor": "white",
             "minorgridcolor": "white",
             "startlinecolor": "#2a3f5f"
            },
            "baxis": {
             "endlinecolor": "#2a3f5f",
             "gridcolor": "white",
             "linecolor": "white",
             "minorgridcolor": "white",
             "startlinecolor": "#2a3f5f"
            },
            "type": "carpet"
           }
          ],
          "choropleth": [
           {
            "colorbar": {
             "outlinewidth": 0,
             "ticks": ""
            },
            "type": "choropleth"
           }
          ],
          "contour": [
           {
            "colorbar": {
             "outlinewidth": 0,
             "ticks": ""
            },
            "colorscale": [
             [
              0,
              "#0d0887"
             ],
             [
              0.1111111111111111,
              "#46039f"
             ],
             [
              0.2222222222222222,
              "#7201a8"
             ],
             [
              0.3333333333333333,
              "#9c179e"
             ],
             [
              0.4444444444444444,
              "#bd3786"
             ],
             [
              0.5555555555555556,
              "#d8576b"
             ],
             [
              0.6666666666666666,
              "#ed7953"
             ],
             [
              0.7777777777777778,
              "#fb9f3a"
             ],
             [
              0.8888888888888888,
              "#fdca26"
             ],
             [
              1,
              "#f0f921"
             ]
            ],
            "type": "contour"
           }
          ],
          "contourcarpet": [
           {
            "colorbar": {
             "outlinewidth": 0,
             "ticks": ""
            },
            "type": "contourcarpet"
           }
          ],
          "heatmap": [
           {
            "colorbar": {
             "outlinewidth": 0,
             "ticks": ""
            },
            "colorscale": [
             [
              0,
              "#0d0887"
             ],
             [
              0.1111111111111111,
              "#46039f"
             ],
             [
              0.2222222222222222,
              "#7201a8"
             ],
             [
              0.3333333333333333,
              "#9c179e"
             ],
             [
              0.4444444444444444,
              "#bd3786"
             ],
             [
              0.5555555555555556,
              "#d8576b"
             ],
             [
              0.6666666666666666,
              "#ed7953"
             ],
             [
              0.7777777777777778,
              "#fb9f3a"
             ],
             [
              0.8888888888888888,
              "#fdca26"
             ],
             [
              1,
              "#f0f921"
             ]
            ],
            "type": "heatmap"
           }
          ],
          "heatmapgl": [
           {
            "colorbar": {
             "outlinewidth": 0,
             "ticks": ""
            },
            "colorscale": [
             [
              0,
              "#0d0887"
             ],
             [
              0.1111111111111111,
              "#46039f"
             ],
             [
              0.2222222222222222,
              "#7201a8"
             ],
             [
              0.3333333333333333,
              "#9c179e"
             ],
             [
              0.4444444444444444,
              "#bd3786"
             ],
             [
              0.5555555555555556,
              "#d8576b"
             ],
             [
              0.6666666666666666,
              "#ed7953"
             ],
             [
              0.7777777777777778,
              "#fb9f3a"
             ],
             [
              0.8888888888888888,
              "#fdca26"
             ],
             [
              1,
              "#f0f921"
             ]
            ],
            "type": "heatmapgl"
           }
          ],
          "histogram": [
           {
            "marker": {
             "pattern": {
              "fillmode": "overlay",
              "size": 10,
              "solidity": 0.2
             }
            },
            "type": "histogram"
           }
          ],
          "histogram2d": [
           {
            "colorbar": {
             "outlinewidth": 0,
             "ticks": ""
            },
            "colorscale": [
             [
              0,
              "#0d0887"
             ],
             [
              0.1111111111111111,
              "#46039f"
             ],
             [
              0.2222222222222222,
              "#7201a8"
             ],
             [
              0.3333333333333333,
              "#9c179e"
             ],
             [
              0.4444444444444444,
              "#bd3786"
             ],
             [
              0.5555555555555556,
              "#d8576b"
             ],
             [
              0.6666666666666666,
              "#ed7953"
             ],
             [
              0.7777777777777778,
              "#fb9f3a"
             ],
             [
              0.8888888888888888,
              "#fdca26"
             ],
             [
              1,
              "#f0f921"
             ]
            ],
            "type": "histogram2d"
           }
          ],
          "histogram2dcontour": [
           {
            "colorbar": {
             "outlinewidth": 0,
             "ticks": ""
            },
            "colorscale": [
             [
              0,
              "#0d0887"
             ],
             [
              0.1111111111111111,
              "#46039f"
             ],
             [
              0.2222222222222222,
              "#7201a8"
             ],
             [
              0.3333333333333333,
              "#9c179e"
             ],
             [
              0.4444444444444444,
              "#bd3786"
             ],
             [
              0.5555555555555556,
              "#d8576b"
             ],
             [
              0.6666666666666666,
              "#ed7953"
             ],
             [
              0.7777777777777778,
              "#fb9f3a"
             ],
             [
              0.8888888888888888,
              "#fdca26"
             ],
             [
              1,
              "#f0f921"
             ]
            ],
            "type": "histogram2dcontour"
           }
          ],
          "mesh3d": [
           {
            "colorbar": {
             "outlinewidth": 0,
             "ticks": ""
            },
            "type": "mesh3d"
           }
          ],
          "parcoords": [
           {
            "line": {
             "colorbar": {
              "outlinewidth": 0,
              "ticks": ""
             }
            },
            "type": "parcoords"
           }
          ],
          "pie": [
           {
            "automargin": true,
            "type": "pie"
           }
          ],
          "scatter": [
           {
            "fillpattern": {
             "fillmode": "overlay",
             "size": 10,
             "solidity": 0.2
            },
            "type": "scatter"
           }
          ],
          "scatter3d": [
           {
            "line": {
             "colorbar": {
              "outlinewidth": 0,
              "ticks": ""
             }
            },
            "marker": {
             "colorbar": {
              "outlinewidth": 0,
              "ticks": ""
             }
            },
            "type": "scatter3d"
           }
          ],
          "scattercarpet": [
           {
            "marker": {
             "colorbar": {
              "outlinewidth": 0,
              "ticks": ""
             }
            },
            "type": "scattercarpet"
           }
          ],
          "scattergeo": [
           {
            "marker": {
             "colorbar": {
              "outlinewidth": 0,
              "ticks": ""
             }
            },
            "type": "scattergeo"
           }
          ],
          "scattergl": [
           {
            "marker": {
             "colorbar": {
              "outlinewidth": 0,
              "ticks": ""
             }
            },
            "type": "scattergl"
           }
          ],
          "scattermapbox": [
           {
            "marker": {
             "colorbar": {
              "outlinewidth": 0,
              "ticks": ""
             }
            },
            "type": "scattermapbox"
           }
          ],
          "scatterpolar": [
           {
            "marker": {
             "colorbar": {
              "outlinewidth": 0,
              "ticks": ""
             }
            },
            "type": "scatterpolar"
           }
          ],
          "scatterpolargl": [
           {
            "marker": {
             "colorbar": {
              "outlinewidth": 0,
              "ticks": ""
             }
            },
            "type": "scatterpolargl"
           }
          ],
          "scatterternary": [
           {
            "marker": {
             "colorbar": {
              "outlinewidth": 0,
              "ticks": ""
             }
            },
            "type": "scatterternary"
           }
          ],
          "surface": [
           {
            "colorbar": {
             "outlinewidth": 0,
             "ticks": ""
            },
            "colorscale": [
             [
              0,
              "#0d0887"
             ],
             [
              0.1111111111111111,
              "#46039f"
             ],
             [
              0.2222222222222222,
              "#7201a8"
             ],
             [
              0.3333333333333333,
              "#9c179e"
             ],
             [
              0.4444444444444444,
              "#bd3786"
             ],
             [
              0.5555555555555556,
              "#d8576b"
             ],
             [
              0.6666666666666666,
              "#ed7953"
             ],
             [
              0.7777777777777778,
              "#fb9f3a"
             ],
             [
              0.8888888888888888,
              "#fdca26"
             ],
             [
              1,
              "#f0f921"
             ]
            ],
            "type": "surface"
           }
          ],
          "table": [
           {
            "cells": {
             "fill": {
              "color": "#EBF0F8"
             },
             "line": {
              "color": "white"
             }
            },
            "header": {
             "fill": {
              "color": "#C8D4E3"
             },
             "line": {
              "color": "white"
             }
            },
            "type": "table"
           }
          ]
         },
         "layout": {
          "annotationdefaults": {
           "arrowcolor": "#2a3f5f",
           "arrowhead": 0,
           "arrowwidth": 1
          },
          "autotypenumbers": "strict",
          "coloraxis": {
           "colorbar": {
            "outlinewidth": 0,
            "ticks": ""
           }
          },
          "colorscale": {
           "diverging": [
            [
             0,
             "#8e0152"
            ],
            [
             0.1,
             "#c51b7d"
            ],
            [
             0.2,
             "#de77ae"
            ],
            [
             0.3,
             "#f1b6da"
            ],
            [
             0.4,
             "#fde0ef"
            ],
            [
             0.5,
             "#f7f7f7"
            ],
            [
             0.6,
             "#e6f5d0"
            ],
            [
             0.7,
             "#b8e186"
            ],
            [
             0.8,
             "#7fbc41"
            ],
            [
             0.9,
             "#4d9221"
            ],
            [
             1,
             "#276419"
            ]
           ],
           "sequential": [
            [
             0,
             "#0d0887"
            ],
            [
             0.1111111111111111,
             "#46039f"
            ],
            [
             0.2222222222222222,
             "#7201a8"
            ],
            [
             0.3333333333333333,
             "#9c179e"
            ],
            [
             0.4444444444444444,
             "#bd3786"
            ],
            [
             0.5555555555555556,
             "#d8576b"
            ],
            [
             0.6666666666666666,
             "#ed7953"
            ],
            [
             0.7777777777777778,
             "#fb9f3a"
            ],
            [
             0.8888888888888888,
             "#fdca26"
            ],
            [
             1,
             "#f0f921"
            ]
           ],
           "sequentialminus": [
            [
             0,
             "#0d0887"
            ],
            [
             0.1111111111111111,
             "#46039f"
            ],
            [
             0.2222222222222222,
             "#7201a8"
            ],
            [
             0.3333333333333333,
             "#9c179e"
            ],
            [
             0.4444444444444444,
             "#bd3786"
            ],
            [
             0.5555555555555556,
             "#d8576b"
            ],
            [
             0.6666666666666666,
             "#ed7953"
            ],
            [
             0.7777777777777778,
             "#fb9f3a"
            ],
            [
             0.8888888888888888,
             "#fdca26"
            ],
            [
             1,
             "#f0f921"
            ]
           ]
          },
          "colorway": [
           "#636efa",
           "#EF553B",
           "#00cc96",
           "#ab63fa",
           "#FFA15A",
           "#19d3f3",
           "#FF6692",
           "#B6E880",
           "#FF97FF",
           "#FECB52"
          ],
          "font": {
           "color": "#2a3f5f"
          },
          "geo": {
           "bgcolor": "white",
           "lakecolor": "white",
           "landcolor": "#E5ECF6",
           "showlakes": true,
           "showland": true,
           "subunitcolor": "white"
          },
          "hoverlabel": {
           "align": "left"
          },
          "hovermode": "closest",
          "mapbox": {
           "style": "light"
          },
          "paper_bgcolor": "white",
          "plot_bgcolor": "#E5ECF6",
          "polar": {
           "angularaxis": {
            "gridcolor": "white",
            "linecolor": "white",
            "ticks": ""
           },
           "bgcolor": "#E5ECF6",
           "radialaxis": {
            "gridcolor": "white",
            "linecolor": "white",
            "ticks": ""
           }
          },
          "scene": {
           "xaxis": {
            "backgroundcolor": "#E5ECF6",
            "gridcolor": "white",
            "gridwidth": 2,
            "linecolor": "white",
            "showbackground": true,
            "ticks": "",
            "zerolinecolor": "white"
           },
           "yaxis": {
            "backgroundcolor": "#E5ECF6",
            "gridcolor": "white",
            "gridwidth": 2,
            "linecolor": "white",
            "showbackground": true,
            "ticks": "",
            "zerolinecolor": "white"
           },
           "zaxis": {
            "backgroundcolor": "#E5ECF6",
            "gridcolor": "white",
            "gridwidth": 2,
            "linecolor": "white",
            "showbackground": true,
            "ticks": "",
            "zerolinecolor": "white"
           }
          },
          "shapedefaults": {
           "line": {
            "color": "#2a3f5f"
           }
          },
          "ternary": {
           "aaxis": {
            "gridcolor": "white",
            "linecolor": "white",
            "ticks": ""
           },
           "baxis": {
            "gridcolor": "white",
            "linecolor": "white",
            "ticks": ""
           },
           "bgcolor": "#E5ECF6",
           "caxis": {
            "gridcolor": "white",
            "linecolor": "white",
            "ticks": ""
           }
          },
          "title": {
           "x": 0.05
          },
          "xaxis": {
           "automargin": true,
           "gridcolor": "white",
           "linecolor": "white",
           "ticks": "",
           "title": {
            "standoff": 15
           },
           "zerolinecolor": "white",
           "zerolinewidth": 2
          },
          "yaxis": {
           "automargin": true,
           "gridcolor": "white",
           "linecolor": "white",
           "ticks": "",
           "title": {
            "standoff": 15
           },
           "zerolinecolor": "white",
           "zerolinewidth": 2
          }
         }
        },
        "title": {
         "font": {
          "color": "black",
          "family": "sans-serif",
          "size": 20,
          "weight": "bold"
         },
         "text": "Real GDP vs Predicted Real GDP"
        },
        "xaxis": {
         "tickformat": "%Y",
         "title": {
          "text": "Year"
         }
        },
        "yaxis": {
         "title": {
          "text": "GDP"
         }
        }
       }
      }
     },
     "metadata": {},
     "output_type": "display_data"
    }
   ],
   "source": [
    "# Actual Real GDP vs Predicted Real GDP \n",
    "import plotly.graph_objs as go\n",
    "\n",
    "# Scatter plot for Real GDP\n",
    "scatter_real_gdp = go.Scatter(\n",
    "    x=zim_grouped_df['Year'],\n",
    "    y=zim_grouped_df['Real GDP'],\n",
    "    mode='markers',\n",
    "    name='Real GDP',\n",
    "    marker=dict(color='#4682B4')\n",
    ")\n",
    "\n",
    "# Scatter plot for Predicted Real GDP\n",
    "scatter_predicted_gdp = go.Scatter(\n",
    "    x=zim_grouped_df['Year'],\n",
    "    y=zim_grouped_df['Predicted_Real_GDP'],\n",
    "    mode='markers',\n",
    "    name='Predicted Real GDP',\n",
    "    marker=dict(color='#ADD8E6', opacity=0.75)\n",
    ")\n",
    "\n",
    "# Create layout\n",
    "layout = go.Layout(\n",
    "    title='Real GDP vs Predicted Real GDP',\n",
    "    xaxis=dict(title='Year', tickformat='%Y'),\n",
    "    yaxis=dict(title='GDP')\n",
    ")\n",
    "\n",
    "# Create figure and add scatter plots\n",
    "fig = go.Figure(data=[scatter_real_gdp, scatter_predicted_gdp], layout=layout)\n",
    "\n",
    "fig.update_layout(\n",
    "    plot_bgcolor='rgba(0,0,0,0)',\n",
    "    title_font=dict(family='sans-serif', size=20, color='black', weight='bold')\n",
    ")\n",
    "\n",
    "# Show the figure\n",
    "fig.show()"
   ]
  },
  {
   "cell_type": "markdown",
   "metadata": {},
   "source": [
    "Much less accurate!"
   ]
  }
 ],
 "metadata": {
  "kernelspec": {
   "display_name": "Python (myenv)",
   "language": "python",
   "name": "myenv"
  },
  "language_info": {
   "codemirror_mode": {
    "name": "ipython",
    "version": 3
   },
   "file_extension": ".py",
   "mimetype": "text/x-python",
   "name": "python",
   "nbconvert_exporter": "python",
   "pygments_lexer": "ipython3",
   "version": "3.12.7"
  }
 },
 "nbformat": 4,
 "nbformat_minor": 2
}
